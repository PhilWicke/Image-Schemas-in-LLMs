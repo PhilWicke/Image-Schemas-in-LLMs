{
 "cells": [
  {
   "cell_type": "code",
   "execution_count": 50,
   "metadata": {},
   "outputs": [],
   "source": [
    "import pandas as pd\n",
    "import openai\n",
    "import time\n",
    "import re\n",
    "from scipy import stats\n",
    "from sklearn.metrics import mean_absolute_error\n",
    "import pickle\n",
    "import numpy as np\n",
    "import matplotlib.pyplot as plt\n",
    "from transformers import AutoTokenizer, AutoModelForCausalLM\n",
    "import datetime \n",
    "\n",
    "\n",
    "api_key = open('openai.key', 'r').read()\n",
    "openai.api_key = api_key"
   ]
  },
  {
   "cell_type": "markdown",
   "metadata": {},
   "source": [
    "# Prompt Preperation and Helper Methods"
   ]
  },
  {
   "cell_type": "markdown",
   "metadata": {},
   "source": [
    "Description from paper: \n",
    "- The participants in this study were first asked to stand up and focus on different aspects of their bodily experience of standing in the same way as did participants in Experiment 1.\n",
    "- Following this, we introduced the five image schemas of BALANCE, VERTICALITY, CENTER-PERIPHERY, RESISTANCE, and LINKAGE as was done in Experiment 1"
   ]
  },
  {
   "cell_type": "code",
   "execution_count": 51,
   "metadata": {},
   "outputs": [],
   "source": [
    "DEFINITIONS = {\n",
    "    \"VERTICALITY\": \"Consider the notion of VERTICALITY. Verticality refers to the sense of an extension along an up—down orientation.\",\n",
    "    \"BALANCE\": \"Consider the notion of BALANCE. Balance refers to your sense of symmetry or stability relative to some point within your body.\",\n",
    "    \"CENTER-PERIPHERY\": \"Consider the notion of CENTER-PERIPHERY. Center-periphery refers to the experience of some objects or events as central while surrounding objects and events are peripheral or to the outside.\",\n",
    "    \"LINKAGE\": \"Consider the notion of LINKAGE. Linkage refers to the perception of a connection between objects or events.\",\n",
    "    \"RESISTANCE\": \"Consider the notion of RESISTANCE. Resistance refers to the experience of your body opposing some external force.\"\n",
    "}"
   ]
  },
  {
   "cell_type": "code",
   "execution_count": 52,
   "metadata": {},
   "outputs": [
    {
     "name": "stdout",
     "output_type": "stream",
     "text": [
      "32\n",
      "32\n"
     ]
    }
   ],
   "source": [
    "exp_3_df = pd.read_csv('../../data/Gibbs_Exp3.csv', sep=';')\n",
    "# drop nan rows\n",
    "exp_3_df = exp_3_df.dropna()\n",
    "exp_4_df = pd.read_csv('../../data/Gibbs_Exp4.csv', sep=';')\n",
    "STIMULI_EXP3 = exp_3_df['Stimulus'].values\n",
    "STIMULI_EXP4 = exp_4_df['Stimulus'].values\n",
    "print(len(STIMULI_EXP3))\n",
    "print(len(STIMULI_EXP4))"
   ]
  },
  {
   "cell_type": "code",
   "execution_count": 53,
   "metadata": {},
   "outputs": [],
   "source": [
    "# create prompts\n",
    "prompts_exp3 = {\"VERTICALITY\":[], \"BALANCE\":[], \"CENTER-PERIPHERY\":[], \"LINKAGE\":[], \"RESISTANCE\":[]}\n",
    "prompts_exp4 = {\"VERTICALITY\":[], \"BALANCE\":[], \"CENTER-PERIPHERY\":[], \"LINKAGE\":[], \"RESISTANCE\":[]}\n",
    "\n",
    "\n",
    "\n",
    "for i in range(len(STIMULI_EXP3)):\n",
    "    prompt_ending =  \"How strongly is the phrase ''\" + STIMULI_EXP3[i] + \"'' related to this notion on a scale from 1 (not at all related) to 7 (very strongly related)?\"\n",
    "    prompts_exp3[\"VERTICALITY\"].append(DEFINITIONS[\"VERTICALITY\"] + \"\\n\" + prompt_ending)\n",
    "    prompts_exp3[\"BALANCE\"].append(DEFINITIONS[\"BALANCE\"] + \"\\n\" + prompt_ending)\n",
    "    prompts_exp3[\"CENTER-PERIPHERY\"].append(DEFINITIONS[\"CENTER-PERIPHERY\"] + \"\\n\" + prompt_ending)\n",
    "    prompts_exp3[\"LINKAGE\"].append(DEFINITIONS[\"LINKAGE\"] + \"\\n\" + prompt_ending)\n",
    "    prompts_exp3[\"RESISTANCE\"].append(DEFINITIONS[\"RESISTANCE\"] + \"\\n\" + prompt_ending)\n",
    "\n",
    "for i in range(len(STIMULI_EXP4)):\n",
    "    prompt_ending =  \"How strongly is the phrase ''\" + STIMULI_EXP4[i] + \"'' related to this notion on a scale from 1 (not at all related) to 7 (very strongly related)?\"\n",
    "    prompts_exp4[\"VERTICALITY\"].append(DEFINITIONS[\"VERTICALITY\"] + \"\\n\" + prompt_ending)\n",
    "    prompts_exp4[\"BALANCE\"].append(DEFINITIONS[\"BALANCE\"] + \"\\n\" + prompt_ending)\n",
    "    prompts_exp4[\"CENTER-PERIPHERY\"].append(DEFINITIONS[\"CENTER-PERIPHERY\"] + \"\\n\" + prompt_ending)\n",
    "    prompts_exp4[\"LINKAGE\"].append(DEFINITIONS[\"LINKAGE\"] + \"\\n\" + prompt_ending)\n",
    "    prompts_exp4[\"RESISTANCE\"].append(DEFINITIONS[\"RESISTANCE\"] + \"\\n\" + prompt_ending)"
   ]
  },
  {
   "cell_type": "code",
   "execution_count": 71,
   "metadata": {},
   "outputs": [],
   "source": [
    "# variants with which GPT can be prompted to generate the questionnaire answers\n",
    "def gpt_complete(prompt, model):\n",
    "    temperature = 0\n",
    "    # the create functiosn differ for chat and non-chat models\n",
    "    if \"turbo\" in model:\n",
    "        system_message=\"You are a participant in a research experiment.\"\n",
    "        return openai.ChatCompletion.create(\n",
    "            model=model,\n",
    "            messages=[ {\"role\": \"system\", \"content\": system_message},\n",
    "                {\"role\": \"user\", \"content\": prompt}],\n",
    "            temperature=temperature,\n",
    "            max_tokens=100\n",
    "            )\n",
    "    else:\n",
    "        return openai.Completion.create(\n",
    "            model=model,\n",
    "            prompt=prompt,\n",
    "            temperature=temperature,\n",
    "            max_tokens=5000\n",
    "        ) \n",
    "\n",
    "def gpt_complete_proba(prompt, model, prompt_ending):\n",
    "    # get the probability distribution over the next token for the tokens 1, 2, 3, 4, 5, 6, 7\n",
    "    temperature = 0\n",
    "    proba_list = []\n",
    "    debug = []\n",
    "    for i in range(1, 8):\n",
    "        next_prompt = prompt + prompt_ending + str(i)\n",
    "        print(next_prompt)\n",
    "        \n",
    "        if \"turbo\" in model:\n",
    "            system_message=\"You are a participant in a research experiment.\"\n",
    "            result = openai.ChatCompletion.create(                                          # TODO: add logprobs once available in the API! \n",
    "                model=model,\n",
    "                messages=[ {\"role\": \"system\", \"content\": system_message},\n",
    "                    {\"role\": \"user\", \"content\": next_prompt}],\n",
    "                temperature=temperature,\n",
    "                max_tokens=1,\n",
    "            )\n",
    "\n",
    "        else:\n",
    "            result = openai.Completion.create(\n",
    "                model=model,\n",
    "                prompt=next_prompt,\n",
    "                max_tokens=1,\n",
    "                temperature=temperature,\n",
    "                logprobs=1,\n",
    "                echo=True\n",
    "            )\n",
    "        debug.append(result)\n",
    "        #print(result)\n",
    "        # the index of i in the list of tokens\n",
    "        index = result[\"choices\"][0][\"logprobs\"][\"tokens\"].index(str(i))\n",
    "        print(\"index:\", index)\n",
    "        print(\"log prob:\", result[\"choices\"][0][\"logprobs\"][\"token_logprobs\"][index])\n",
    "        print(\"prob:\", np.exp(result[\"choices\"][0][\"logprobs\"][\"token_logprobs\"][index]))\n",
    "        print(\"token:\", result[\"choices\"][0][\"logprobs\"][\"tokens\"][index])\n",
    "        print()\n",
    "        log_prob_result=result[\"choices\"][0][\"logprobs\"][\"token_logprobs\"][index]\n",
    "        prob_result = np.exp(log_prob_result)\n",
    "        proba_list.append(prob_result)\n",
    "        # wait 20 seconds to avoid exceeding the API rate limit\n",
    "        time.sleep(21)\n",
    "    average_completion = 0\n",
    "    for i in range(1, 8):\n",
    "        average_completion += i * proba_list[i-1]\n",
    "    average_completion = average_completion / sum(proba_list)      # TODO: verify this is the right operation\n",
    "\n",
    "    return proba_list, average_completion, debug\n",
    "\n",
    " \n",
    "def gpt_complete_reasoning(prompt, model):\n",
    "    prompt += \"Reason step by step: \\n\"\n",
    "    return gpt_complete(prompt, model)\n",
    "\n",
    "def gpt_with_nearly_full_instructions(model, image_schema, stimuli):\n",
    "    prompt = DEFINITIONS[image_schema]\n",
    "    prompt += \"\\n\\n\" + \"Rate the following 32 stimuli on a scale from 1 (not at all related) to 7 (very strongly related) in regards to how related they are to this notion: \\n\"\n",
    "    for i in range(1, len(stimuli)+1):\n",
    "        prompt += str(i) + \": \"+ stimuli[i-1] + \"\\n\"\n",
    "    return gpt_complete(prompt, model)\n",
    "\n",
    "def gpt_with_full_instructions(model, stimuli):\n",
    "    prompt = \"\"\n",
    "    for d in DEFINITIONS.values():\n",
    "        prompt += d + \"\\n\\n\"\n",
    "    prompt += \"Rate the following 32 stimuli on a scale from 1 (not at all related) to 7 (very strongly related) in regards to how related they are to these 5 notions. You will need to provide 5 scores per stimulus: \\n\"\n",
    "    for i in range(1, len(stimuli)+1):\n",
    "        prompt += str(i) + \": \"+ stimuli[i-1] + \"\\n\"\n",
    "    prompt += \"\\n\\n\" +\"Give each stimulus 5 ratings (VERTICALITY, BALANCE, CENTER-PERIPHERY, LINKAGE, RESISTANCE): \"\n",
    "    return gpt_complete(prompt, model)\n",
    "    \n",
    "\n",
    "def gpt_simulate_human(prompt, model, name, gender):           # TE paradigm \n",
    "    prompt = name + \" was asked to...\" + name +\" responded with the number: \" + prompt\n",
    "    pass"
   ]
  },
  {
   "cell_type": "code",
   "execution_count": 67,
   "metadata": {},
   "outputs": [],
   "source": [
    "def hf_complete(prompt, model):\n",
    "    pass\n",
    "\n",
    "def hf_complete_proba(prompt, model):\n",
    "    pass"
   ]
  },
  {
   "cell_type": "markdown",
   "metadata": {},
   "source": [
    "# Finding a Good Way of How to End a Prompt \n",
    "(maximize valid answers without looking at the content of the answer)"
   ]
  },
  {
   "cell_type": "code",
   "execution_count": 86,
   "metadata": {},
   "outputs": [],
   "source": [
    "# compute the sum of log probabilities attributed to the 7 allowed scores over X samples\n",
    "def log_prob_sum(input_samples, model, prompt_ending):\n",
    "    proba_sum = 0\n",
    "    avg_output_list = []\n",
    "    for prompt in input_samples:\n",
    "        proba_list, avg_likert, debug = gpt_complete_proba(prompt, model, prompt_ending)\n",
    "        proba_sum += sum(proba_list)\n",
    "        avg_output_list.append(avg_likert)\n",
    "    return proba_sum, avg_output_list       # return sum and the list of average likert scores per prompt\n"
   ]
  },
  {
   "cell_type": "markdown",
   "metadata": {},
   "source": [
    "The following endings will be tested:\n",
    "- \"\\n\\n\"\n",
    "- \"\\n\"\n",
    "- \"Only answer with the score: \\n\\n\"\n",
    "\n",
    "We will also check if the content of the ouput differs a lot or stays rather similar."
   ]
  },
  {
   "cell_type": "code",
   "execution_count": 88,
   "metadata": {},
   "outputs": [
    {
     "name": "stdout",
     "output_type": "stream",
     "text": [
      "Consider the notion of VERTICALITY. Verticality refers to the sense of an extension along an up—down orientation.\n",
      "How strongly is the phrase ''stand at attention'' related to this notion on a scale from 1 (not at all related) to 7 (very strongly related)? Only answer with the score: \n",
      "\n",
      "1\n",
      "index: 67\n",
      "log prob: -18.352625\n",
      "prob: 1.0704249765345953e-08\n",
      "token: 1\n",
      "\n",
      "Consider the notion of VERTICALITY. Verticality refers to the sense of an extension along an up—down orientation.\n",
      "How strongly is the phrase ''stand at attention'' related to this notion on a scale from 1 (not at all related) to 7 (very strongly related)? Only answer with the score: \n",
      "\n",
      "2\n",
      "index: 67\n",
      "log prob: -19.194883\n",
      "prob: 4.610714512879654e-09\n",
      "token: 2\n",
      "\n",
      "Consider the notion of VERTICALITY. Verticality refers to the sense of an extension along an up—down orientation.\n",
      "How strongly is the phrase ''stand at attention'' related to this notion on a scale from 1 (not at all related) to 7 (very strongly related)? Only answer with the score: \n",
      "\n",
      "3\n",
      "index: 67\n",
      "log prob: -18.088142\n",
      "prob: 1.3945039267320009e-08\n",
      "token: 3\n",
      "\n",
      "Consider the notion of VERTICALITY. Verticality refers to the sense of an extension along an up—down orientation.\n",
      "How strongly is the phrase ''stand at attention'' related to this notion on a scale from 1 (not at all related) to 7 (very strongly related)? Only answer with the score: \n",
      "\n",
      "4\n",
      "index: 67\n",
      "log prob: -17.219639\n",
      "prob: 3.323577436633709e-08\n",
      "token: 4\n",
      "\n",
      "Consider the notion of VERTICALITY. Verticality refers to the sense of an extension along an up—down orientation.\n",
      "How strongly is the phrase ''stand at attention'' related to this notion on a scale from 1 (not at all related) to 7 (very strongly related)? Only answer with the score: \n",
      "\n",
      "5\n",
      "index: 67\n",
      "log prob: -14.891356\n",
      "prob: 3.410093297726761e-07\n",
      "token: 5\n",
      "\n",
      "Consider the notion of VERTICALITY. Verticality refers to the sense of an extension along an up—down orientation.\n",
      "How strongly is the phrase ''stand at attention'' related to this notion on a scale from 1 (not at all related) to 7 (very strongly related)? Only answer with the score: \n",
      "\n",
      "6\n",
      "index: 67\n",
      "log prob: -12.829559\n",
      "prob: 2.6803611903603255e-06\n",
      "token: 6\n",
      "\n",
      "Consider the notion of VERTICALITY. Verticality refers to the sense of an extension along an up—down orientation.\n",
      "How strongly is the phrase ''stand at attention'' related to this notion on a scale from 1 (not at all related) to 7 (very strongly related)? Only answer with the score: \n",
      "\n",
      "7\n",
      "index: 67\n",
      "log prob: -8.495144e-05\n",
      "prob: 0.9999150521682714\n",
      "token: 7\n",
      "\n",
      "Consider the notion of VERTICALITY. Verticality refers to the sense of an extension along an up—down orientation.\n",
      "How strongly is the phrase ''stand at attention'' related to this notion on a scale from 1 (not at all related) to 7 (very strongly related)?\n",
      "\n",
      "1\n",
      "index: 60\n",
      "log prob: -19.930254\n",
      "prob: 2.2100427007435315e-09\n",
      "token: 1\n",
      "\n",
      "Consider the notion of VERTICALITY. Verticality refers to the sense of an extension along an up—down orientation.\n",
      "How strongly is the phrase ''stand at attention'' related to this notion on a scale from 1 (not at all related) to 7 (very strongly related)?\n",
      "\n",
      "2\n",
      "index: 60\n",
      "log prob: -20.806711\n",
      "prob: 9.199415320725837e-10\n",
      "token: 2\n",
      "\n",
      "Consider the notion of VERTICALITY. Verticality refers to the sense of an extension along an up—down orientation.\n",
      "How strongly is the phrase ''stand at attention'' related to this notion on a scale from 1 (not at all related) to 7 (very strongly related)?\n",
      "\n",
      "3\n",
      "index: 60\n",
      "log prob: -19.541023\n",
      "prob: 3.261681424980065e-09\n",
      "token: 3\n",
      "\n",
      "Consider the notion of VERTICALITY. Verticality refers to the sense of an extension along an up—down orientation.\n",
      "How strongly is the phrase ''stand at attention'' related to this notion on a scale from 1 (not at all related) to 7 (very strongly related)?\n",
      "\n",
      "4\n",
      "index: 60\n",
      "log prob: -18.19324\n",
      "prob: 1.2553830485123633e-08\n",
      "token: 4\n",
      "\n",
      "Consider the notion of VERTICALITY. Verticality refers to the sense of an extension along an up—down orientation.\n",
      "How strongly is the phrase ''stand at attention'' related to this notion on a scale from 1 (not at all related) to 7 (very strongly related)?\n",
      "\n",
      "5\n",
      "index: 60\n",
      "log prob: -13.920592\n",
      "prob: 9.002512013100905e-07\n",
      "token: 5\n",
      "\n",
      "Consider the notion of VERTICALITY. Verticality refers to the sense of an extension along an up—down orientation.\n",
      "How strongly is the phrase ''stand at attention'' related to this notion on a scale from 1 (not at all related) to 7 (very strongly related)?\n",
      "\n",
      "6\n",
      "index: 60\n",
      "log prob: -10.061197\n",
      "prob: 4.2704895311646337e-05\n",
      "token: 6\n",
      "\n",
      "Consider the notion of VERTICALITY. Verticality refers to the sense of an extension along an up—down orientation.\n",
      "How strongly is the phrase ''stand at attention'' related to this notion on a scale from 1 (not at all related) to 7 (very strongly related)?\n",
      "\n",
      "7\n",
      "index: 60\n",
      "log prob: -0.00020966532\n",
      "prob: 0.9997903566582371\n",
      "token: 7\n",
      "\n",
      "Consider the notion of VERTICALITY. Verticality refers to the sense of an extension along an up—down orientation.\n",
      "How strongly is the phrase ''stand at attention'' related to this notion on a scale from 1 (not at all related) to 7 (very strongly related)?\n",
      "1\n",
      "index: 59\n",
      "log prob: -17.52034\n",
      "prob: 2.4604413488463948e-08\n",
      "token: 1\n",
      "\n",
      "Consider the notion of VERTICALITY. Verticality refers to the sense of an extension along an up—down orientation.\n",
      "How strongly is the phrase ''stand at attention'' related to this notion on a scale from 1 (not at all related) to 7 (very strongly related)?\n",
      "2\n",
      "index: 59\n",
      "log prob: -18.05919\n",
      "prob: 1.4354677351650949e-08\n",
      "token: 2\n",
      "\n",
      "Consider the notion of VERTICALITY. Verticality refers to the sense of an extension along an up—down orientation.\n",
      "How strongly is the phrase ''stand at attention'' related to this notion on a scale from 1 (not at all related) to 7 (very strongly related)?\n",
      "3\n",
      "index: 59\n",
      "log prob: -17.32741\n",
      "prob: 2.984018087901599e-08\n",
      "token: 3\n",
      "\n",
      "Consider the notion of VERTICALITY. Verticality refers to the sense of an extension along an up—down orientation.\n",
      "How strongly is the phrase ''stand at attention'' related to this notion on a scale from 1 (not at all related) to 7 (very strongly related)?\n",
      "4\n",
      "index: 59\n",
      "log prob: -16.496431\n",
      "prob: 6.85000747799996e-08\n",
      "token: 4\n",
      "\n",
      "Consider the notion of VERTICALITY. Verticality refers to the sense of an extension along an up—down orientation.\n",
      "How strongly is the phrase ''stand at attention'' related to this notion on a scale from 1 (not at all related) to 7 (very strongly related)?\n",
      "5\n",
      "index: 59\n",
      "log prob: -13.635523\n",
      "prob: 1.1972024673932743e-06\n",
      "token: 5\n",
      "\n",
      "Consider the notion of VERTICALITY. Verticality refers to the sense of an extension along an up—down orientation.\n",
      "How strongly is the phrase ''stand at attention'' related to this notion on a scale from 1 (not at all related) to 7 (very strongly related)?\n",
      "6\n",
      "index: 59\n",
      "log prob: -10.656835\n",
      "prob: 2.353939870503041e-05\n",
      "token: 6\n",
      "\n",
      "Consider the notion of VERTICALITY. Verticality refers to the sense of an extension along an up—down orientation.\n",
      "How strongly is the phrase ''stand at attention'' related to this notion on a scale from 1 (not at all related) to 7 (very strongly related)?\n",
      "7\n",
      "index: 59\n",
      "log prob: -3.4002676\n",
      "prob: 0.03336434046810405\n",
      "token: 7\n",
      "\n",
      "Prompt Ending:  Only answer with the score: \\n\\n\n",
      "Probability Sum: 0.9999181360345694\n",
      "Average Probability: 0.9999181360345694\n",
      "Average score difference to Prompt Ending \\n\\n : 4.097592570317943e-05\n",
      "Average score difference to Prompt Ending \\n : 0.0007894070613145843\n",
      "\n",
      "Prompt Ending: \\n\\n\n",
      "Probability Sum: 0.9998339807502462\n",
      "Average Probability: 0.9998339807502462\n",
      "Average score difference to Prompt Ending  Only answer with the score: \\n\\n : 4.097592570317943e-05\n",
      "Average score difference to Prompt Ending \\n : 0.0007484311356114048\n",
      "\n",
      "Prompt Ending: \\n\n",
      "Probability Sum: 0.03338921436862297\n",
      "Average Probability: 0.03338921436862297\n",
      "Average score difference to Prompt Ending  Only answer with the score: \\n\\n : 0.0007894070613145843\n",
      "Average score difference to Prompt Ending \\n\\n : 0.0007484311356114048\n",
      "\n"
     ]
    }
   ],
   "source": [
    "model = \"text-davinci-003\"\n",
    "test_inputs=[]\n",
    "score_sums=[]\n",
    "for k in prompts_exp3:\n",
    "    test_inputs.append(prompts_exp3[k][0:2])                                  #TODO append more than one prompt              \n",
    "prompt_endings=[\" Only answer with the score: \\n\\n\", \"\\n\\n\", \"\\n\"]\n",
    "output_lists=[]             # list containing the avg. generated likert scores \n",
    "for ending in prompt_endings:\n",
    "    proba_sum, output_list=log_prob_sum(test_inputs, model, prompt_ending=ending)\n",
    "    score_sums.append(proba_sum)   \n",
    "    output_lists.append(output_list)\n",
    "\n",
    "# print results\n",
    "for i in range(len(prompt_endings)):\n",
    "    print(\"Prompt Ending:\", prompt_endings[i].replace(\"\\n\", \"\\\\n\"))\n",
    "    print(\"Probability Sum:\", score_sums[i])\n",
    "    print(\"Average Probability:\", score_sums[i]/len(test_inputs))\n",
    "    # compute avg. difference in output_list to the other output_lists\n",
    "    for j in range(len(prompt_endings)):\n",
    "        if i!=j:\n",
    "            print(\"Average score difference to Prompt Ending\", prompt_endings[j].replace(\"\\n\",\"\\\\n\"), \":\", \n",
    "                  np.mean(np.abs(np.array(output_lists[i])-np.array(output_lists[j]))))\n",
    "    print()\n"
   ]
  },
  {
   "cell_type": "markdown",
   "metadata": {},
   "source": [
    "### random tests (delete later)"
   ]
  },
  {
   "cell_type": "code",
   "execution_count": 8,
   "metadata": {},
   "outputs": [
    {
     "data": {
      "text/plain": [
       "\"Consider the notion of VERTICALITY. Verticality refers to the sense of an extension along an up—down orientation.\\nHow strongly is the phrase ''stand at attention'' related to this notion on a scale from 1 (not at all related) to 7 (very strongly related)?\""
      ]
     },
     "execution_count": 8,
     "metadata": {},
     "output_type": "execute_result"
    }
   ],
   "source": [
    "# example prompt\n",
    "prompts_exp3[\"VERTICALITY\"][0]"
   ]
  },
  {
   "cell_type": "code",
   "execution_count": 58,
   "metadata": {},
   "outputs": [
    {
     "name": "stdout",
     "output_type": "stream",
     "text": [
      "[0.4693367739968185, 0.6304976189698971, 0.0021300609172966016, 0.0004053786456902955, 0.00030428463356096594, 2.8846006426974795e-05, 4.566600513491415e-06]\n",
      "1.5779979076082327\n"
     ]
    }
   ],
   "source": [
    "# test with log probs \n",
    "model = \"text-davinci-003\"\n",
    "\n",
    "probas,r,d = gpt_complete_proba(prompt=prompts_exp3[\"VERTICALITY\"][1], model=model)\n",
    "print(probas)\n",
    "print(r)\n"
   ]
  },
  {
   "cell_type": "markdown",
   "metadata": {},
   "source": [
    "# Analysis Helpers"
   ]
  },
  {
   "cell_type": "code",
   "execution_count": 38,
   "metadata": {},
   "outputs": [],
   "source": [
    "def make_bar_plots(model_result_dict_3, model_result_dict_4, title):\n",
    "    # Visualize results as bar charts with 2 bars per key (one for each experiment) and each bar being the correlation coefficient\n",
    "    plt.figure(figsize=(12, 6))\n",
    "    plt.title(title)\n",
    "    plt.xlabel(\"Image Schema\")\n",
    "    plt.ylabel(\"Spearman Correlation Coefficient\")\n",
    "    for key in DEFINITIONS:\n",
    "        # the bars of the two experiments are next to each other\n",
    "        plt.bar(key, stats.spearmanr(model_result_dict_3[key], exp_3_df[key])[0], width=0.4, color='orange')\n",
    "        # move the bar to the right\n",
    "        plt.bar(key, stats.spearmanr(model_result_dict_4[key], exp_4_df[key])[0], width=0.4, align='edge', color='blue')\n",
    "    plt.legend([\"Experiment 3\", \"Experiment 4\"])\n",
    "    plt.show()\n",
    "\n",
    "def make_scatter_plots(model_result_dict_3, model_result_dict_4, title):\n",
    "    # plot side by side, 5 plots\n",
    "    fig, axs = plt.subplots(2, 5, figsize=(20, 6))\n",
    "    fig.suptitle(title)\n",
    "    for i, key in enumerate(DEFINITIONS):\n",
    "        axs[0, i].scatter(model_result_dict_3[key], exp_3_df[key], color='orange')\n",
    "        axs[0, i].set_title(key)\n",
    "        if i==0: axs[0, i].set_ylabel(\"Human Rating (Exp 3)\")\n",
    "        axs[1, i].scatter(model_result_dict_4[key], exp_4_df[key], color='blue')\n",
    "        axs[1, i].set_xlabel(\"GPT Rating\")\n",
    "        if i ==0: axs[1, i].set_ylabel(\"Human Rating (Exp 4)\")\n",
    "        # set x and y limits to 0 to 7.2\n",
    "        axs[0, i].set_xlim(0.7, 7.2)\n",
    "        axs[0, i].set_ylim(0.7, 7.2)\n",
    "        axs[1, i].set_xlim(0.7, 7.2)\n",
    "        axs[1, i].set_ylim(0.7, 7.2)\n",
    "        # set x and y ticks to 0, 1, 2, ..., 7\n",
    "        axs[0, i].set_xticks(np.arange(1, 8, 1))\n",
    "        axs[0, i].set_yticks(np.arange(1, 8, 1))\n",
    "        axs[1, i].set_xticks(np.arange(1, 8, 1))\n",
    "        axs[1, i].set_yticks(np.arange(1, 8, 1))\n",
    "        # add correlation coefficient to each plot\n",
    "        axs[0, i].text(0.05, 0.95, \"r = \" + str(round(stats.spearmanr(model_result_dict_3[key], exp_3_df[key])[0], 2)), transform=axs[0, i].transAxes, fontsize=12, verticalalignment='top')\n",
    "        axs[1, i].text(0.05, 0.95, \"r = \" + str(round(stats.spearmanr(model_result_dict_4[key], exp_4_df[key])[0], 2)), transform=axs[1, i].transAxes, fontsize=12, verticalalignment='top')\n",
    "\n",
    "def print_correlations(model_result_dict_3, model_result_dict_4):\n",
    "    for key in DEFINITIONS:\n",
    "        print(key)\n",
    "        print(\"Experiment 3: \" + str(stats.spearmanr(model_result_dict_3[key], exp_3_df[key])))\n",
    "        print(\"Experiment 4: \" + str(stats.spearmanr(model_result_dict_4[key], exp_4_df[key])))"
   ]
  },
  {
   "cell_type": "code",
   "execution_count": 59,
   "metadata": {},
   "outputs": [],
   "source": [
    "def save_generations_to_csv(completions_clean, stimuli, exp_name, completions=None):    #completions is a dict with IS as keys and completions as values\n",
    "    # ratings\n",
    "    df = pd.DataFrame.from_dict(completions_clean)\n",
    "    # stimuli\n",
    "    df.insert(0, 'Stimulus', stimuli)\n",
    "    # original completions\n",
    "    #completions_clean = {\"VERTICALITY\": [], \"BALANCE\": [], \"CENTER-PERIPHERY\": [], \"LINKAGE\": [], \"RESISTANCE\": []}\n",
    "    completions_text={\"VERTICALITY\":[], \"BALANCE\":[], \"CENTER-PERIPHERY\":[], \"LINKAGE\":[], \"RESISTANCE\":[]}\n",
    "    if completions != None:\n",
    "        for k in completions:\n",
    "            for i in range(len(completions[k])):\n",
    "                completions_text[k].append(completions[k][i][\"choices\"][0][\"text\"])\n",
    "    # add to df as last column\n",
    "    for k in completions_text:\n",
    "        df.insert(len(df.columns),  k+\"_Completion_Text\", completions_text[k])\n",
    "\n",
    "    date = datetime.datetime.now().strftime(\"%Y-%m-%d\")\n",
    "    df.to_csv('lm_generations/df_' + exp_name + '_' + date + '.csv', index=False)\n",
    "    print('Saved as df_' + exp_name + '_' + date + '.csv')"
   ]
  },
  {
   "cell_type": "markdown",
   "metadata": {},
   "source": [
    "# Huggingface Model Experiments"
   ]
  },
  {
   "cell_type": "code",
   "execution_count": 9,
   "metadata": {},
   "outputs": [],
   "source": [
    "import sys\n",
    "sys.path.append('../experiment_01')\n",
    "from sidemethods import logprobs_from_prompt, proc, proc_lower, prob_of_ending"
   ]
  },
  {
   "cell_type": "code",
   "execution_count": 75,
   "metadata": {},
   "outputs": [
    {
     "data": {
      "text/plain": [
       "False"
      ]
     },
     "execution_count": 75,
     "metadata": {},
     "output_type": "execute_result"
    }
   ],
   "source": [
    "import torch\n",
    "torch.cuda.is_available()"
   ]
  },
  {
   "cell_type": "code",
   "execution_count": 74,
   "metadata": {},
   "outputs": [],
   "source": [
    "# import subprocess\n",
    "with open(\"../../hf.key\", \"r\") as f_in:\n",
    "    hf_key = f_in.readline().strip()\n",
    "#subprocess.run([\"huggingface-cli\", \"login\", \"--token\", hf_key])"
   ]
  },
  {
   "cell_type": "code",
   "execution_count": 9,
   "metadata": {},
   "outputs": [
    {
     "data": {
      "application/vnd.jupyter.widget-view+json": {
       "model_id": "88d6d4ec39944009a7d2a15b2faed633",
       "version_major": 2,
       "version_minor": 0
      },
      "text/plain": [
       "Downloading (…)okenizer_config.json:   0%|          | 0.00/776 [00:00<?, ?B/s]"
      ]
     },
     "metadata": {},
     "output_type": "display_data"
    },
    {
     "data": {
      "application/vnd.jupyter.widget-view+json": {
       "model_id": "dec3dca4f7da4a7fac398f5e052496e2",
       "version_major": 2,
       "version_minor": 0
      },
      "text/plain": [
       "Downloading tokenizer.model:   0%|          | 0.00/500k [00:00<?, ?B/s]"
      ]
     },
     "metadata": {},
     "output_type": "display_data"
    },
    {
     "data": {
      "application/vnd.jupyter.widget-view+json": {
       "model_id": "a2d725f78e424e4885266156d56e4101",
       "version_major": 2,
       "version_minor": 0
      },
      "text/plain": [
       "Downloading (…)/main/tokenizer.json:   0%|          | 0.00/1.84M [00:00<?, ?B/s]"
      ]
     },
     "metadata": {},
     "output_type": "display_data"
    },
    {
     "data": {
      "application/vnd.jupyter.widget-view+json": {
       "model_id": "6244fcb83f0041609fc9200b2deeae3f",
       "version_major": 2,
       "version_minor": 0
      },
      "text/plain": [
       "Downloading (…)cial_tokens_map.json:   0%|          | 0.00/414 [00:00<?, ?B/s]"
      ]
     },
     "metadata": {},
     "output_type": "display_data"
    },
    {
     "data": {
      "application/vnd.jupyter.widget-view+json": {
       "model_id": "72c084b40af3465da99b867e0d76b9d2",
       "version_major": 2,
       "version_minor": 0
      },
      "text/plain": [
       "Downloading (…)lve/main/config.json:   0%|          | 0.00/609 [00:00<?, ?B/s]"
      ]
     },
     "metadata": {},
     "output_type": "display_data"
    },
    {
     "data": {
      "application/vnd.jupyter.widget-view+json": {
       "model_id": "350d8953a8db45398ef4c8db30d7c211",
       "version_major": 2,
       "version_minor": 0
      },
      "text/plain": [
       "Downloading (…)fetensors.index.json:   0%|          | 0.00/26.8k [00:00<?, ?B/s]"
      ]
     },
     "metadata": {},
     "output_type": "display_data"
    },
    {
     "data": {
      "application/vnd.jupyter.widget-view+json": {
       "model_id": "10ffbe5c930448898c55a3ac0d906c06",
       "version_major": 2,
       "version_minor": 0
      },
      "text/plain": [
       "Downloading shards:   0%|          | 0/2 [00:00<?, ?it/s]"
      ]
     },
     "metadata": {},
     "output_type": "display_data"
    },
    {
     "data": {
      "application/vnd.jupyter.widget-view+json": {
       "model_id": "a749adba8e634130baba90b761f0f630",
       "version_major": 2,
       "version_minor": 0
      },
      "text/plain": [
       "Downloading (…)of-00002.safetensors:   0%|          | 0.00/9.98G [00:00<?, ?B/s]"
      ]
     },
     "metadata": {},
     "output_type": "display_data"
    },
    {
     "data": {
      "application/vnd.jupyter.widget-view+json": {
       "model_id": "b1ff083f142f4e16b8dc9a52fccb3801",
       "version_major": 2,
       "version_minor": 0
      },
      "text/plain": [
       "Downloading (…)of-00002.safetensors:   0%|          | 0.00/3.50G [00:00<?, ?B/s]"
      ]
     },
     "metadata": {},
     "output_type": "display_data"
    },
    {
     "data": {
      "application/vnd.jupyter.widget-view+json": {
       "model_id": "1236dceb6b1e49369355ff70778be315",
       "version_major": 2,
       "version_minor": 0
      },
      "text/plain": [
       "Loading checkpoint shards:   0%|          | 0/2 [00:00<?, ?it/s]"
      ]
     },
     "metadata": {},
     "output_type": "display_data"
    },
    {
     "data": {
      "application/vnd.jupyter.widget-view+json": {
       "model_id": "0f33273a7dd34684b294e7145c767438",
       "version_major": 2,
       "version_minor": 0
      },
      "text/plain": [
       "Downloading (…)neration_config.json:   0%|          | 0.00/188 [00:00<?, ?B/s]"
      ]
     },
     "metadata": {},
     "output_type": "display_data"
    }
   ],
   "source": [
    "hf_tokenizer = AutoTokenizer.from_pretrained(\"meta-llama/Llama-2-7b-hf\", cache_dir=\"../../../models/l7b\", token=hf_key)\n",
    "hf_model = AutoModelForCausalLM.from_pretrained(\"meta-llama/Llama-2-7b-hf\",  cache_dir=\"../../../models/l7b\", token=hf_key)"
   ]
  },
  {
   "cell_type": "code",
   "execution_count": 14,
   "metadata": {},
   "outputs": [
    {
     "name": "stdout",
     "output_type": "stream",
     "text": [
      "test.test.test\n",
      "    .inject\n"
     ]
    }
   ],
   "source": [
    "# get completion from hf_model\n",
    "# Step 1: Tokenize the prompt\n",
    "input_ids = hf_tokenizer.encode(\"test\", return_tensors=\"pt\")\n",
    "\n",
    "# Step 2: Generate the model input\n",
    "max_length = 10\n",
    "output = hf_model.generate(input_ids, max_length=max_length, num_return_sequences=1)\n",
    "\n",
    "# Step 3: Decode the generated output to get the answer\n",
    "generated_answer = hf_tokenizer.decode(output[0], skip_special_tokens=True)\n",
    "\n",
    "# Step 4: Print the answer\n",
    "print(generated_answer)"
   ]
  },
  {
   "cell_type": "code",
   "execution_count": null,
   "metadata": {},
   "outputs": [],
   "source": [
    "start = \"nazis are known to be on the political \"\n",
    "answers = {0:\"left\", 1:\"right\"}\n",
    "\n",
    "res_ends = []\n",
    "for j, end in answers.items():\n",
    "    input_prompt = proc(start) + ' ' + proc(end)\n",
    "    print(input_prompt)\n",
    "    logprobs = logprobs_from_prompt(input_prompt, hf_tokenizer, hf_model)\n",
    "    res = {\"tokens\": [x for x,y in logprobs],\"token_logprobs\": [y for x,y in logprobs]}\n",
    "    res_ends.append(res)\n",
    "    print(end)\n",
    "    print(res)\n",
    "    print()\n",
    "print(res_ends)"
   ]
  },
  {
   "cell_type": "markdown",
   "metadata": {},
   "source": [
    "# Full Questionaire Experiments (all Image Schemas)"
   ]
  },
  {
   "cell_type": "code",
   "execution_count": 149,
   "metadata": {},
   "outputs": [
    {
     "name": "stdout",
     "output_type": "stream",
     "text": [
      "\n",
      " VERTICALITY\n",
      "\n",
      " BALANCE\n",
      "\n",
      " CENTER-PERIPHERY\n",
      "\n",
      " LINKAGE\n",
      "\n",
      " RESISTANCE\n"
     ]
    }
   ],
   "source": [
    "model=\"gpt-3.5-turbo-0613\"\n",
    "\n",
    "# get completions all at once\n",
    "gpt_c3=gpt_with_full_instructions(model=model, stimuli=STIMULI_EXP3) \n",
    "time.sleep(20)\n",
    "gpt_c4=gpt_with_full_instructions(model=model, stimuli=STIMULI_EXP4)\n"
   ]
  },
  {
   "cell_type": "code",
   "execution_count": 158,
   "metadata": {},
   "outputs": [],
   "source": [
    "c3=gpt_c3[\"choices\"][0][\"message\"][\"content\"]\n",
    "c4=gpt_c4[\"choices\"][0][\"message\"][\"content\"]\n",
    "full_history_results_exp3={}\n",
    "full_history_results_exp4={}\n",
    "for key in DEFINITIONS:                    \n",
    "    full_history_results_exp3[key]=[]\n",
    "    full_history_results_exp4[key]=[]\n",
    "# c3 looks like this:  # \"1: stand at attention\\nVerticality: 7\\nBalance: 7\\nCenter-periphery: 1\\nLinkage: 1\\nResistance: 1\\n\\n2: ...\"\n",
    "c3_by_stimulus=c3.split(\"\\n\\n\")\n",
    "c4_by_stimulus=c4.split(\"\\n\\n\")\n",
    "for rs in c3_by_stimulus:\n",
    "    rs = rs.split(\"\\n\")\n",
    "    for r in rs:\n",
    "        # get number after \":\"\n",
    "        r=r.split(\":\")\n",
    "        number=r[1].strip()\n",
    "        # check if number is int\n",
    "        try:\n",
    "            number=int(number)\n",
    "        except:\n",
    "            continue\n",
    "        if r[0].strip()==\"Verticality\":\n",
    "            full_history_results_exp3[\"VERTICALITY\"].append(number)\n",
    "        elif r[0].strip()==\"Balance\":\n",
    "            full_history_results_exp3[\"BALANCE\"].append(number)\n",
    "        elif r[0].strip()==\"Center-periphery\":\n",
    "            full_history_results_exp3[\"CENTER-PERIPHERY\"].append(number)\n",
    "        elif r[0].strip()==\"Linkage\":\n",
    "            full_history_results_exp3[\"LINKAGE\"].append(number)\n",
    "        elif r[0].strip()==\"Resistance\":\n",
    "            full_history_results_exp3[\"RESISTANCE\"].append(number)\n",
    "for rs in c4_by_stimulus:\n",
    "    rs = rs.split(\"\\n\")\n",
    "    for r in rs:\n",
    "        # get number after \":\"\n",
    "        r=r.split(\":\")\n",
    "        number=r[1].strip()\n",
    "        # check if number is int\n",
    "        try:\n",
    "            number=int(number)\n",
    "        except:\n",
    "            continue\n",
    "        if r[0].strip()==\"Verticality\":\n",
    "            full_history_results_exp4[\"VERTICALITY\"].append(number)\n",
    "        elif r[0].strip()==\"Balance\":\n",
    "            full_history_results_exp4[\"BALANCE\"].append(number)\n",
    "        elif r[0].strip()==\"Center-periphery\":\n",
    "            full_history_results_exp4[\"CENTER-PERIPHERY\"].append(number)\n",
    "        elif r[0].strip()==\"Linkage\":\n",
    "            full_history_results_exp4[\"LINKAGE\"].append(number)\n",
    "        elif r[0].strip()==\"Resistance\":\n",
    "            full_history_results_exp4[\"RESISTANCE\"].append(number)"
   ]
  },
  {
   "cell_type": "code",
   "execution_count": null,
   "metadata": {},
   "outputs": [],
   "source": [
    "# full_history_results_expX to pkl\n",
    "with open('full_history_results_exp4.pkl', 'wb') as f:\n",
    "    pickle.dump(full_history_results_exp4, f)\n",
    "\n",
    "with open('full_history_results_exp3.pkl', 'wb') as f:\n",
    "    pickle.dump(full_history_results_exp3, f)   "
   ]
  },
  {
   "cell_type": "code",
   "execution_count": null,
   "metadata": {},
   "outputs": [],
   "source": [
    "save_generations_to_csv(completions_clean=full_history_results_exp3, stimuli=STIMULI_EXP3, exp_name=\"all_stimuli_all_IS_exp3\")\n",
    "save_generations_to_csv(completions_clean=full_history_results_exp4, stimuli=STIMULI_EXP4, exp_name=\"all_stimuli_all_IS_exp4\")"
   ]
  },
  {
   "cell_type": "code",
   "execution_count": 161,
   "metadata": {},
   "outputs": [
    {
     "name": "stderr",
     "output_type": "stream",
     "text": [
      "/opt/homebrew/anaconda3/lib/python3.9/site-packages/scipy/stats/stats.py:4484: SpearmanRConstantInputWarning: An input array is constant; the correlation coefficient is not defined.\n",
      "  warnings.warn(SpearmanRConstantInputWarning())\n"
     ]
    },
    {
     "data": {
      "image/png": "[encoded data removed]",
      "text/plain": [
       "<Figure size 1440x432 with 10 Axes>"
      ]
     },
     "metadata": {
      "needs_background": "light"
     },
     "output_type": "display_data"
    }
   ],
   "source": [
    "make_scatter_plots(full_history_results_exp3, full_history_results_exp4, \"Human vs. GPT Ratings\")"
   ]
  },
  {
   "cell_type": "markdown",
   "metadata": {},
   "source": [
    "# Full Questionaire Experiments (single Image Schema)"
   ]
  },
  {
   "cell_type": "code",
   "execution_count": 39,
   "metadata": {},
   "outputs": [
    {
     "name": "stdout",
     "output_type": "stream",
     "text": [
      "\n",
      " VERTICALITY\n",
      "\n",
      "Experiment 3\n",
      "1: 6\n",
      "2: 4\n",
      "3: 6\n",
      "4: 5\n",
      "5: 6\n",
      "6: 6\n",
      "7: 6\n",
      "8: 4\n",
      "9: 3\n",
      "10: 2\n",
      "11: 6\n",
      "12: 6\n",
      "13: 2\n",
      "14: 5\n",
      "15: 6\n",
      "16: 6\n",
      "17: 6\n",
      "18: 5\n",
      "19: 6\n",
      "20: 5\n",
      "21: 5\n",
      "22: 6\n",
      "23: 6\n",
      "24: 6\n",
      "25: 5\n",
      "26: 5\n",
      "27: 6\n",
      "28: 4\n",
      "29: 6\n",
      "30: 6\n",
      "31: 4\n",
      "32: 6\n",
      "\n",
      "Experiment 4\n",
      "1: 2\n",
      "2: 1\n",
      "3: 6\n",
      "4: 2\n",
      "5: 4\n",
      "6: 5\n",
      "7: 3\n",
      "8: 2\n",
      "9: 4\n",
      "10: 2\n",
      "11: 7\n",
      "12: 7\n",
      "13: 1\n",
      "14: 4\n",
      "15: 2\n",
      "16: 7\n",
      "17: 2\n",
      "18: 3\n",
      "19: 2\n",
      "20: 4\n",
      "21: 3\n",
      "22: 2\n",
      "23: 7\n",
      "24: 7\n",
      "25: 4\n",
      "26: 5\n",
      "27: 5\n",
      "28: 2\n",
      "29: 6\n",
      "30: 1\n",
      "31: 3\n",
      "32: 6\n",
      "\n",
      " BALANCE\n",
      "\n",
      "Experiment 3\n",
      "1: 1\n",
      "2: 2\n",
      "3: 6\n",
      "4: 5\n",
      "5: 6\n",
      "6: 6\n",
      "7: 6\n",
      "8: 4\n",
      "9: 3\n",
      "10: 2\n",
      "11: 1\n",
      "12: 3\n",
      "13: 2\n",
      "14: 4\n",
      "15: 6\n",
      "16: 5\n",
      "17: 6\n",
      "18: 5\n",
      "19: 6\n",
      "20: 4\n",
      "21: 5\n",
      "22: 5\n",
      "23: 6\n",
      "24: 4\n",
      "25: 4\n",
      "26: 4\n",
      "27: 6\n",
      "28: 3\n",
      "29: 6\n",
      "30: 6\n",
      "31: 4\n",
      "32: 5\n",
      "\n",
      "Experiment 4\n",
      "1: 1\n",
      "2: 2\n",
      "3: 6\n",
      "4: 1\n",
      "5: 4\n",
      "6: 6\n",
      "7: 5\n",
      "8: 4\n",
      "9: 6\n",
      "10: 2\n",
      "11: 1\n",
      "12: 3\n",
      "13: 1\n",
      "14: 4\n",
      "15: 5\n",
      "16: 3\n",
      "17: 2\n",
      "18: 3\n",
      "19: 4\n",
      "20: 4\n",
      "21: 3\n",
      "22: 1\n",
      "23: 3\n",
      "24: 3\n",
      "25: 4\n",
      "26: 5\n",
      "27: 6\n",
      "28: 2\n",
      "29: 5\n",
      "30: 2\n",
      "31: 3\n",
      "32: 6\n",
      "\n",
      " CENTER-PERIPHERY\n",
      "\n",
      "Experiment 3\n",
      "1: 1\n",
      "2: 4\n",
      "3: 5\n",
      "4: 6\n",
      "5: 6\n",
      "6: 6\n",
      "7: 6\n",
      "8: 4\n",
      "9: 3\n",
      "10: 4\n",
      "11: 2\n",
      "12: 3\n",
      "13: 4\n",
      "14: 4\n",
      "15: 5\n",
      "16: 6\n",
      "17: 5\n",
      "18: 5\n",
      "19: 6\n",
      "20: 4\n",
      "21: 5\n",
      "22: 6\n",
      "23: 3\n",
      "24: 4\n",
      "25: 4\n",
      "26: 5\n",
      "27: 6\n",
      "28: 3\n",
      "29: 6\n",
      "30: 5\n",
      "31: 4\n",
      "32: 5\n",
      "\n",
      "Experiment 4\n",
      "1: 1\n",
      "2: 1\n",
      "3: 2\n",
      "4: 1\n",
      "5: 2\n",
      "6: 2\n",
      "7: 2\n",
      "8: 2\n",
      "9: 2\n",
      "10: 2\n",
      "11: 2\n",
      "12: 2\n",
      "13: 2\n",
      "14: 2\n",
      "15: 2\n",
      "16: 2\n",
      "17: 2\n",
      "18: 2\n",
      "19: 2\n",
      "20: 2\n",
      "21: 2\n",
      "22: 2\n",
      "23: 2\n",
      "24: 2\n",
      "25: 2\n",
      "26: 2\n",
      "27: 2\n",
      "28: 2\n",
      "29: 2\n",
      "30: 2\n",
      "31: 2\n",
      "32: 2\n",
      "\n",
      " LINKAGE\n",
      "\n",
      "Experiment 3\n",
      "1: 1\n",
      "2: 2\n",
      "3: 4\n",
      "4: 5\n",
      "5: 6\n",
      "6: 7\n",
      "7: 7\n",
      "8: 4\n",
      "9: 3\n",
      "10: 2\n",
      "11: 5\n",
      "12: 3\n",
      "13: 2\n",
      "14: 4\n",
      "15: 6\n",
      "16: 5\n",
      "17: 6\n",
      "18: 5\n",
      "19: 6\n",
      "20: 4\n",
      "21: 5\n",
      "22: 4\n",
      "23: 6\n",
      "24: 4\n",
      "25: 4\n",
      "26: 5\n",
      "27: 6\n",
      "28: 3\n",
      "29: 6\n",
      "30: 6\n",
      "31: 4\n",
      "32: 5\n",
      "\n",
      "Experiment 4\n",
      "1: 2\n",
      "2: 3\n",
      "3: 4\n",
      "4: 2\n",
      "5: 5\n",
      "6: 6\n",
      "7: 7\n",
      "8: 3\n",
      "9: 4\n",
      "10: 2\n",
      "11: 3\n",
      "12: 4\n",
      "13: 2\n",
      "14: 5\n",
      "15: 6\n",
      "16: 4\n",
      "17: 3\n",
      "18: 4\n",
      "19: 5\n",
      "20: 4\n",
      "21: 5\n",
      "22: 4\n",
      "23: 4\n",
      "24: 4\n",
      "25: 3\n",
      "26: 5\n",
      "27: 6\n",
      "28: 2\n",
      "29: 5\n",
      "30: 6\n",
      "31: 4\n",
      "32: 6\n",
      "\n",
      " RESISTANCE\n",
      "\n",
      "Experiment 3\n",
      "1: 4\n",
      "2: 2\n",
      "3: 6\n",
      "4: 6\n",
      "5: 5\n",
      "6: 6\n",
      "7: 6\n",
      "8: 4\n",
      "9: 4\n",
      "10: 3\n",
      "11: 2\n",
      "12: 4\n",
      "13: 2\n",
      "14: 5\n",
      "15: 6\n",
      "16: 6\n",
      "17: 5\n",
      "18: 5\n",
      "19: 6\n",
      "20: 5\n",
      "21: 6\n",
      "22: 6\n",
      "23: 4\n",
      "24: 4\n",
      "25: 4\n",
      "26: 5\n",
      "27: 6\n",
      "28: 4\n",
      "29: 6\n",
      "30: 6\n",
      "31: 4\n",
      "32: 6\n",
      "\n",
      "Experiment 4\n",
      "1: 1\n",
      "2: 1\n",
      "3: 7\n",
      "4: 7\n",
      "5: 6\n",
      "6: 6\n",
      "7: 6\n",
      "8: 4\n",
      "9: 4\n",
      "10: 4\n",
      "11: 1\n",
      "12: 1\n",
      "13: 1\n",
      "14: 3\n",
      "15: 2\n",
      "16: 2\n",
      "17: 1\n",
      "18: 4\n",
      "19: 3\n",
      "20: 5\n",
      "21: 5\n",
      "22: 7\n",
      "23: 1\n",
      "24: 1\n",
      "25: 4\n",
      "26: 3\n",
      "27: 3\n",
      "28: 1\n",
      "29: 7\n",
      "30: 1\n",
      "31: 2\n",
      "32: 6\n"
     ]
    }
   ],
   "source": [
    "model=\"gpt-3.5-turbo-0613\"\n",
    "history_results_exp3={}\n",
    "history_results_exp4={}\n",
    "for key in DEFINITIONS:\n",
    "    print(\"\\n\", key)\n",
    "    history_results_exp3[key] = []\n",
    "    history_results_exp4[key] = []\n",
    "    gpt_c3=gpt_with_nearly_full_instructions(model=model, image_schema=key, stimuli=STIMULI_EXP3) \n",
    "    time.sleep(20)\n",
    "    gpt_c4=gpt_with_nearly_full_instructions(model=model, image_schema=key, stimuli=STIMULI_EXP4)\n",
    "    time.sleep(20)\n",
    "    # extract numbers from response\n",
    "    c3=gpt_c3[\"choices\"][0][\"message\"][\"content\"]\n",
    "    c4=gpt_c4[\"choices\"][0][\"message\"][\"content\"]\n",
    "    print(\"\\nExperiment 3\")\n",
    "    print(c3)\n",
    "    print(\"\\nExperiment 4\")\n",
    "    print(c4)\n",
    "    c3=c3.split(\"\\n\")\n",
    "    c4=c4.split(\"\\n\")\n",
    "    c3=[i.split(\":\")[1].strip() for i in c3]\n",
    "    c4=[i.split(\":\")[1].strip() for i in c4]\n",
    "    history_results_exp3[key]=c3\n",
    "    history_results_exp4[key]=c4\n",
    "\n",
    "for IS in history_results_exp3:\n",
    "    # turn list of strings (e.g. [\"1\",\"2\"]) into ints (e.g. [1,2])\n",
    "    history_results_exp3[IS] = [int(rating) for rating in history_results_exp3[IS]]\n",
    "for IS in history_results_exp4:\n",
    "    # turn list of strings (e.g. [\"1\",\"2\"]) into ints (e.g. [1,2])\n",
    "    history_results_exp4[IS] = [int(rating) for rating in history_results_exp4[IS]]"
   ]
  },
  {
   "cell_type": "code",
   "execution_count": null,
   "metadata": {},
   "outputs": [],
   "source": [
    "# history_results_expX to pkl\n",
    "with open('history_results_exp4.pkl', 'wb') as f:\n",
    "    pickle.dump(history_results_exp4, f)\n",
    "\n",
    "with open('history_results_exp3.pkl', 'wb') as f:\n",
    "    pickle.dump(history_results_exp3, f)   "
   ]
  },
  {
   "cell_type": "code",
   "execution_count": 133,
   "metadata": {},
   "outputs": [
    {
     "name": "stdout",
     "output_type": "stream",
     "text": [
      "VERTICALITY\n",
      "Experiment 3: SpearmanrResult(correlation=0.39248203951590666, pvalue=0.02629062682584727)\n",
      "Experiment 4: SpearmanrResult(correlation=0.18066380733387408, pvalue=0.3224178507761486)\n",
      "\n",
      "BALANCE\n",
      "Experiment 3: SpearmanrResult(correlation=0.13341795203218007, pvalue=0.46663645952245225)\n",
      "Experiment 4: SpearmanrResult(correlation=0.22565818366289975, pvalue=0.21430256336588713)\n",
      "\n",
      "CENTER-PERIPHERY\n",
      "Experiment 3: SpearmanrResult(correlation=0.45838062223891046, pvalue=0.008328988276605017)\n",
      "Experiment 4: SpearmanrResult(correlation=0.03487005828984612, pvalue=0.8497289613404104)\n",
      "\n",
      "LINKAGE\n",
      "Experiment 3: SpearmanrResult(correlation=0.640534792236373, pvalue=7.853556238578637e-05)\n",
      "Experiment 4: SpearmanrResult(correlation=0.4047371197296721, pvalue=0.021575491456038046)\n",
      "\n",
      "RESISTANCE\n",
      "Experiment 3: SpearmanrResult(correlation=0.499589546870746, pvalue=0.0036003409174275905)\n",
      "Experiment 4: SpearmanrResult(correlation=0.7112514570467381, pvalue=5.0445279741929784e-06)\n",
      "\n"
     ]
    }
   ],
   "source": [
    "print_correlations(history_results_exp3, history_results_exp4)"
   ]
  },
  {
   "cell_type": "code",
   "execution_count": 124,
   "metadata": {},
   "outputs": [
    {
     "data": {
      "image/png": "[encoded data removed]",
      "text/plain": [
       "<Figure size 1440x432 with 10 Axes>"
      ]
     },
     "metadata": {
      "needs_background": "light"
     },
     "output_type": "display_data"
    }
   ],
   "source": [
    "make_scatter_plots(history_results_exp3, history_results_exp4, \"Human vs. GPT Ratings\")"
   ]
  },
  {
   "cell_type": "code",
   "execution_count": 125,
   "metadata": {},
   "outputs": [
    {
     "data": {
      "image/png": "[encoded data removed]",
      "text/plain": [
       "<Figure size 864x432 with 1 Axes>"
      ]
     },
     "metadata": {
      "needs_background": "light"
     },
     "output_type": "display_data"
    }
   ],
   "source": [
    "make_bar_plots(model_result_dict_3=history_results_exp3, model_result_dict_4=history_results_exp4, title=\"Gibbs Experiment 3 and 4 Spearman Correlation Coefficients\")"
   ]
  },
  {
   "cell_type": "markdown",
   "metadata": {},
   "source": [
    "# Single Prompts Experiments"
   ]
  },
  {
   "cell_type": "code",
   "execution_count": 162,
   "metadata": {},
   "outputs": [],
   "source": [
    "model = \"text-davinci-003\"\n",
    "completions_exp3 = {\"VERTICALITY\": [], \"BALANCE\": [], \"CENTER-PERIPHERY\": [], \"LINKAGE\": [], \"RESISTANCE\": []}\n",
    "\n",
    "for i in range(len(STIMULI_EXP3)):\n",
    "    for k in completions_exp3:\n",
    "        completions_exp3[k].append(gpt_complete(prompts_exp3[k][i], model))\n",
    "        time.sleep(21)\n",
    "\n",
    "with open('completions_single_prompt_exp3.pkl', 'wb') as f:\n",
    "    pickle.dump(completions_exp3, f)"
   ]
  },
  {
   "cell_type": "code",
   "execution_count": 12,
   "metadata": {},
   "outputs": [],
   "source": [
    "model = \"text-davinci-003\"\n",
    "completions_exp4 = {\"VERTICALITY\": [], \"BALANCE\": [], \"CENTER-PERIPHERY\": [], \"LINKAGE\": [], \"RESISTANCE\": []} \n",
    "\n",
    "for i in range(len(STIMULI_EXP4)):\n",
    "    for k in completions_exp4:\n",
    "        completions_exp4[k].append(gpt_complete(prompts_exp4[k][i], model))\n",
    "        time.sleep(21)\n",
    "\n",
    "with open('completions_single_prompt_exp4.pkl', 'wb') as f:\n",
    "    pickle.dump(completions_exp4, f)"
   ]
  },
  {
   "cell_type": "code",
   "execution_count": 14,
   "metadata": {},
   "outputs": [],
   "source": [
    "# load completions from pkl \n",
    "if False:\n",
    "    with open('completions_single_prompt_exp3.pkl', 'rb') as f:\n",
    "        completions_exp3 = pickle.load(f)\n",
    "        \n",
    "if False:\n",
    "    with open('completions_single_prompt_exp4.pkl', 'rb') as f:\n",
    "        completions_exp4 = pickle.load(f)\n"
   ]
  },
  {
   "cell_type": "code",
   "execution_count": 31,
   "metadata": {},
   "outputs": [
    {
     "name": "stdout",
     "output_type": "stream",
     "text": [
      "error with item:  \n",
      "\n",
      "I would rate the phrase \"don't stand for such treatment\" as\n",
      "error with item:  \n",
      "\n",
      "I would rate the phrase \"to stand the test of time\" as\n",
      "error with item:  \n",
      "\n",
      "I would rate the phrase \"get stood up for a date\" as\n",
      "error with item:  \n",
      "\n",
      "I would rate the phrase \"to stand in someone else's shoes\"\n",
      "error with item:  \n",
      "\n",
      "I would rate the phrase \"let the issue remain as is\" as\n",
      "error with item:  \n",
      "\n",
      "I would rate the phrase \"leave the mixture undisturbed\" as\n",
      "error with item:  \n",
      "\n",
      "I would rate the phrase \"one-night fling\" as a\n",
      "error with item:  \n",
      "\n",
      "I would rate the phrase \"to be in someone else's shoes\"\n"
     ]
    }
   ],
   "source": [
    "# extract only the numbers from the completions\n",
    "\n",
    "completions_exp3_clean = {\"VERTICALITY\": [], \"BALANCE\": [], \"CENTER-PERIPHERY\": [], \"LINKAGE\": [], \"RESISTANCE\": []}\n",
    "completions_exp4_clean = {\"VERTICALITY\": [], \"BALANCE\": [], \"CENTER-PERIPHERY\": [], \"LINKAGE\": [], \"RESISTANCE\": []}\n",
    "\n",
    "for k in completions_exp3:\n",
    "    for i in range(len(completions_exp3[k])):\n",
    "        clean_item = completions_exp3[k][i][\"choices\"][0][\"text\"]\n",
    "        #print(clean_item)\n",
    "        try:\n",
    "            clean_item = int(re.findall(r'\\d+', clean_item)[0])\n",
    "        except:\n",
    "            print(\"error with item: \", clean_item)\n",
    "            clean_item = 0\n",
    "        completions_exp3_clean[k].append(clean_item)\n",
    "\n",
    "for k in completions_exp4:\n",
    "    for i in range(len(completions_exp4[k])):\n",
    "        clean_item = completions_exp4[k][i][\"choices\"][0][\"text\"]\n",
    "        #print(clean_item)\n",
    "        try:\n",
    "            clean_item = int(re.findall(r'\\d+', clean_item)[0])\n",
    "        except:\n",
    "            print(\"error with item: \", clean_item)\n",
    "            clean_item = 0\n",
    "        completions_exp4_clean[k].append(clean_item)"
   ]
  },
  {
   "cell_type": "code",
   "execution_count": 48,
   "metadata": {},
   "outputs": [
    {
     "name": "stdout",
     "output_type": "stream",
     "text": [
      "Saved as df_single_prompt_exp3_2023-08-13.csv\n",
      "Saved as df_single_prompt_exp4_2023-08-13.csv\n"
     ]
    }
   ],
   "source": [
    "# save to csv\n",
    "save_generations_to_csv(completions=completions_exp3, stimuli=STIMULI_EXP3, exp_name=\"single_prompt_exp3\", completions_clean=completions_exp3_clean)\n",
    "save_generations_to_csv(completions=completions_exp4, stimuli=STIMULI_EXP4, exp_name=\"single_prompt_exp4\", completions_clean=completions_exp4_clean)\n"
   ]
  },
  {
   "cell_type": "code",
   "execution_count": 42,
   "metadata": {},
   "outputs": [
    {
     "data": {
      "image/png": "[encoded data removed]",
      "text/plain": [
       "<Figure size 1440x432 with 10 Axes>"
      ]
     },
     "metadata": {
      "needs_background": "light"
     },
     "output_type": "display_data"
    }
   ],
   "source": [
    "make_scatter_plots(model_result_dict_3=completions_exp3_clean, model_result_dict_4=completions_exp4_clean, title=\"Human vs. GPT Ratings\")"
   ]
  },
  {
   "cell_type": "markdown",
   "metadata": {},
   "source": [
    "### Correlation Analysis"
   ]
  },
  {
   "cell_type": "code",
   "execution_count": 40,
   "metadata": {},
   "outputs": [
    {
     "name": "stdout",
     "output_type": "stream",
     "text": [
      "Spearman correlations for experiment 3\n",
      "VERTICALITY SpearmanrResult(correlation=0.5264711095334905, pvalue=0.0019660387268785784)\n",
      "BALANCE SpearmanrResult(correlation=0.3889504346025759, pvalue=0.02779617841811564)\n",
      "CENTER-PERIPHERY SpearmanrResult(correlation=0.5594498656841325, pvalue=0.0008718449772393607)\n",
      "LINKAGE SpearmanrResult(correlation=0.5431252313598959, pvalue=0.0013174767080267854)\n",
      "RESISTANCE SpearmanrResult(correlation=0.6820014752671762, pvalue=1.71900059033538e-05)\n",
      "\n",
      "Spearman correlations for experiment 4\n",
      "VERTICALITY SpearmanrResult(correlation=0.6833876221034471, pvalue=1.627063547884175e-05)\n",
      "BALANCE SpearmanrResult(correlation=0.6771840725179004, pvalue=2.0761491611577507e-05)\n",
      "CENTER-PERIPHERY SpearmanrResult(correlation=0.6439712877255698, pvalue=6.98379891857474e-05)\n",
      "LINKAGE SpearmanrResult(correlation=0.5197179828067287, pvalue=0.0022993844979337305)\n",
      "RESISTANCE SpearmanrResult(correlation=0.7058717439215124, pvalue=6.389977181110315e-06)\n"
     ]
    }
   ],
   "source": [
    "print(\"Spearman correlations for experiment 3\")\n",
    "for k in completions_exp3_clean:\n",
    "    print(k, stats.spearmanr(completions_exp3_clean[k], exp_3_df[k]))\n",
    "\n",
    "print() \n",
    "\n",
    "print(\"Spearman correlations for experiment 4\")\n",
    "for k in completions_exp4_clean:\n",
    "    print(k, stats.spearmanr(completions_exp4_clean[k], exp_4_df[k]))\n",
    "    "
   ]
  },
  {
   "cell_type": "code",
   "execution_count": 28,
   "metadata": {},
   "outputs": [
    {
     "name": "stdout",
     "output_type": "stream",
     "text": [
      "MSE Verticality: 1.8465624999999999\n",
      "MSE Balance: 1.448125\n",
      "MSE CP: 2.0453125\n",
      "MSE Resistance: 1.2834375\n",
      "MSE Linkage: 2.364375\n"
     ]
    }
   ],
   "source": [
    "# TODO: change to work with new data format\n",
    "# Mean Absolute Error\n",
    "print(\"MAE Verticality:\", mean_absolute_error(completion_numbers_V, exp_3_df['V']))\n",
    "print(\"MAE Balance:\", mean_absolute_error(completion_numbers_B, exp_3_df['B']))\n",
    "print(\"MAE CP:\", mean_absolute_error(completion_numbers_C, exp_3_df['CP']))\n",
    "print(\"MAE Resistance:\", mean_absolute_error(completion_numbers_R, exp_3_df['R']))\n",
    "print(\"MAE Linkage:\", mean_absolute_error(completion_numbers_L, exp_3_df['L']))\n",
    "\n",
    "\n",
    "\n",
    "\n"
   ]
  },
  {
   "cell_type": "markdown",
   "metadata": {},
   "source": [
    "## Linear Discriminant Analysis\n",
    "\n",
    "We repeate the analysis from the paper but this time with the numbers generated from GPT instead of humans\n",
    "\n",
    "Problem: The paper scores can not be reproduced!"
   ]
  },
  {
   "cell_type": "code",
   "execution_count": 146,
   "metadata": {},
   "outputs": [],
   "source": [
    "from sklearn.discriminant_analysis import LinearDiscriminantAnalysis\n",
    "from sklearn.discriminant_analysis import QuadraticDiscriminantAnalysis \n",
    "\n",
    "from sklearn.metrics import accuracy_score"
   ]
  },
  {
   "cell_type": "code",
   "execution_count": 105,
   "metadata": {},
   "outputs": [],
   "source": [
    "cluster_1=[\"one-night stand\", \"let the mixture stand\", \"a standing ovation\", \"on the witness stand\", \"the police told them to stand back\", \"stand at attention\", \"let the issue stand\", \"stand out in several sports\", \"the boss always stands over me\", \"to stand the test of time\", \"don't stand for such treatment\"]\n",
    "cluster_2=[\"to stand in someone else's shoes\", \"the clock stands on the mantle\", \"he stands committed\", \"we stand on 30 years of experience\", \"united we stand\", \"stand on shaky ground\", \"to stand firm\", \"stand in awe\", \"to stand to profit\"]\n",
    "cluster_3=[\"stand by your man\", \"to stand accused\", \"the house stands in the clearing\", \"he stands six-foot nine\", \"the barometer stands at 30 inches\", \"to stand against great odds\", \"they did nothing but stand around\", \"the engine can't stand the constant wear\", \"the part stands for the whole\", \"it stands to reason\", \"get stood up for a date\", \"as the matter now stands\"]"
   ]
  },
  {
   "cell_type": "code",
   "execution_count": 149,
   "metadata": {},
   "outputs": [
    {
     "name": "stdout",
     "output_type": "stream",
     "text": [
      "accuracy exp4: 0.84375\n"
     ]
    }
   ],
   "source": [
    "# LDA with GPT data \n",
    "y = []\n",
    "for s in STIMULI_EXP3:\n",
    "    if s in cluster_1:\n",
    "        y.append(0)\n",
    "    elif s in cluster_2:\n",
    "        y.append(1)\n",
    "    elif s in cluster_3:\n",
    "        y.append(2)\n",
    "    else:\n",
    "        print('error regarding:', s)\n",
    "\n",
    "x_exp3 = []\n",
    "x_exp4 = []\n",
    "for i in range(len(STIMULI_EXP4)):\n",
    "    schema_profile = []\n",
    "    for k in completions_exp4_clean:\n",
    "        schema_profile.append(completions_exp4_clean[k][i])\n",
    "    x_exp4.append(schema_profile)\n",
    "\n",
    "\n",
    "clf = QuadraticDiscriminantAnalysis()\n",
    "clf.fit(x_exp4, y)\n",
    "y_pred4 = clf.predict(x_exp4)\n",
    "print('accuracy exp4:', accuracy_score(y_true=y, y_pred=y_pred4))\n",
    "\n",
    "\n",
    "\n"
   ]
  },
  {
   "cell_type": "code",
   "execution_count": 147,
   "metadata": {},
   "outputs": [
    {
     "name": "stdout",
     "output_type": "stream",
     "text": [
      "accuracy original exp3: 0.6875\n",
      "accuracy original exp4: 0.71875\n"
     ]
    }
   ],
   "source": [
    "# LDA with original participant data\n",
    "x_original3 = []\n",
    "x_original4 = []\n",
    "for s in STIMULI_EXP3:\n",
    "    schema_profile = exp_3_df[exp_3_df['Stimulus'] == s].iloc[:, 1:6].values[0].tolist()\n",
    "    x_original3.append(schema_profile)\n",
    "for s in STIMULI_EXP4:\n",
    "    schema_profile = exp_4_df[exp_4_df['Stimulus'] == s].iloc[:, 1:6].values[0].tolist()\n",
    "    x_original4.append(schema_profile)\n",
    "\n",
    "# LDA with participant data with IS\n",
    "clf = QuadraticDiscriminantAnalysis()\n",
    "clf.fit(x_original3, y)\n",
    "y_pred3 = clf.predict(x_original3)\n",
    "print('accuracy original exp3:', accuracy_score(y_true=y, y_pred=y_pred3))\n",
    "\n",
    "clf.fit(x_original4, y)\n",
    "y_pred4 = clf.predict(x_original4)\n",
    "print('accuracy original exp4:', accuracy_score(y_true=y, y_pred=y_pred4))\n",
    "\n"
   ]
  },
  {
   "cell_type": "code",
   "execution_count": 138,
   "metadata": {},
   "outputs": [
    {
     "name": "stdout",
     "output_type": "stream",
     "text": [
      "be at attention\n",
      "[3.4, 5.1, 4.53, 3.3, 3.5]\n",
      "\n",
      "be distinguished in several sports\n",
      "[2.2, 3.0, 4.43, 3.73, 4.67]\n",
      "\n",
      "to hold firm\n",
      "[5.47, 3.67, 4.73, 3.3, 4.0]\n",
      "\n",
      "don't allow such treatment\n",
      "[5.9, 2.6, 3.03, 3.13, 4.03]\n",
      "\n",
      "to pass the test of time\n",
      "[4.03, 2.4, 3.4, 2.73, 4.2]\n",
      "\n",
      "united we are strong\n",
      "[4.33, 3.13, 4.93, 4.27, 5.73]\n",
      "\n",
      "we are backed up by 30 years experience\n",
      "[2.5, 2.73, 3.0, 3.13, 5.2]\n",
      "\n",
      "let the issue remain as is\n",
      "[3.37, 2.47, 2.97, 2.47, 2.87]\n",
      "\n",
      "leave the mixture undisturbed\n",
      "[2.97, 2.43, 3.6, 2.6, 2.33]\n",
      "\n",
      "have a dale with someone who didn 't show up\n",
      "[3.93, 2.8, 2.27, 3.87, 4.23]\n",
      "\n",
      "he measures six-foot nine\n",
      "[1.6, 5.73, 2.73, 2.3, 2.4]\n",
      "\n",
      "the clock is on the mantle\n",
      "[1.17, 3.23, 3.6, 2.77, 3.1]\n",
      "\n",
      "one-night fling\n",
      "[2.7, 2.03, 2.1, 3.13, 3.43]\n",
      "\n",
      "to be in the position to make a profit\n",
      "[2.03, 2.73, 3.2, 4.27, 3.9]\n",
      "\n",
      "to be in someone else's shoes\n",
      "[2.57, 2.63, 2.1, 4.13, 4.67]\n",
      "\n",
      "on the witness platform\n",
      "[3.17, 3.4, 2.6, 4.83, 4.1]\n",
      "\n",
      "be in aw\n",
      "[2.23, 2.47, 2.57, 3.43, 4.37]\n",
      "\n",
      "the police told them to get back\n",
      "[5.43, 2.37, 2.47, 4.23, 4.73]\n",
      "\n",
      "support your man\n",
      "[2.53, 3.53, 3.47, 3.83, 3.83]\n",
      "\n",
      "the engine can't endure the constant wear\n",
      "[4.6, 2.4, 2.77, 3.23, 4.13]\n",
      "\n",
      "to be on shaky ground\n",
      "[4.6, 3.47, 5.33, 3.2, 3.77]\n",
      "\n",
      "to be accused\n",
      "[4.8, 2.13, 2.23, 4.47, 4.43]\n",
      "\n",
      "the house is in the clearing\n",
      "[1.4, 2.53, 2.27, 4.83, 2.8]\n",
      "\n",
      "the barometer is at 30 inches\n",
      "[2.3, 5.03, 2.7, 2.87, 3.1]\n",
      "\n",
      "as the matter now exists\n",
      "[2.3, 2.4, 2.43, 2.7, 3.7]\n",
      "\n",
      "the part represents the whole\n",
      "[1.87, 2.33, 3.23, 4.47, 4.67]\n",
      "\n",
      "it conforms with reason\n",
      "[2.47, 1.97, 2.57, 3.1, 3.57]\n",
      "\n",
      "they did nothing but hang around\n",
      "[2.53, 2.8, 2.43, 3.27, 2.9]\n",
      "\n",
      "to face great odds\n",
      "[5.7, 3.07, 3.2, 3.97, 4.33]\n",
      "\n",
      "a roaring ovation\n",
      "[2.63, 4.13, 2.73, 4.83, 5.43]\n",
      "\n",
      "the boss always hovers over me\n",
      "[4.37, 3.9, 2.7, 4.4, 3.93]\n",
      "\n",
      "he remains committed\n",
      "[3.56, 3.21, 2.12, 3.01, 3.66]\n",
      "\n"
     ]
    }
   ],
   "source": [
    "for i in range(len(x_original4)):\n",
    "    print(STIMULI_EXP4[i])\n",
    "    print(x_original4[i])\n",
    "    print(\"\")"
   ]
  },
  {
   "cell_type": "code",
   "execution_count": 139,
   "metadata": {},
   "outputs": [
    {
     "name": "stdout",
     "output_type": "stream",
     "text": [
      "stand at attention\n",
      "[4.0, 6.08, 5.0, 3.08, 2.08]\n",
      "\n",
      "stand out in several sports\n",
      "[2.0, 3.54, 2.83, 5.04, 3.42]\n",
      "\n",
      "to stand firm\n",
      "[6.21, 4.13, 5.04, 3.75, 2.83]\n",
      "\n",
      "don't stand for such treatment\n",
      "[5.54, 2.21, 3.04, 3.13, 3.08]\n",
      "\n",
      "to stand the test of time\n",
      "[4.88, 2.38, 3.92, 3.0, 4.08]\n",
      "\n",
      "united we stand\n",
      "[4.79, 4.21, 4.25, 4.78, 6.33]\n",
      "\n",
      "we stand on 30 years of experience\n",
      "[2.46, 2.63, 2.92, 3.43, 4.58]\n",
      "\n",
      "let the issue stand\n",
      "[2.83, 1.92, 2.08, 3.04, 2.96]\n",
      "\n",
      "let the mixture stand\n",
      "[1.54, 2.08, 3.17, 1.88, 2.0]\n",
      "\n",
      "get stood up for a date\n",
      "[1.83, 3.17, 3.04, 2.29, 2.17]\n",
      "\n",
      "he stands six-foot nine\n",
      "[2.29, 6.5, 3.54, 1.96, 2.0]\n",
      "\n",
      "the clock stands on the mantle\n",
      "[2.0, 4.38, 4.46, 2.13, 2.42]\n",
      "\n",
      "one-night stand\n",
      "[1.63, 1.46, 1.29, 2.17, 3.04]\n",
      "\n",
      "to stand to profit\n",
      "[2.04, 1.75, 1.79, 1.74, 3.54]\n",
      "\n",
      "to stand in someone else's shoes\n",
      "[2.25, 3.58, 2.96, 4.13, 4.7]\n",
      "\n",
      "on the witness stand\n",
      "[1.83, 2.08, 1.5, 3.63, 2.96]\n",
      "\n",
      "stand in awe\n",
      "[2.33, 3.75, 3.29, 3.65, 3.5]\n",
      "\n",
      "the police told them to stand back\n",
      "[3.63, 3.42, 2.17, 3.46, 2.74]\n",
      "\n",
      "stand by your man\n",
      "[3.0, 3.79, 2.79, 3.46, 4.74]\n",
      "\n",
      "the engine can't stand the constant wear\n",
      "[4.88, 1.33, 1.83, 1.58, 3.5]\n",
      "\n",
      "stand on shaky ground\n",
      "[4.63, 3.92, 6.04, 2.71, 3.29]\n",
      "\n",
      "to stand accused\n",
      "[3.5, 2.29, 2.0, 3.63, 3.54]\n",
      "\n",
      "the house stands in the clearing\n",
      "[1.83, 4.63, 3.5, 4.08, 3.17]\n",
      "\n",
      "the barometer stands at 30 inches\n",
      "[1.83, 4.71, 3.38, 1.46, 3.13]\n",
      "\n",
      "as the matter now stands\n",
      "[2.42, 1.88, 2.96, 2.63, 3.25]\n",
      "\n",
      "the part stands for the whole\n",
      "[2.29, 1.83, 1.96, 3.87, 2.42]\n",
      "\n",
      "it stands to reason\n",
      "[2.25, 1.96, 2.63, 2.42, 3.63]\n",
      "\n",
      "they did nothing but stand around\n",
      "[1.92, 4.71, 3.54, 2.13, 2.21]\n",
      "\n",
      "to stand against great odds\n",
      "[6.46, 3.08, 4.13, 5.13, 4.25]\n",
      "\n",
      "a standing ovation\n",
      "[1.96, 5.0, 3.17, 3.5, 3.5]\n",
      "\n",
      "the boss always stands over me\n",
      "[3.58, 4.71, 2.75, 4.04, 3.75]\n",
      "\n",
      "he stands committed\n",
      "[4.12, 3.66, 3.55, 3.12, 3.29]\n",
      "\n"
     ]
    }
   ],
   "source": [
    "for i in range(len(x_original3)):\n",
    "    print(STIMULI_EXP3[i])\n",
    "    print(x_original3[i])\n",
    "    print(\"\")"
   ]
  }
 ],
 "metadata": {
  "kernelspec": {
   "display_name": "Python 3",
   "language": "python",
   "name": "python3"
  },
  "language_info": {
   "codemirror_mode": {
    "name": "ipython",
    "version": 3
   },
   "file_extension": ".py",
   "mimetype": "text/x-python",
   "name": "python",
   "nbconvert_exporter": "python",
   "pygments_lexer": "ipython3",
   "version": "3.9.7"
  }
 },
 "nbformat": 4,
 "nbformat_minor": 4
}
