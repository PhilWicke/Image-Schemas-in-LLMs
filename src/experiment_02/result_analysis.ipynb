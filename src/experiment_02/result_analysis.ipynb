{
 "cells": [
  {
   "cell_type": "code",
   "execution_count": 2,
   "metadata": {},
   "outputs": [],
   "source": [
    "import pandas as pd\n",
    "import openai\n",
    "import time\n",
    "import re\n",
    "from scipy import stats\n",
    "from statsmodels.stats.multitest import multipletests\n",
    "from sklearn.metrics import mean_absolute_error\n",
    "import pickle\n",
    "import numpy as np\n",
    "import matplotlib.pyplot as plt\n",
    "from transformers import AutoTokenizer, AutoModelForCausalLM\n",
    "import datetime \n",
    "import sys\n",
    "sys.path.append('../experiment_01')\n",
    "from sidemethods import logprobs_from_prompt, proc, proc_lower, prob_of_ending\n",
    "import torch\n",
    "import random\n",
    "# import benjamin-hochberg\n",
    "from statsmodels.stats.multitest import multipletests"
   ]
  },
  {
   "cell_type": "code",
   "execution_count": 18,
   "metadata": {},
   "outputs": [],
   "source": [
    "def make_bar_plots_gibbs(model_result_dict_3, model_result_dict_4, title):\n",
    "    # Visualize results as bar charts with 2 bars per key (one for each experiment) and each bar being the correlation coefficient\n",
    "    plt.figure(figsize=(12, 6))\n",
    "    plt.title(title)\n",
    "    plt.xlabel(\"Image Schema\")\n",
    "    plt.ylabel(\"Spearman Correlation Coefficient\")\n",
    "    # set y axis to 0.0 to 1.0\n",
    "    plt.ylim(0.0, 1.0)\n",
    "    # set y ticks to 0.0, 0.2, 0.4, ..., 1.0\n",
    "    plt.yticks(np.arange(0.0, 1.1, 0.2))\n",
    "    for key in DEFINITIONS:\n",
    "        # the bars of the two experiments are next to each other\n",
    "        plt.bar(key, stats.spearmanr(model_result_dict_3[key], exp_3_df[key])[0], width=0.4, color='orange')\n",
    "        # move the bar to the right\n",
    "        plt.bar(key, stats.spearmanr(model_result_dict_4[key], exp_4_df[key])[0], width=0.4, align='edge', color='blue')\n",
    "    plt.legend([\"Experiment 3\", \"Experiment 4\"])\n",
    "    plt.grid(axis='y')\n",
    "    plt.show()\n",
    "\n",
    "def make_bar_plots_beitel(model_result_dict_2, title):\n",
    "    # Visualize results as bar charts with 2 bars per key (one for each experiment) and each bar being the correlation coefficient\n",
    "    plt.figure(figsize=(12, 4))\n",
    "    plt.title(title)\n",
    "    plt.xlabel(\"Image Schema\")\n",
    "    plt.ylabel(\"Spearman Correlation Coefficient\")\n",
    "    # set y axis to 0.0 to 1.0\n",
    "    plt.ylim(0.0, 1.0)\n",
    "    # set y ticks to 0.0, 0.2, 0.4, ..., 1.0\n",
    "    plt.yticks(np.arange(0.0, 1.1, 0.2))\n",
    "    for key in DEFINITIONS_2:\n",
    "        # the bars of the two experiments are next to each other\n",
    "        plt.bar(key, stats.spearmanr(model_result_dict_2[key], exp_2_df[key])[0], width=0.4, color='red')\n",
    "        # move the bar to the right\n",
    "    plt.legend([\"Experiment 2\"])\n",
    "    plt.grid(axis='y')\n",
    "    plt.show()\n",
    "\n",
    "def make_bar_plots_all(model_result_dict_2, model_result_dict_3, model_result_dict_4, title):\n",
    "    # exp2 has different keys than exp3 and exp4\n",
    "    # Visualize results as bar charts with 3 bars per xtick, the x labels being the image schemas and the bars being the correlation coefficient\n",
    "    plt.figure(figsize=(16, 5))\n",
    "    plt.title(title)\n",
    "    plt.xlabel(\"Image Schema\")\n",
    "    plt.ylabel(\"Spearman Correlation Coefficient\")\n",
    "    # set y axis to 0.0 to 1.0\n",
    "    plt.ylim(0.0, 1.0)\n",
    "    # set y ticks to 0.0, 0.2, 0.4, ..., 1.0\n",
    "    plt.yticks(np.arange(0.0, 1.1, 0.2))\n",
    "    for i, key in enumerate(DEFINITIONS_2):\n",
    "        # the bars of the two experiments are next to each other\n",
    "        plt.bar(i-0.25, stats.spearmanr(model_result_dict_2[key], exp_2_df[key])[0], width=0.25, color='red')\n",
    "    for i, key in enumerate(DEFINITIONS):\n",
    "        # move the bar to the right\n",
    "        plt.bar(i, stats.spearmanr(model_result_dict_3[key], exp_3_df[key])[0], width=0.25, color='orange')\n",
    "        # move the bar to the right\n",
    "        plt.bar(i+0.25, stats.spearmanr(model_result_dict_4[key], exp_4_df[key])[0], width=0.25, color='blue')\n",
    "    # change x labels to image schema names\n",
    "    labels = []\n",
    "    for key in DEFINITIONS_2:\n",
    "        labels.append(key)\n",
    "    for j, key in enumerate(DEFINITIONS):\n",
    "        labels[j]+= \"/\" + key\n",
    "    plt.xticks(np.arange(len(labels)), labels)\n",
    "    # add grid\n",
    "    plt.grid(axis='y')\n",
    "\n",
    "\n",
    "def make_scatter_plots_beitel(model_result_dict_2, title):\n",
    "    # plot side by side, 5 plots\n",
    "    fig, axs = plt.subplots(1, 5, figsize=(20, 3))\n",
    "    fig.suptitle(title)\n",
    "    plt.tight_layout()\n",
    "    # add space between title and plots\n",
    "    #fig.subplots_adjust(top=0.2)\n",
    "    for i, key in enumerate(DEFINITIONS_2):\n",
    "        # add scatter plot\n",
    "        axs[i].scatter(model_result_dict_2[key], exp_2_df[key], color='red')\n",
    "        axs[i].set_title(key)\n",
    "        if i==0: axs[i].set_ylabel(\"Human Rating (Exp 2)\")\n",
    "        axs[i].set_xlabel(\"GPT Rating\")\n",
    "        # set x and y limits to 0 to 7.2\n",
    "        axs[i].set_xlim(0.7, 7.2)\n",
    "        axs[i].set_ylim(0.7, 7.2)\n",
    "        # set x and y ticks to 0, 1, 2, ..., 7\n",
    "        axs[i].set_xticks(np.arange(1, 8, 1))\n",
    "        axs[i].set_yticks(np.arange(1, 8, 1))\n",
    "        # add correlation coefficient to each plot\n",
    "        axs[i].text(0.05, 0.95, \"r = \" + str(round(stats.spearmanr(model_result_dict_2[key], exp_2_df[key])[0], 2)), transform=axs[i].transAxes, fontsize=12, verticalalignment='top')\n",
    "\n",
    "def make_scatter_plots_gibbs(model_result_dict_3, model_result_dict_4, title):\n",
    "    # plot side by side, 5 plots\n",
    "    fig, axs = plt.subplots(2, 5, figsize=(20, 6))\n",
    "    fig.suptitle(title)\n",
    "    for i, key in enumerate(DEFINITIONS):\n",
    "        axs[0, i].scatter(model_result_dict_3[key], exp_3_df[key], color='orange')\n",
    "        axs[0, i].set_title(key)\n",
    "        if i==0: axs[0, i].set_ylabel(\"Human Rating (Exp 3)\")\n",
    "        axs[1, i].scatter(model_result_dict_4[key], exp_4_df[key], color='blue')\n",
    "        axs[1, i].set_xlabel(\"GPT Rating\")\n",
    "        if i ==0: axs[1, i].set_ylabel(\"Human Rating (Exp 4)\")\n",
    "        # set x and y limits to 0 to 7.2\n",
    "        axs[0, i].set_xlim(0.7, 7.2)\n",
    "        axs[0, i].set_ylim(0.7, 7.2)\n",
    "        axs[1, i].set_xlim(0.7, 7.2)\n",
    "        axs[1, i].set_ylim(0.7, 7.2)\n",
    "        # set x and y ticks to 0, 1, 2, ..., 7\n",
    "        axs[0, i].set_xticks(np.arange(1, 8, 1))\n",
    "        axs[0, i].set_yticks(np.arange(1, 8, 1))\n",
    "        axs[1, i].set_xticks(np.arange(1, 8, 1))\n",
    "        axs[1, i].set_yticks(np.arange(1, 8, 1))\n",
    "        # add correlation coefficient to each plot\n",
    "        axs[0, i].text(0.05, 0.95, \"r = \" + str(round(stats.spearmanr(model_result_dict_3[key], exp_3_df[key])[0], 2)), transform=axs[0, i].transAxes, fontsize=12, verticalalignment='top')\n",
    "        axs[1, i].text(0.05, 0.95, \"r = \" + str(round(stats.spearmanr(model_result_dict_4[key], exp_4_df[key])[0], 2)), transform=axs[1, i].transAxes, fontsize=12, verticalalignment='top')\n",
    "\n",
    "def print_correlations(completions_clean, exp_df, correlation_type, name=\"\"):\n",
    "    all_p_values = []\n",
    "    all_r_values = []\n",
    "    if correlation_type == \"spearman\":\n",
    "        print(\"Spearman correlations per IS:\")\n",
    "        for k in completions_clean:\n",
    "            all_r_values.append(stats.spearmanr(completions_clean[k], exp_df[k])[0])\n",
    "            all_p_values.append(stats.spearmanr(completions_clean[k], exp_df[k])[1])\n",
    "    elif correlation_type == \"pearson\":\n",
    "        print(\"Pearson correlations per IS:\")\n",
    "        for k in completions_clean:\n",
    "            all_r_values.append(stats.pearsonr(completions_clean[k], exp_df[k])[0])\n",
    "            all_p_values.append(stats.pearsonr(completions_clean[k], exp_df[k])[1])\n",
    "    # correct p values using bonferroni-holm\n",
    "    corrected_p_values = multipletests(all_p_values, alpha=0.05, method='holm')[1] \n",
    "    for i,k in enumerate(completions_clean):\n",
    "        print(k[:12], \"\\tp-value:\", round(all_p_values[i],3), \"\\tcorrelation:\", round(all_r_values[i],3))#, \"corrected p-value:\", corrected_p_values[i]) \n",
    "\n",
    "\n",
    "def add_p_values_to_list(completions_clean, exp_df, correlation_type, all_p_values, all_r_values, labels, name, ignore_nan):\n",
    "    if correlation_type == \"spearman\":\n",
    "        for k in completions_clean:\n",
    "            r, p = stats.spearmanr(completions_clean[k], exp_df[k])\n",
    "            # check for nan\n",
    "            if np.isnan(p) and not ignore_nan:\n",
    "                p = 1.0\n",
    "                all_r_values.append(r)\n",
    "                all_p_values.append(p)\n",
    "                labels.append(name+\"_\"+k[:12])\n",
    "            if not np.isnan(p):\n",
    "                all_r_values.append(r)\n",
    "                all_p_values.append(p)\n",
    "                labels.append(name+\"_\"+k[:12])\n",
    "    elif correlation_type == \"pearson\":\n",
    "        for k in completions_clean:\n",
    "            r, p = stats.pearsonr(completions_clean[k], exp_df[k])\n",
    "            # check for nan\n",
    "            if np.isnan(p) and not ignore_nan:\n",
    "                p = 1.0\n",
    "                all_r_values.append(r)\n",
    "                all_p_values.append(p)\n",
    "                labels.append(name+\"_\"+k[:12])\n",
    "            if not np.isnan(p):\n",
    "                all_r_values.append(r)\n",
    "                all_p_values.append(p)\n",
    "                labels.append(name+\"_\"+k[:12])\n",
    "    return all_p_values, all_r_values, labels            \n",
    "    \n",
    "    \n",
    "\n",
    "def get_mean_absolute_error(completions, exp_df):\n",
    "    print(\"The mean absolute error for each image schema is: \")\n",
    "    errs = []\n",
    "    for key in completions:\n",
    "        print(key, mean_absolute_error(completions[key], exp_df[key]))\n",
    "        errs.append(mean_absolute_error(completions[key], exp_df[key]))\n",
    "    print(\"The mean absolute error for all image schemas is: \", np.mean(errs))"
   ]
  },
  {
   "cell_type": "markdown",
   "metadata": {},
   "source": [
    "# Load Data"
   ]
  },
  {
   "cell_type": "code",
   "execution_count": 4,
   "metadata": {},
   "outputs": [
    {
     "name": "stdout",
     "output_type": "stream",
     "text": [
      "37\n",
      "32\n",
      "32\n"
     ]
    }
   ],
   "source": [
    "exp_2_df = pd.read_csv('../../data/Beitel_Exp2.csv', sep=';')\n",
    "exp_3_df = pd.read_csv('../../data/Gibbs_Exp3.csv', sep=';')\n",
    "# drop nan rows\n",
    "exp_3_df = exp_3_df.dropna()\n",
    "exp_4_df = pd.read_csv('../../data/Gibbs_Exp4.csv', sep=';')\n",
    "STIMULI_EXP2 = exp_2_df['Stimulus'].values\n",
    "STIMULI_EXP3 = exp_3_df['Stimulus'].values\n",
    "STIMULI_EXP4 = exp_4_df['Stimulus'].values\n",
    "print(len(STIMULI_EXP2))\n",
    "print(len(STIMULI_EXP3))\n",
    "print(len(STIMULI_EXP4))\n",
    "\n",
    "DEFINITIONS = {\n",
    "    \"VERTICALITY\": \"Consider the notion of VERTICALITY. Verticality refers to the sense of an extension along an up—down orientation.\",\n",
    "    \"BALANCE\": \"Consider the notion of BALANCE. Balance refers to your sense of symmetry or stability relative to some point within your body.\",\n",
    "    \"CENTER-PERIPHERY\": \"Consider the notion of CENTER-PERIPHERY. Center-periphery refers to the experience of some objects or events as central while surrounding objects and events are peripheral or to the outside.\",\n",
    "    \"LINKAGE\": \"Consider the notion of LINKAGE. Linkage refers to the perception of a connection between objects or events.\",\n",
    "    \"RESISTANCE\": \"Consider the notion of RESISTANCE. Resistance refers to the experience of your body opposing some external force.\"\n",
    "}\n",
    "\n",
    "DEFINITIONS_2_INTRO='In the case of the use of \"on\" in \"the book is on the desk\":'\n",
    "DEFINITIONS_2 = {\n",
    "    \"SUPPORT\": \"the SUPPORT relation refers to the desk supporting the book.\",\n",
    "    \"PRESSURE\": \"the PRESSURE relation refers to the book exerting some pressure on the desk.\",\n",
    "    \"CONSTRAINT\": \"the CONSTRAINT relation refers to the desk constraining the possible motions of the book.\",\n",
    "    \"COVERING\": \"the COVERING relation refers to the book concealing the part of the desk that is under the book.\",     # TODO:\";\" changed to \".\"\n",
    "    \"VISIBILITY\": \"the VISIBILITY relation refers to the book being visible on the desk.\"\n",
    "}"
   ]
  },
  {
   "cell_type": "code",
   "execution_count": 5,
   "metadata": {},
   "outputs": [],
   "source": [
    "# load model completion data\n",
    "\n",
    "# davinci003\n",
    "davinci003_exp2_df = pd.read_csv('lm_generations/df_single_prompt_exp2_davinci003_2023-10-19.csv')\n",
    "davinci003_exp2_dict = {key: davinci003_exp2_df[key].values for key in [\"SUPPORT\", \"PRESSURE\", \"CONSTRAINT\", \"COVERING\", \"VISIBILITY\"]}\n",
    "\n",
    "davinci003_exp3_df = pd.read_csv('lm_generations/df_single_prompt_exp3_davinci003_2023-10-18.csv')\n",
    "davinci003_exp3_dict = {key: davinci003_exp3_df[key].values for key in [\"VERTICALITY\", \"BALANCE\", \"CENTER-PERIPHERY\", \"LINKAGE\", \"RESISTANCE\"]}\n",
    "\n",
    "davinci003_exp4_df = pd.read_csv('lm_generations/df_single_prompt_exp4_davinci003_2023-10-18.csv')\n",
    "davinci003_exp4_dict = {key: davinci003_exp4_df[key].values for key in [\"VERTICALITY\", \"BALANCE\", \"CENTER-PERIPHERY\", \"LINKAGE\", \"RESISTANCE\"]}\n",
    "\n",
    "# davinci003 with logprobs\n",
    "davinci003_exp2_df_logprobs = pd.read_csv('lm_generations/df_single_prompt_exp2_davinci003_logprobs_2023-10-19.csv')\n",
    "davinci003_exp2_dict_logprobs = {key: davinci003_exp2_df_logprobs[key].values for key in [\"SUPPORT\", \"PRESSURE\", \"CONSTRAINT\", \"COVERING\", \"VISIBILITY\"]}\n",
    "\n",
    "davinci003_exp3_df_logprobs = pd.read_csv('lm_generations/df_single_prompt_exp3_davinci003_logprobs_2023-10-18.csv')\n",
    "davinci003_exp3_dict_logprobs = {key: davinci003_exp3_df_logprobs[key].values for key in [\"VERTICALITY\", \"BALANCE\", \"CENTER-PERIPHERY\", \"LINKAGE\", \"RESISTANCE\"]}\n",
    "\n",
    "davinci003_exp4_df_logprobs = pd.read_csv('lm_generations/df_single_prompt_exp4_davinci003_logprobs_2023-10-18.csv')\n",
    "davinci003_exp4_dict_logprobs = {key: davinci003_exp4_df_logprobs[key].values for key in [\"VERTICALITY\", \"BALANCE\", \"CENTER-PERIPHERY\", \"LINKAGE\", \"RESISTANCE\"]}\n",
    "\n",
    "# davinci002\n",
    "davinci002_exp2_df = pd.read_csv('lm_generations/df_single_prompt_exp2_davinci002_2023-11-04.csv')\n",
    "davinci002_exp2_dict = {key: davinci002_exp2_df[key].values for key in [\"SUPPORT\", \"PRESSURE\", \"CONSTRAINT\", \"COVERING\", \"VISIBILITY\"]}\n",
    "\n",
    "davinci002_exp3_df = pd.read_csv('lm_generations/df_single_prompt_exp3_davinci-002_2023-11-04.csv')\n",
    "davinci002_exp3_dict = {key: davinci002_exp3_df[key].values for key in [\"VERTICALITY\", \"BALANCE\", \"CENTER-PERIPHERY\", \"LINKAGE\", \"RESISTANCE\"]}\n",
    "\n",
    "davinci002_exp4_df = pd.read_csv('lm_generations/df_single_prompt_exp4_davinci-002_2023-11-04.csv', sep=';')\n",
    "davinci002_exp4_dict = {key: davinci002_exp4_df[key].values for key in [\"VERTICALITY\", \"BALANCE\", \"CENTER-PERIPHERY\", \"LINKAGE\", \"RESISTANCE\"]}\n",
    "\n",
    "# davinci 002 with logprobs\n",
    "\n",
    "davinci002_exp3_df_logprobs = pd.read_csv('lm_generations/df_single_prompt_exp3_davinci-002_logprobs_2023-11-04.csv')\n",
    "davinci002_exp3_dict_logprobs = {key: davinci002_exp3_df_logprobs[key].values for key in [\"VERTICALITY\", \"BALANCE\", \"CENTER-PERIPHERY\", \"LINKAGE\", \"RESISTANCE\"]}\n",
    "\n",
    "# gpt-4\n",
    "\n",
    "gpt4_exp2_df = pd.read_csv('lm_generations/df_single_prompt_exp2_gpt-4_2023-11-04.csv')\n",
    "gpt4_exp2_dict = {key: gpt4_exp2_df[key].values for key in [\"SUPPORT\", \"PRESSURE\", \"CONSTRAINT\", \"COVERING\", \"VISIBILITY\"]}\n",
    "\n",
    "gpt4_exp3_df = pd.read_csv('lm_generations/df_single_prompt_exp3_gpt-4_2023-11-04.csv')\n",
    "gpt4_exp3_dict = {key: gpt4_exp3_df[key].values for key in [\"VERTICALITY\", \"BALANCE\", \"CENTER-PERIPHERY\", \"LINKAGE\", \"RESISTANCE\"]}\n",
    "\n",
    "gpt4_exp4_df = pd.read_csv('lm_generations/df_single_prompt_exp4_gpt-4_2023-11-04.csv')\n",
    "gpt4_exp4_dict = {key: gpt4_exp4_df[key].values for key in [\"VERTICALITY\", \"BALANCE\", \"CENTER-PERIPHERY\", \"LINKAGE\", \"RESISTANCE\"]}\n",
    "\n",
    "# llama7b\n",
    "llama7b_exp2_df = pd.read_csv('lm_generations/df_single_prompt_exp2_llama7-chat_2023-11-19.csv')\n",
    "llama7b_exp2_dict = {key: llama7b_exp2_df[key].values for key in [\"SUPPORT\", \"PRESSURE\", \"CONSTRAINT\", \"COVERING\", \"VISIBILITY\"]}\n",
    "\n",
    "llama7b_exp3_df = pd.read_csv('lm_generations/df_single_prompt_exp3_llama7-chat_2023-11-19.csv')\n",
    "llama7b_exp3_dict = {key: llama7b_exp3_df[key].values for key in [\"VERTICALITY\", \"BALANCE\", \"CENTER-PERIPHERY\", \"LINKAGE\", \"RESISTANCE\"]}\n",
    "\n",
    "llama7b_exp4_df = pd.read_csv('lm_generations/df_single_prompt_exp4_llama7-chat_2023-11-19.csv')\n",
    "llama7b_exp4_dict = {key: llama7b_exp4_df[key].values for key in [\"VERTICALITY\", \"BALANCE\", \"CENTER-PERIPHERY\", \"LINKAGE\", \"RESISTANCE\"]}\n",
    "\n",
    "# llama 13b\n",
    "llama13b_exp2_df = pd.read_csv('lm_generations/df_single_prompt_exp2_llama13-chat_2023-11-19.csv')\n",
    "llama13b_exp2_dict = {key: llama13b_exp2_df[key].values for key in [\"SUPPORT\", \"PRESSURE\", \"CONSTRAINT\", \"COVERING\", \"VISIBILITY\"]}\n",
    "\n",
    "llama13b_exp3_df = pd.read_csv('lm_generations/df_single_prompt_exp3_llama13-chat_2023-11-19.csv')\n",
    "llama13b_exp3_dict = {key: llama13b_exp3_df[key].values for key in [\"VERTICALITY\", \"BALANCE\", \"CENTER-PERIPHERY\", \"LINKAGE\", \"RESISTANCE\"]}\n",
    "\n",
    "llama13b_exp4_df = pd.read_csv('lm_generations/df_single_prompt_exp4_llama13-chat_2023-11-19.csv')\n",
    "llama13b_exp4_dict = {key: llama13b_exp4_df[key].values for key in [\"VERTICALITY\", \"BALANCE\", \"CENTER-PERIPHERY\", \"LINKAGE\", \"RESISTANCE\"]}\n",
    "\n",
    "# llama 70b\n",
    "llama70b_exp2_df = pd.read_csv('lm_generations/df_single_prompt_exp2_llama70-chat_2023-11-23.csv')\n",
    "llama70b_exp2_dict = {key: llama70b_exp2_df[key].values for key in [\"SUPPORT\", \"PRESSURE\", \"CONSTRAINT\", \"COVERING\", \"VISIBILITY\"]}\n",
    "\n",
    "llama70b_exp3_df = pd.read_csv('lm_generations/df_single_prompt_exp3_llama70-chat_2023-11-23.csv')\n",
    "llama70b_exp3_dict = {key: llama70b_exp3_df[key].values for key in [\"VERTICALITY\", \"BALANCE\", \"CENTER-PERIPHERY\", \"LINKAGE\", \"RESISTANCE\"]}\n",
    "\n",
    "llama70b_exp4_df = pd.read_csv('lm_generations/df_single_prompt_exp4_llama70-chat_2023-11-23.csv')\n",
    "llama70b_exp4_dict = {key: llama70b_exp4_df[key].values for key in [\"VERTICALITY\", \"BALANCE\", \"CENTER-PERIPHERY\", \"LINKAGE\", \"RESISTANCE\"]}"
   ]
  },
  {
   "cell_type": "markdown",
   "metadata": {},
   "source": [
    "# Analyse Data"
   ]
  },
  {
   "cell_type": "markdown",
   "metadata": {},
   "source": [
    "## Logprob vs Max"
   ]
  },
  {
   "cell_type": "code",
   "execution_count": 6,
   "metadata": {},
   "outputs": [
    {
     "name": "stdout",
     "output_type": "stream",
     "text": [
      "\n",
      "Experiment 2 — Beitel:\n",
      "The mean absolute error for each image schema is: \n",
      "SUPPORT 0.5474568620338988\n",
      "PRESSURE 0.4206053416524155\n",
      "CONSTRAINT 0.3769131011273762\n",
      "COVERING 0.23106340288452404\n",
      "VISIBILITY 0.44818815163176273\n",
      "The mean absolute error for all image schemas is:  0.4048453718659955\n",
      "\n",
      "Experiment 3 — Gibbs Stand:\n",
      "The mean absolute error for each image schema is: \n",
      "VERTICALITY 0.25352565197994803\n",
      "BALANCE 0.3375683414003554\n",
      "CENTER-PERIPHERY 0.5833259490262679\n",
      "LINKAGE 0.3445448829863865\n",
      "RESISTANCE 0.3778412002022125\n",
      "The mean absolute error for all image schemas is:  0.3793612051190341\n",
      "\n",
      "Experiment 4 — Gibbs Syonnym:\n",
      "The mean absolute error for each image schema is: \n",
      "VERTICALITY 0.3098702671255624\n",
      "BALANCE 0.3721755113682907\n",
      "CENTER-PERIPHERY 0.5968953036838861\n",
      "LINKAGE 0.2982509853946872\n",
      "RESISTANCE 0.3250758973405232\n",
      "The mean absolute error for all image schemas is:  0.38045359298258996\n"
     ]
    }
   ],
   "source": [
    "# how big is the difference when using logprob averaging?\n",
    "print(\"\\nExperiment 2 — Beitel:\")\n",
    "get_mean_absolute_error(davinci003_exp2_dict, davinci003_exp2_dict_logprobs)\n",
    "print(\"\\nExperiment 3 — Gibbs Stand:\")\n",
    "get_mean_absolute_error(davinci003_exp3_dict, davinci003_exp3_dict_logprobs)\n",
    "print(\"\\nExperiment 4 — Gibbs Syonnym:\")\n",
    "get_mean_absolute_error(davinci003_exp4_dict, davinci003_exp4_dict_logprobs)"
   ]
  },
  {
   "cell_type": "markdown",
   "metadata": {},
   "source": [
    "## Correlations"
   ]
  },
  {
   "cell_type": "markdown",
   "metadata": {},
   "source": [
    "all with corrections"
   ]
  },
  {
   "cell_type": "code",
   "execution_count": 22,
   "metadata": {},
   "outputs": [
    {
     "name": "stdout",
     "output_type": "stream",
     "text": [
      "beitel_davinci002_SUPPORT \tp-value: 1.0 \tcorrected p-value: 1.0 \tcorrelation: nan\n",
      "beitel_davinci002_SUPPORT \tp-value: 1.0 \tcorrected p-value: 1.0 \tcorrelation: nan\n",
      "beitel_davinci002_PRESSURE \tp-value: 1.0 \tcorrected p-value: 1.0 \tcorrelation: nan\n",
      "beitel_davinci002_PRESSURE \tp-value: 1.0 \tcorrected p-value: 1.0 \tcorrelation: nan\n",
      "beitel_davinci002_CONSTRAINT \tp-value: 1.0 \tcorrected p-value: 1.0 \tcorrelation: nan\n",
      "beitel_davinci002_CONSTRAINT \tp-value: 1.0 \tcorrected p-value: 1.0 \tcorrelation: nan\n",
      "beitel_davinci002_COVERING \tp-value: 1.0 \tcorrected p-value: 1.0 \tcorrelation: nan\n",
      "beitel_davinci002_COVERING \tp-value: 1.0 \tcorrected p-value: 1.0 \tcorrelation: nan\n",
      "beitel_davinci002_VISIBILITY \tp-value: 1.0 \tcorrected p-value: 1.0 \tcorrelation: nan\n",
      "beitel_davinci002_VISIBILITY \tp-value: 1.0 \tcorrected p-value: 1.0 \tcorrelation: nan\n",
      "beitel_davinci003_SUPPORT \tp-value: 0.94 \tcorrected p-value: 1.0 \tcorrelation: 0.013\n",
      "beitel_davinci003_PRESSURE \tp-value: 0.146 \tcorrected p-value: 0.355 \tcorrelation: 0.244\n",
      "beitel_davinci003_CONSTRAINT \tp-value: 0.0 \tcorrected p-value: 0.0 \tcorrelation: 0.615 ***\n",
      "beitel_davinci003_COVERING \tp-value: 0.008 \tcorrected p-value: 0.038 \tcorrelation: 0.432 ***\n",
      "beitel_davinci003_VISIBILITY \tp-value: 0.0 \tcorrected p-value: 0.0 \tcorrelation: 0.686 ***\n",
      "beitel_gpt4_SUPPORT \tp-value: 0.718 \tcorrected p-value: 1.0 \tcorrelation: 0.061\n",
      "beitel_gpt4_PRESSURE \tp-value: 0.085 \tcorrected p-value: 0.268 \tcorrelation: 0.287\n",
      "beitel_gpt4_CONSTRAINT \tp-value: 0.0 \tcorrected p-value: 0.0 \tcorrelation: 0.611 ***\n",
      "beitel_gpt4_COVERING \tp-value: 0.444 \tcorrected p-value: 0.8 \tcorrelation: 0.13\n",
      "beitel_gpt4_VISIBILITY \tp-value: 0.0 \tcorrected p-value: 0.0 \tcorrelation: 0.619 ***\n",
      "beitel_llama13b_SUPPORT \tp-value: 0.009 \tcorrected p-value: 0.039 \tcorrelation: 0.423 ***\n",
      "beitel_llama13b_PRESSURE \tp-value: 0.309 \tcorrected p-value: 0.663 \tcorrelation: -0.172\n",
      "beitel_llama13b_CONSTRAINT \tp-value: 0.089 \tcorrected p-value: 0.268 \tcorrelation: 0.283\n",
      "beitel_llama13b_COVERING \tp-value: 0.601 \tcorrected p-value: 1.0 \tcorrelation: 0.089\n",
      "beitel_llama13b_VISIBILITY \tp-value: 0.149 \tcorrected p-value: 0.355 \tcorrelation: 0.242\n",
      "beitel_llama70b_SUPPORT \tp-value: 0.453 \tcorrected p-value: 0.8 \tcorrelation: 0.127\n",
      "beitel_llama70b_PRESSURE \tp-value: 0.342 \tcorrected p-value: 0.684 \tcorrelation: 0.161\n",
      "beitel_llama70b_CONSTRAINT \tp-value: 0.001 \tcorrected p-value: 0.005 \tcorrelation: 0.529 ***\n",
      "beitel_llama70b_COVERING \tp-value: 0.154 \tcorrected p-value: 0.355 \tcorrelation: 0.239\n",
      "beitel_llama70b_VISIBILITY \tp-value: 0.02 \tcorrected p-value: 0.073 \tcorrelation: 0.382\n",
      "Significant results:  7\n",
      "\n",
      "\n",
      "\n",
      "gibbs3_davinci002_VERTICALITY \tp-value: 1.0 \tcorrected p-value: 1.0 \tcorrelation: nan\n",
      "gibbs3_davinci002_VERTICALITY \tp-value: 1.0 \tcorrected p-value: 1.0 \tcorrelation: nan\n",
      "gibbs3_davinci002_BALANCE \tp-value: 0.8 \tcorrected p-value: 1.0 \tcorrelation: -0.047\n",
      "gibbs3_davinci002_CENTER-PERIP \tp-value: 1.0 \tcorrected p-value: 1.0 \tcorrelation: nan\n",
      "gibbs3_davinci002_CENTER-PERIP \tp-value: 1.0 \tcorrected p-value: 1.0 \tcorrelation: nan\n",
      "gibbs3_davinci002_LINKAGE \tp-value: 1.0 \tcorrected p-value: 1.0 \tcorrelation: nan\n",
      "gibbs3_davinci002_LINKAGE \tp-value: 1.0 \tcorrected p-value: 1.0 \tcorrelation: nan\n",
      "gibbs3_davinci002_RESISTANCE \tp-value: 1.0 \tcorrected p-value: 1.0 \tcorrelation: nan\n",
      "gibbs3_davinci002_RESISTANCE \tp-value: 1.0 \tcorrected p-value: 1.0 \tcorrelation: nan\n",
      "gibbs3_davinci003_VERTICALITY \tp-value: 0.002 \tcorrected p-value: 0.006 \tcorrelation: 0.531 ***\n",
      "gibbs3_davinci003_BALANCE \tp-value: 0.039 \tcorrected p-value: 0.081 \tcorrelation: 0.368\n",
      "gibbs3_davinci003_CENTER-PERIP \tp-value: 0.0 \tcorrected p-value: 0.0 \tcorrelation: 0.819 ***\n",
      "gibbs3_davinci003_LINKAGE \tp-value: 0.008 \tcorrected p-value: 0.021 \tcorrelation: 0.458 ***\n",
      "gibbs3_davinci003_RESISTANCE \tp-value: 0.0 \tcorrected p-value: 0.0 \tcorrelation: 0.706 ***\n",
      "gibbs3_gpt4_VERTICALITY \tp-value: 0.0 \tcorrected p-value: 0.0 \tcorrelation: 0.694 ***\n",
      "gibbs3_gpt4_BALANCE \tp-value: 0.004 \tcorrected p-value: 0.012 \tcorrelation: 0.492 ***\n",
      "gibbs3_gpt4_CENTER-PERIP \tp-value: 0.001 \tcorrected p-value: 0.003 \tcorrelation: 0.564 ***\n",
      "gibbs3_gpt4_LINKAGE \tp-value: 0.0 \tcorrected p-value: 0.001 \tcorrelation: 0.609 ***\n",
      "gibbs3_gpt4_RESISTANCE \tp-value: 0.0 \tcorrected p-value: 0.0 \tcorrelation: 0.824 ***\n",
      "gibbs3_llama13b_VERTICALITY \tp-value: 0.157 \tcorrected p-value: 0.263 \tcorrelation: 0.256\n",
      "gibbs3_llama13b_BALANCE \tp-value: 0.139 \tcorrected p-value: 0.239 \tcorrelation: 0.268\n",
      "gibbs3_llama13b_CENTER-PERIP \tp-value: 0.267 \tcorrected p-value: 0.391 \tcorrelation: 0.202\n",
      "gibbs3_llama13b_LINKAGE \tp-value: 0.187 \tcorrected p-value: 0.297 \tcorrelation: 0.239\n",
      "gibbs3_llama13b_RESISTANCE \tp-value: 0.02 \tcorrected p-value: 0.046 \tcorrelation: 0.409 ***\n",
      "gibbs3_llama70b_VERTICALITY \tp-value: 0.019 \tcorrected p-value: 0.044 \tcorrelation: 0.413 ***\n",
      "gibbs3_llama70b_BALANCE \tp-value: 0.032 \tcorrected p-value: 0.07 \tcorrelation: 0.38\n",
      "gibbs3_llama70b_CENTER-PERIP \tp-value: 0.044 \tcorrected p-value: 0.087 \tcorrelation: 0.358\n",
      "gibbs3_llama70b_LINKAGE \tp-value: 0.76 \tcorrected p-value: 1.0 \tcorrelation: -0.056\n",
      "gibbs3_llama70b_RESISTANCE \tp-value: 0.006 \tcorrected p-value: 0.015 \tcorrelation: 0.478 ***\n",
      "gibbs4_davinci002_VERTICALITY \tp-value: 1.0 \tcorrected p-value: 1.0 \tcorrelation: nan\n",
      "gibbs4_davinci002_VERTICALITY \tp-value: 1.0 \tcorrected p-value: 1.0 \tcorrelation: nan\n",
      "gibbs4_davinci002_BALANCE \tp-value: 0.34 \tcorrected p-value: 0.485 \tcorrelation: 0.174\n",
      "gibbs4_davinci002_CENTER-PERIP \tp-value: 0.374 \tcorrected p-value: 0.519 \tcorrelation: 0.163\n",
      "gibbs4_davinci002_LINKAGE \tp-value: 1.0 \tcorrected p-value: 1.0 \tcorrelation: nan\n",
      "gibbs4_davinci002_LINKAGE \tp-value: 1.0 \tcorrected p-value: 1.0 \tcorrelation: nan\n",
      "gibbs4_davinci002_RESISTANCE \tp-value: 1.0 \tcorrected p-value: 1.0 \tcorrelation: nan\n",
      "gibbs4_davinci002_RESISTANCE \tp-value: 1.0 \tcorrected p-value: 1.0 \tcorrelation: nan\n",
      "gibbs4_davinci003_VERTICALITY \tp-value: 0.004 \tcorrected p-value: 0.012 \tcorrelation: 0.491 ***\n",
      "gibbs4_davinci003_BALANCE \tp-value: 0.004 \tcorrected p-value: 0.012 \tcorrelation: 0.496 ***\n",
      "gibbs4_davinci003_CENTER-PERIP \tp-value: 0.0 \tcorrected p-value: 0.0 \tcorrelation: 0.67 ***\n",
      "gibbs4_davinci003_LINKAGE \tp-value: 0.0 \tcorrected p-value: 0.001 \tcorrelation: 0.608 ***\n",
      "gibbs4_davinci003_RESISTANCE \tp-value: 0.0 \tcorrected p-value: 0.001 \tcorrelation: 0.614 ***\n",
      "gibbs4_gpt4_VERTICALITY \tp-value: 0.0 \tcorrected p-value: 0.0 \tcorrelation: 0.695 ***\n",
      "gibbs4_gpt4_BALANCE \tp-value: 0.002 \tcorrected p-value: 0.005 \tcorrelation: 0.537 ***\n",
      "gibbs4_gpt4_CENTER-PERIP \tp-value: 0.0 \tcorrected p-value: 0.0 \tcorrelation: 0.669 ***\n",
      "gibbs4_gpt4_LINKAGE \tp-value: 0.178 \tcorrected p-value: 0.29 \tcorrelation: 0.244\n",
      "gibbs4_gpt4_RESISTANCE \tp-value: 0.0 \tcorrected p-value: 0.0 \tcorrelation: 0.771 ***\n",
      "gibbs4_llama13b_VERTICALITY \tp-value: 0.228 \tcorrected p-value: 0.346 \tcorrelation: 0.219\n",
      "gibbs4_llama13b_BALANCE \tp-value: 0.043 \tcorrected p-value: 0.087 \tcorrelation: 0.36\n",
      "gibbs4_llama13b_CENTER-PERIP \tp-value: 0.231 \tcorrected p-value: 0.346 \tcorrelation: 0.218\n",
      "gibbs4_llama13b_LINKAGE \tp-value: 0.0 \tcorrected p-value: 0.001 \tcorrelation: 0.614 ***\n",
      "gibbs4_llama13b_RESISTANCE \tp-value: 0.097 \tcorrected p-value: 0.173 \tcorrelation: 0.298\n",
      "gibbs4_llama70b_VERTICALITY \tp-value: 0.001 \tcorrected p-value: 0.003 \tcorrelation: 0.567 ***\n",
      "gibbs4_llama70b_BALANCE \tp-value: 0.003 \tcorrected p-value: 0.011 \tcorrelation: 0.503 ***\n",
      "gibbs4_llama70b_CENTER-PERIP \tp-value: 0.072 \tcorrected p-value: 0.138 \tcorrelation: 0.322\n",
      "gibbs4_llama70b_LINKAGE \tp-value: 0.079 \tcorrected p-value: 0.146 \tcorrelation: 0.315\n",
      "gibbs4_llama70b_RESISTANCE \tp-value: 0.001 \tcorrected p-value: 0.005 \tcorrelation: 0.543 ***\n",
      "Significant results:  25\n"
     ]
    }
   ],
   "source": [
    "all_p_values_beitel = []\n",
    "all_r_values_beitel = []\n",
    "p_value_labels_beitel = []\n",
    "all_p_values_gibbs = []\n",
    "all_r_values_gibbs = []\n",
    "p_value_labels_gibbs = []\n",
    "ignore_nan = False\n",
    "\n",
    "\n",
    "\n",
    "# beitel (exp2)\n",
    "add_p_values_to_list(completions_clean=davinci002_exp2_dict, exp_df=exp_2_df, correlation_type=\"spearman\", all_p_values=all_p_values_beitel, all_r_values=all_r_values_beitel, labels=p_value_labels_beitel, name=\"beitel_davinci002\", ignore_nan=ignore_nan)\n",
    "add_p_values_to_list(completions_clean=davinci003_exp2_dict, exp_df=exp_2_df, correlation_type=\"spearman\", all_p_values=all_p_values_beitel, all_r_values=all_r_values_beitel, labels=p_value_labels_beitel, name=\"beitel_davinci003\", ignore_nan=ignore_nan)\n",
    "add_p_values_to_list(completions_clean=gpt4_exp2_dict, exp_df=exp_2_df, correlation_type=\"spearman\", all_p_values=all_p_values_beitel, all_r_values=all_r_values_beitel, labels=p_value_labels_beitel, name=\"beitel_gpt4\", ignore_nan=ignore_nan)\n",
    "#add_p_values_to_list(completions_clean=llama7b_exp2_dict, exp_df=exp_2_df, correlation_type=\"spearman\", all_p_values=all_p_values_beitel, all_r_values=all_r_values_beitel, labels=p_value_labels_beitel, name=\"beitel_llama7b\", ignore_nan=ignore_nan)\n",
    "add_p_values_to_list(completions_clean=llama13b_exp2_dict, exp_df=exp_2_df, correlation_type=\"spearman\", all_p_values=all_p_values_beitel, all_r_values=all_r_values_beitel, labels=p_value_labels_beitel, name=\"beitel_llama13b\", ignore_nan=ignore_nan)\n",
    "add_p_values_to_list(completions_clean=llama70b_exp2_dict, exp_df=exp_2_df, correlation_type=\"spearman\", all_p_values=all_p_values_beitel, all_r_values=all_r_values_beitel, labels=p_value_labels_beitel, name=\"beitel_llama70b\", ignore_nan=ignore_nan)\n",
    "\n",
    "# fdr benjamini hochberg\n",
    "significant_results = 0\n",
    "all_p_values_beitel_corrected = multipletests(all_p_values_beitel, alpha=0.05, method='fdr_bh')\n",
    "for i,k in enumerate(p_value_labels_beitel):\n",
    "    if all_p_values_beitel_corrected[1][i] < 0.05:\n",
    "        print(k, \"\\tp-value:\", round(all_p_values_beitel[i],3), \"\\tcorrected p-value:\", round(all_p_values_beitel_corrected[1][i],3), \"\\tcorrelation:\", round(all_r_values_beitel[i],3), \"***\")\n",
    "        significant_results += 1\n",
    "    else: \n",
    "        print(k, \"\\tp-value:\", round(all_p_values_beitel[i],3), \"\\tcorrected p-value:\", round(all_p_values_beitel_corrected[1][i],3), \"\\tcorrelation:\", round(all_r_values_beitel[i],3))\n",
    "print(\"Significant results: \", significant_results)\n",
    "print(\"\\n\\n\")\n",
    "\n",
    "# gibbs (exp3 and exp4)\n",
    "add_p_values_to_list(completions_clean=davinci002_exp3_dict, exp_df=exp_3_df, correlation_type=\"spearman\", all_p_values=all_p_values_gibbs, all_r_values=all_r_values_gibbs, labels=p_value_labels_gibbs, name=\"gibbs3_davinci002\", ignore_nan=ignore_nan)\n",
    "add_p_values_to_list(completions_clean=davinci003_exp3_dict, exp_df=exp_3_df, correlation_type=\"spearman\", all_p_values=all_p_values_gibbs, all_r_values=all_r_values_gibbs, labels=p_value_labels_gibbs, name=\"gibbs3_davinci003\", ignore_nan=ignore_nan)\n",
    "add_p_values_to_list(completions_clean=gpt4_exp3_dict, exp_df=exp_3_df, correlation_type=\"spearman\", all_p_values=all_p_values_gibbs, all_r_values=all_r_values_gibbs, labels=p_value_labels_gibbs, name=\"gibbs3_gpt4\", ignore_nan=ignore_nan)\n",
    "#add_p_values_to_list(completions_clean=llama7b_exp3_dict, exp_df=exp_3_df, correlation_type=\"spearman\", all_p_values=all_p_values_gibbs, all_r_values=all_r_values_gibbs, labels=p_value_labels_gibbs, name=\"gibbs3_llama7b\", ignore_nan=ignore_nan)\n",
    "add_p_values_to_list(completions_clean=llama13b_exp3_dict, exp_df=exp_3_df, correlation_type=\"spearman\", all_p_values=all_p_values_gibbs, all_r_values=all_r_values_gibbs, labels=p_value_labels_gibbs, name=\"gibbs3_llama13b\", ignore_nan=ignore_nan)\n",
    "add_p_values_to_list(completions_clean=llama70b_exp3_dict, exp_df=exp_3_df, correlation_type=\"spearman\", all_p_values=all_p_values_gibbs, all_r_values=all_r_values_gibbs, labels=p_value_labels_gibbs, name=\"gibbs3_llama70b\", ignore_nan=ignore_nan)\n",
    "add_p_values_to_list(completions_clean=davinci002_exp4_dict, exp_df=exp_4_df, correlation_type=\"spearman\", all_p_values=all_p_values_gibbs, all_r_values=all_r_values_gibbs, labels=p_value_labels_gibbs, name=\"gibbs4_davinci002\", ignore_nan=ignore_nan)\n",
    "add_p_values_to_list(completions_clean=davinci003_exp4_dict, exp_df=exp_4_df, correlation_type=\"spearman\", all_p_values=all_p_values_gibbs, all_r_values=all_r_values_gibbs, labels=p_value_labels_gibbs, name=\"gibbs4_davinci003\", ignore_nan=ignore_nan)\n",
    "add_p_values_to_list(completions_clean=gpt4_exp4_dict, exp_df=exp_4_df, correlation_type=\"spearman\", all_p_values=all_p_values_gibbs, all_r_values=all_r_values_gibbs, labels=p_value_labels_gibbs, name=\"gibbs4_gpt4\", ignore_nan=ignore_nan)\n",
    "#add_p_values_to_list(completions_clean=llama7b_exp4_dict, exp_df=exp_4_df, correlation_type=\"spearman\", all_p_values=all_p_values_gibbs, all_r_values=all_r_values_gibbs, labels=p_value_labels_gibbs, name=\"gibbs4_llama7b\", ignore_nan=ignore_nan)\n",
    "add_p_values_to_list(completions_clean=llama13b_exp4_dict, exp_df=exp_4_df, correlation_type=\"spearman\", all_p_values=all_p_values_gibbs, all_r_values=all_r_values_gibbs, labels=p_value_labels_gibbs, name=\"gibbs4_llama13b\", ignore_nan=ignore_nan)\n",
    "add_p_values_to_list(completions_clean=llama70b_exp4_dict, exp_df=exp_4_df, correlation_type=\"spearman\", all_p_values=all_p_values_gibbs, all_r_values=all_r_values_gibbs, labels=p_value_labels_gibbs, name=\"gibbs4_llama70b\", ignore_nan=ignore_nan)\n",
    "\n",
    "significant_results = 0\n",
    "# fdr benjamini hochberg\n",
    "all_p_values_gibbs_corrected = multipletests(all_p_values_gibbs, alpha=0.05, method='fdr_bh')\n",
    "for i,k in enumerate(p_value_labels_gibbs):\n",
    "    if all_p_values_gibbs_corrected[1][i] < 0.05:\n",
    "        print(k, \"\\tp-value:\", round(all_p_values_gibbs[i],3), \"\\tcorrected p-value:\", round(all_p_values_gibbs_corrected[1][i],3), \"\\tcorrelation:\", round(all_r_values_gibbs[i],3), \"***\")\n",
    "        significant_results += 1\n",
    "    else: \n",
    "        print(k, \"\\tp-value:\", round(all_p_values_gibbs[i],3), \"\\tcorrected p-value:\", round(all_p_values_gibbs_corrected[1][i],3), \"\\tcorrelation:\", round(all_r_values_gibbs[i],3))\n",
    "print(\"Significant results: \", significant_results)\n",
    "\n",
    "\n"
   ]
  },
  {
   "cell_type": "code",
   "execution_count": 33,
   "metadata": {},
   "outputs": [
    {
     "name": "stdout",
     "output_type": "stream",
     "text": [
      "[0.012875566709006995, 0.06134997792057954, 0.42307983667165494, 0.1271262007062239]\n",
      "SUPPORT 0.15610789550186635\n",
      "[0.24355638564929363, 0.28679310820813064, -0.1718170992702519, 0.16063742184856408]\n",
      "PRESSURE 0.1297924541089341\n",
      "[0.6153206657137973, 0.6106848619399139, 0.28336296829662966, 0.5290311310199612]\n",
      "CONSTRAINT 0.5095999067425755\n",
      "[0.4324152248952376, 0.12967083583548206, 0.088749976860596, 0.23927363740414098]\n",
      "COVERING 0.22252741874886417\n",
      "[0.6863125330273422, 0.6187677984118244, 0.24197753057905494, 0.3824059061753021]\n",
      "VISIBILITY 0.4823659420483809\n",
      "\n",
      "\n",
      "[0.5312418401450295, 0.6936408508482671, 0.2561877635481939, 0.4132467067533994]\n",
      "VERTICALITY 0.4735792903237225\n",
      "[-0.046624606929812004, 0.3675016615804176, 0.49167773820721344, 0.26770852816054364, 0.379842946900441]\n",
      "BALANCE 0.2920212535837607\n",
      "[0.8193051957000557, 0.5635606869104952, 0.20204361545198746, 0.3582871819500093]\n",
      "CENTER-PERIP 0.48579917000313694\n",
      "[0.45788470109704293, 0.609425127938119, 0.2391997106286654, -0.05620794760645963]\n",
      "LINKAGE 0.3125753980143419\n",
      "[0.7064193811625793, 0.823897156936075, 0.40882582515523463, 0.47819628060440716]\n",
      "RESISTANCE 0.604334660964574\n",
      "\n",
      "\n",
      "[0.4905013539975237, 0.6951091838764245, 0.21928684165948065, 0.5670094708322411]\n",
      "VERTICALITY 0.49297671259141745\n",
      "[0.17430228090406888, 0.4963768177302381, 0.536920282505614, 0.3604914092711399, 0.5028041174946613]\n",
      "BALANCE 0.4141789815811444\n",
      "[0.16272693868594856, 0.6699620198628766, 0.6688558969116429, 0.21807421628643864, 0.32191651372997315]\n",
      "CENTER-PERIP 0.408307117095376\n",
      "[0.6076250110002916, 0.24411044179776598, 0.6136339357845986, 0.3147449631919557]\n",
      "LINKAGE 0.44502858794365296\n",
      "[0.613513048203053, 0.7714347849856402, 0.2984001958538908, 0.5432167050225264]\n",
      "RESISTANCE 0.5566411835162776\n"
     ]
    }
   ],
   "source": [
    "# average performance\n",
    "gibbs_stand = {\"VERTICALITY\": [], \"BALANCE\": [], \"CENTER-PERIP\": [], \"LINKAGE\": [], \"RESISTANCE\": []}\n",
    "gibbs_synonym = {\"VERTICALITY\": [], \"BALANCE\": [], \"CENTER-PERIP\": [], \"LINKAGE\": [], \"RESISTANCE\": []}\n",
    "beitel = {\"SUPPORT\": [], \"PRESSURE\": [], \"CONSTRAINT\": [], \"COVERING\": [], \"VISIBILITY\": []}\n",
    "\n",
    "for label in p_value_labels_beitel:\n",
    "    key = label.split(\"_\")[2]\n",
    "    # if not nan \n",
    "    if not np.isnan(all_r_values_beitel[p_value_labels_beitel.index(label)]):\n",
    "        beitel[key].append(all_r_values_beitel[p_value_labels_beitel.index(label)])\n",
    "\n",
    "for label in p_value_labels_gibbs:\n",
    "    key = label.split(\"_\")[2]\n",
    "    # if not nan \n",
    "    if not np.isnan(all_r_values_gibbs[p_value_labels_gibbs.index(label)]):\n",
    "        if label.split(\"_\")[0] == \"gibbs3\":\n",
    "            gibbs_stand[key].append(all_r_values_gibbs[p_value_labels_gibbs.index(label)])\n",
    "        elif label.split(\"_\")[0] == \"gibbs4\":\n",
    "            gibbs_synonym[key].append(all_r_values_gibbs[p_value_labels_gibbs.index(label)])\n",
    "\n",
    "# compute averages\n",
    "for key in beitel:\n",
    "    print(beitel[key])\n",
    "    print(key, np.mean(beitel[key]))\n",
    "\n",
    "print(\"\\n\")\n",
    "for key in gibbs_stand:\n",
    "    print(gibbs_stand[key])\n",
    "    print(key, np.mean(gibbs_stand[key]))\n",
    "\n",
    "print(\"\\n\")\n",
    "for key in gibbs_synonym:\n",
    "    print(gibbs_synonym[key])\n",
    "    print(key, np.mean(gibbs_synonym[key]))"
   ]
  },
  {
   "cell_type": "markdown",
   "metadata": {},
   "source": [
    "with random data"
   ]
  },
  {
   "cell_type": "code",
   "execution_count": 7,
   "metadata": {},
   "outputs": [
    {
     "name": "stdout",
     "output_type": "stream",
     "text": [
      "The mean absolute error for each image schema is: \n",
      "VERTICALITY 1.7678125000000002\n",
      "BALANCE 1.6587500000000002\n",
      "CENTER-PERIPHERY 1.7540625\n",
      "LINKAGE 1.928125\n",
      "RESISTANCE 2.4140625\n",
      "The mean absolute error for all image schemas is:  1.9045625000000002\n",
      "Spearman correlations per IS:\n",
      "VERTICALITY \tp-value: 0.58 \tcorrelation: 0.102\n",
      "BALANCE \tp-value: 0.46 \tcorrelation: 0.136\n",
      "CENTER-PERIP \tp-value: 0.017 \tcorrelation: 0.419\n",
      "LINKAGE \tp-value: 0.728 \tcorrelation: 0.064\n",
      "RESISTANCE \tp-value: 0.944 \tcorrelation: -0.013\n"
     ]
    }
   ],
   "source": [
    "# create random fake completions and compare the mean absolute error + the correlations\n",
    "random_completions={}\n",
    "for key in DEFINITIONS:\n",
    "    random_completions[key]=[]\n",
    "    for i in range(len(exp_3_df[key])):\n",
    "        random_completions[key].append(random.randint(1, 7))\n",
    "\n",
    "get_mean_absolute_error(random_completions, exp_3_df)\n",
    "print_correlations(random_completions, exp_3_df, \"spearman\")\n"
   ]
  },
  {
   "cell_type": "markdown",
   "metadata": {},
   "source": [
    "with davinci-002"
   ]
  },
  {
   "cell_type": "code",
   "execution_count": 55,
   "metadata": {},
   "outputs": [
    {
     "name": "stdout",
     "output_type": "stream",
     "text": [
      "\n",
      "Experiment 2\n",
      "Spearman correlations per IS:\n",
      "SUPPORT \tp-value: nan \tcorrelation: nan\n",
      "PRESSURE \tp-value: nan \tcorrelation: nan\n",
      "CONSTRAINT \tp-value: nan \tcorrelation: nan\n",
      "COVERING \tp-value: nan \tcorrelation: nan\n",
      "VISIBILITY \tp-value: nan \tcorrelation: nan\n",
      "\n",
      "Experiment 3\n",
      "Spearman correlations per IS:\n",
      "VERTICALITY \tp-value: nan \tcorrelation: nan\n",
      "BALANCE \tp-value: 0.8 \tcorrelation: -0.047\n",
      "CENTER-PERIP \tp-value: nan \tcorrelation: nan\n",
      "LINKAGE \tp-value: nan \tcorrelation: nan\n",
      "RESISTANCE \tp-value: nan \tcorrelation: nan\n",
      "\n",
      "Experiment 4\n",
      "Spearman correlations per IS:\n",
      "VERTICALITY \tp-value: nan \tcorrelation: nan\n",
      "BALANCE \tp-value: 0.34 \tcorrelation: 0.174\n",
      "CENTER-PERIP \tp-value: 0.374 \tcorrelation: 0.163\n",
      "LINKAGE \tp-value: nan \tcorrelation: nan\n",
      "RESISTANCE \tp-value: nan \tcorrelation: nan\n",
      "\n",
      "Experiment 3 with logprobs\n",
      "Spearman correlations per IS:\n",
      "VERTICALITY \tp-value: 0.562 \tcorrelation: 0.107\n",
      "BALANCE \tp-value: 0.272 \tcorrelation: 0.2\n",
      "CENTER-PERIP \tp-value: 0.038 \tcorrelation: 0.369\n",
      "LINKAGE \tp-value: 0.064 \tcorrelation: 0.332\n",
      "RESISTANCE \tp-value: 0.673 \tcorrelation: -0.078\n"
     ]
    },
    {
     "name": "stderr",
     "output_type": "stream",
     "text": [
      "/opt/homebrew/anaconda3/lib/python3.9/site-packages/scipy/stats/stats.py:4484: SpearmanRConstantInputWarning: An input array is constant; the correlation coefficient is not defined.\n",
      "  warnings.warn(SpearmanRConstantInputWarning())\n"
     ]
    }
   ],
   "source": [
    "# load llm ratings from pickle file\n",
    "print(\"\\nBeitel On\")\n",
    "print_correlations(davinci002_exp2_dict, exp_2_df, correlation_type=\"spearman\")\n",
    "print(\"\\nGibbs Stand\")\n",
    "print_correlations(davinci002_exp3_dict, exp_3_df, correlation_type=\"spearman\")\n",
    "print(\"\\nGibbs Synonym\")\n",
    "print_correlations(davinci002_exp4_dict, exp_4_df, correlation_type=\"spearman\")\n",
    "\n",
    "# does log prob lead to any reasonable results?\n",
    "print(\"\\nExperiment 3 with logprobs\")\n",
    "print_correlations(davinci002_exp3_dict_logprobs, exp_3_df, correlation_type=\"spearman\")"
   ]
  },
  {
   "cell_type": "markdown",
   "metadata": {},
   "source": [
    "with davinci 003"
   ]
  },
  {
   "cell_type": "code",
   "execution_count": 15,
   "metadata": {},
   "outputs": [
    {
     "name": "stdout",
     "output_type": "stream",
     "text": [
      "\n",
      "Experiment 2\n",
      "Spearman correlations per IS:\n",
      "SUPPORT \tp-value: 0.94 \tcorrelation: 0.013\n",
      "PRESSURE \tp-value: 0.146 \tcorrelation: 0.244\n",
      "CONSTRAINT \tp-value: 0.0 \tcorrelation: 0.615\n",
      "COVERING \tp-value: 0.008 \tcorrelation: 0.432\n",
      "VISIBILITY \tp-value: 0.0 \tcorrelation: 0.686\n",
      "\n",
      "Experiment 3\n",
      "Spearman correlations per IS:\n",
      "VERTICALITY \tp-value: 0.002 \tcorrelation: 0.531\n",
      "BALANCE \tp-value: 0.039 \tcorrelation: 0.368\n",
      "CENTER-PERIP \tp-value: 0.0 \tcorrelation: 0.819\n",
      "LINKAGE \tp-value: 0.008 \tcorrelation: 0.458\n",
      "RESISTANCE \tp-value: 0.0 \tcorrelation: 0.706\n",
      "\n",
      "Experiment 4\n",
      "Spearman correlations per IS:\n",
      "VERTICALITY \tp-value: 0.004 \tcorrelation: 0.491\n",
      "BALANCE \tp-value: 0.004 \tcorrelation: 0.496\n",
      "CENTER-PERIP \tp-value: 0.0 \tcorrelation: 0.67\n",
      "LINKAGE \tp-value: 0.0 \tcorrelation: 0.608\n",
      "RESISTANCE \tp-value: 0.0 \tcorrelation: 0.614\n"
     ]
    }
   ],
   "source": [
    "# load llm ratings from pickle file\n",
    "print(\"\\nBeitel On\")\n",
    "print_correlations(davinci003_exp2_dict, exp_2_df, correlation_type=\"spearman\")\n",
    "print(\"\\nGibbs Stand\")\n",
    "print_correlations(davinci003_exp3_dict, exp_3_df, correlation_type=\"spearman\")\n",
    "print(\"\\nGibbs Synonym\")\n",
    "print_correlations(davinci003_exp4_dict, exp_4_df, correlation_type=\"spearman\")"
   ]
  },
  {
   "cell_type": "markdown",
   "metadata": {},
   "source": [
    "gpt-4"
   ]
  },
  {
   "cell_type": "code",
   "execution_count": 13,
   "metadata": {},
   "outputs": [
    {
     "name": "stdout",
     "output_type": "stream",
     "text": [
      "\n",
      "Experiment 2\n",
      "Spearman correlations per IS:\n",
      "SUPPORT \tp-value: 0.718 \tcorrelation: 0.061\n",
      "PRESSURE \tp-value: 0.085 \tcorrelation: 0.287\n",
      "CONSTRAINT \tp-value: 0.0 \tcorrelation: 0.611\n",
      "COVERING \tp-value: 0.444 \tcorrelation: 0.13\n",
      "VISIBILITY \tp-value: 0.0 \tcorrelation: 0.619\n",
      "\n",
      "Experiment 3\n",
      "Spearman correlations per IS:\n",
      "VERTICALITY \tp-value: 0.0 \tcorrelation: 0.694\n",
      "BALANCE \tp-value: 0.004 \tcorrelation: 0.492\n",
      "CENTER-PERIP \tp-value: 0.001 \tcorrelation: 0.564\n",
      "LINKAGE \tp-value: 0.0 \tcorrelation: 0.609\n",
      "RESISTANCE \tp-value: 0.0 \tcorrelation: 0.824\n",
      "\n",
      "Experiment 4\n",
      "Spearman correlations per IS:\n",
      "VERTICALITY \tp-value: 0.0 \tcorrelation: 0.695\n",
      "BALANCE \tp-value: 0.002 \tcorrelation: 0.537\n",
      "CENTER-PERIP \tp-value: 0.0 \tcorrelation: 0.669\n",
      "LINKAGE \tp-value: 0.178 \tcorrelation: 0.244\n",
      "RESISTANCE \tp-value: 0.0 \tcorrelation: 0.771\n"
     ]
    }
   ],
   "source": [
    "# load llm ratings from pickle file\n",
    "print(\"\\nBeitel On\")\n",
    "print_correlations(gpt4_exp2_dict, exp_2_df, correlation_type=\"spearman\")\n",
    "print(\"\\nGibbs Stand\")\n",
    "print_correlations(gpt4_exp3_dict, exp_3_df, correlation_type=\"spearman\")\n",
    "print(\"\\nGibbs Synonym\")\n",
    "print_correlations(gpt4_exp4_dict, exp_4_df, correlation_type=\"spearman\")"
   ]
  },
  {
   "cell_type": "markdown",
   "metadata": {},
   "source": [
    "Llama 7b"
   ]
  },
  {
   "cell_type": "code",
   "execution_count": 9,
   "metadata": {},
   "outputs": [
    {
     "name": "stdout",
     "output_type": "stream",
     "text": [
      "\n",
      "Experiment 2\n",
      "Spearman correlations per IS:\n",
      "SUPPORT \tp-value: nan \tcorrelation: nan\n",
      "PRESSURE \tp-value: nan \tcorrelation: nan\n",
      "CONSTRAINT \tp-value: 0.881 \tcorrelation: -0.025\n",
      "COVERING \tp-value: 0.458 \tcorrelation: -0.126\n",
      "VISIBILITY \tp-value: 0.974 \tcorrelation: 0.006\n",
      "\n",
      "Experiment 3\n",
      "Spearman correlations per IS:\n",
      "VERTICALITY \tp-value: 0.134 \tcorrelation: 0.271\n",
      "BALANCE \tp-value: 0.299 \tcorrelation: 0.19\n",
      "CENTER-PERIP \tp-value: 0.009 \tcorrelation: 0.453\n",
      "LINKAGE \tp-value: 0.006 \tcorrelation: 0.478\n",
      "RESISTANCE \tp-value: 0.282 \tcorrelation: 0.196\n",
      "\n",
      "Experiment 4\n",
      "Spearman correlations per IS:\n",
      "VERTICALITY \tp-value: 0.085 \tcorrelation: 0.309\n",
      "BALANCE \tp-value: 0.968 \tcorrelation: -0.007\n",
      "CENTER-PERIP \tp-value: 0.041 \tcorrelation: 0.362\n",
      "LINKAGE \tp-value: 0.018 \tcorrelation: 0.416\n",
      "RESISTANCE \tp-value: 0.339 \tcorrelation: -0.175\n"
     ]
    },
    {
     "name": "stderr",
     "output_type": "stream",
     "text": [
      "/opt/homebrew/anaconda3/lib/python3.9/site-packages/scipy/stats/stats.py:4484: SpearmanRConstantInputWarning: An input array is constant; the correlation coefficient is not defined.\n",
      "  warnings.warn(SpearmanRConstantInputWarning())\n"
     ]
    }
   ],
   "source": [
    "# load llm ratings from pickle file\n",
    "print(\"\\nBeitel On\")\n",
    "print_correlations(llama7b_exp2_dict, exp_2_df, correlation_type=\"spearman\")\n",
    "print(\"\\nGibbs Stand\")\n",
    "print_correlations(llama7b_exp3_dict, exp_3_df, correlation_type=\"spearman\")\n",
    "print(\"\\nGibbs Synonym\")\n",
    "print_correlations(llama7b_exp4_dict, exp_4_df, correlation_type=\"spearman\")"
   ]
  },
  {
   "cell_type": "markdown",
   "metadata": {},
   "source": [
    "Llama 13b"
   ]
  },
  {
   "cell_type": "code",
   "execution_count": 23,
   "metadata": {},
   "outputs": [
    {
     "name": "stdout",
     "output_type": "stream",
     "text": [
      "\n",
      "Experiment 2\n",
      "Spearman correlations per IS:\n",
      "SUPPORT \tp-value: 0.009 \tcorrelation: 0.423\n",
      "PRESSURE \tp-value: 0.309 \tcorrelation: -0.172\n",
      "CONSTRAINT \tp-value: 0.089 \tcorrelation: 0.283\n",
      "COVERING \tp-value: 0.601 \tcorrelation: 0.089\n",
      "VISIBILITY \tp-value: 0.149 \tcorrelation: 0.242\n",
      "\n",
      "Experiment 3\n",
      "Spearman correlations per IS:\n",
      "VERTICALITY \tp-value: 0.157 \tcorrelation: 0.256\n",
      "BALANCE \tp-value: 0.139 \tcorrelation: 0.268\n",
      "CENTER-PERIP \tp-value: 0.267 \tcorrelation: 0.202\n",
      "LINKAGE \tp-value: 0.187 \tcorrelation: 0.239\n",
      "RESISTANCE \tp-value: 0.02 \tcorrelation: 0.409\n",
      "\n",
      "Experiment 4\n",
      "Spearman correlations per IS:\n",
      "VERTICALITY \tp-value: 0.228 \tcorrelation: 0.219\n",
      "BALANCE \tp-value: 0.043 \tcorrelation: 0.36\n",
      "CENTER-PERIP \tp-value: 0.231 \tcorrelation: 0.218\n",
      "LINKAGE \tp-value: 0.0 \tcorrelation: 0.614\n",
      "RESISTANCE \tp-value: 0.097 \tcorrelation: 0.298\n"
     ]
    }
   ],
   "source": [
    "# load llm ratings from pickle file\n",
    "print(\"\\nBeitel On\")\n",
    "print_correlations(llama13b_exp2_dict, exp_2_df, correlation_type=\"spearman\")\n",
    "print(\"\\nGibbs Stand\")\n",
    "print_correlations(llama13b_exp3_dict, exp_3_df, correlation_type=\"spearman\")\n",
    "print(\"\\nGibbs Synonym\")\n",
    "print_correlations(llama13b_exp4_dict, exp_4_df, correlation_type=\"spearman\")"
   ]
  },
  {
   "cell_type": "markdown",
   "metadata": {},
   "source": [
    "Llama 70b"
   ]
  },
  {
   "cell_type": "code",
   "execution_count": 24,
   "metadata": {},
   "outputs": [
    {
     "name": "stdout",
     "output_type": "stream",
     "text": [
      "\n",
      "Experiment 2\n",
      "Spearman correlations per IS:\n",
      "SUPPORT \tp-value: 0.453 \tcorrelation: 0.127\n",
      "PRESSURE \tp-value: 0.342 \tcorrelation: 0.161\n",
      "CONSTRAINT \tp-value: 0.001 \tcorrelation: 0.529\n",
      "COVERING \tp-value: 0.154 \tcorrelation: 0.239\n",
      "VISIBILITY \tp-value: 0.02 \tcorrelation: 0.382\n",
      "\n",
      "Experiment 3\n",
      "Spearman correlations per IS:\n",
      "VERTICALITY \tp-value: 0.019 \tcorrelation: 0.413\n",
      "BALANCE \tp-value: 0.032 \tcorrelation: 0.38\n",
      "CENTER-PERIP \tp-value: 0.044 \tcorrelation: 0.358\n",
      "LINKAGE \tp-value: 0.76 \tcorrelation: -0.056\n",
      "RESISTANCE \tp-value: 0.006 \tcorrelation: 0.478\n",
      "\n",
      "Experiment 4\n",
      "Spearman correlations per IS:\n",
      "VERTICALITY \tp-value: 0.001 \tcorrelation: 0.567\n",
      "BALANCE \tp-value: 0.003 \tcorrelation: 0.503\n",
      "CENTER-PERIP \tp-value: 0.072 \tcorrelation: 0.322\n",
      "LINKAGE \tp-value: 0.079 \tcorrelation: 0.315\n",
      "RESISTANCE \tp-value: 0.001 \tcorrelation: 0.543\n"
     ]
    }
   ],
   "source": [
    "# load llm ratings from pickle file\n",
    "print(\"\\nBeitel On\")\n",
    "print_correlations(llama70b_exp2_dict, exp_2_df, correlation_type=\"spearman\")\n",
    "print(\"\\nGibbs Stand\")\n",
    "print_correlations(llama70b_exp3_dict, exp_3_df, correlation_type=\"spearman\")\n",
    "print(\"\\nGibbs Synonym\")\n",
    "print_correlations(llama70b_exp4_dict, exp_4_df, correlation_type=\"spearman\")"
   ]
  },
  {
   "cell_type": "markdown",
   "metadata": {},
   "source": [
    "## Plots"
   ]
  },
  {
   "cell_type": "code",
   "execution_count": 32,
   "metadata": {},
   "outputs": [
    {
     "data": {
      "image/png": "[encoded data removed]",
      "text/plain": [
       "<Figure size 1440x216 with 5 Axes>"
      ]
     },
     "metadata": {
      "needs_background": "light"
     },
     "output_type": "display_data"
    },
    {
     "data": {
      "image/png": "[encoded data removed]",
      "text/plain": [
       "<Figure size 1440x216 with 5 Axes>"
      ]
     },
     "metadata": {
      "needs_background": "light"
     },
     "output_type": "display_data"
    }
   ],
   "source": [
    "make_scatter_plots_beitel(model_result_dict_2=davinci003_exp2_dict, title=\"Human vs. GPT Ratings\") \n",
    "make_scatter_plots_beitel(model_result_dict_2=davinci003_exp2_dict_logprobs, title=\"Human vs. GPT Ratings\") "
   ]
  },
  {
   "cell_type": "code",
   "execution_count": 33,
   "metadata": {},
   "outputs": [
    {
     "data": {
      "image/png": "[encoded data removed]",
      "text/plain": [
       "<Figure size 1440x432 with 10 Axes>"
      ]
     },
     "metadata": {
      "needs_background": "light"
     },
     "output_type": "display_data"
    },
    {
     "data": {
      "image/png": "[encoded data removed]",
      "text/plain": [
       "<Figure size 1440x432 with 10 Axes>"
      ]
     },
     "metadata": {
      "needs_background": "light"
     },
     "output_type": "display_data"
    }
   ],
   "source": [
    "make_scatter_plots_gibbs(model_result_dict_3=davinci003_exp3_dict, model_result_dict_4=davinci003_exp4_dict, title=\"Human vs. GPT Ratings\") \n",
    "make_scatter_plots_gibbs(model_result_dict_3=davinci003_exp3_dict_logprobs, model_result_dict_4=davinci003_exp4_dict_logprobs, title=\"Human vs. GPT Ratings\") "
   ]
  },
  {
   "cell_type": "code",
   "execution_count": 34,
   "metadata": {},
   "outputs": [
    {
     "data": {
      "image/png": "[encoded data removed]",
      "text/plain": [
       "<Figure size 1152x360 with 1 Axes>"
      ]
     },
     "metadata": {
      "needs_background": "light"
     },
     "output_type": "display_data"
    }
   ],
   "source": [
    "make_bar_plots_all(model_result_dict_2=davinci003_exp2_dict, model_result_dict_3=davinci003_exp3_dict, model_result_dict_4=davinci003_exp4_dict, title=\"Experiment 2, 3 and 4 Spearman Correlation Coefficients\")"
   ]
  }
 ],
 "metadata": {
  "kernelspec": {
   "display_name": "Python 3",
   "language": "python",
   "name": "python3"
  },
  "language_info": {
   "codemirror_mode": {
    "name": "ipython",
    "version": 3
   },
   "file_extension": ".py",
   "mimetype": "text/x-python",
   "name": "python",
   "nbconvert_exporter": "python",
   "pygments_lexer": "ipython3",
   "version": "3.9.7"
  }
 },
 "nbformat": 4,
 "nbformat_minor": 2
}
