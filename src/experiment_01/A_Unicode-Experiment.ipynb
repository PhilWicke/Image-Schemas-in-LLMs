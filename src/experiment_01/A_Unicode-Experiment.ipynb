{
 "cells": [
  {
   "cell_type": "code",
   "execution_count": 3,
   "metadata": {},
   "outputs": [],
   "source": [
    "from sidemethods import load_richardson_data, convert_to_float\n",
    "\n",
    "# local path to model repository on our servers\n",
    "server_model_path = \"/mounts/data/corp/huggingface/\"\n",
    "# loading the original human data as vectors for each action word\n",
    "_, _, richardson_normed = load_richardson_data()"
   ]
  }
 ],
 "metadata": {
  "kernelspec": {
   "display_name": "schemas",
   "language": "python",
   "name": "python3"
  },
  "language_info": {
   "codemirror_mode": {
    "name": "ipython",
    "version": 3
   },
   "file_extension": ".py",
   "mimetype": "text/x-python",
   "name": "python",
   "nbconvert_exporter": "python",
   "pygments_lexer": "ipython3",
   "version": "3.8.17"
  }
 },
 "nbformat": 4,
 "nbformat_minor": 2
}
