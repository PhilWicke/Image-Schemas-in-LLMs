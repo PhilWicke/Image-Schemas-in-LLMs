{
 "cells": [
  {
   "cell_type": "markdown",
   "metadata": {},
   "source": [
    "## Experiment 01\n",
    "### Richardson et. al (2002) Experiment 01 with Language Models instead of Humans:\n",
    "\n",
    "The subjects were presented with a single page,\n",
    "containing a list of the verbs and four pictures, labelled A to\n",
    "D. Each one contained a circle and a square aligned along a\n",
    "vertical or horizontal axis, connected by an arrow pointing\n",
    "up, down, left or right. Since we didn't expect any\n",
    "interesting item variation between left or right placement of\n",
    "the circle or square, the horizontal schemas differed only in\n",
    "the direction of the arrow.\n",
    "For each sentence, subjects were asked to select one of\n",
    "the four sparse images that best depicted the event described\n",
    "by the sentence (Figure 1)\n",
    "The items were randomised in three different orders, and\n",
    "crossed with two different orderings of the images. The six\n",
    "lists were then distributed randomly to subjects.\n",
    "\n",
    "### Step 01: Creating a prompt that is as close to the paper as possible"
   ]
  },
  {
   "cell_type": "code",
   "execution_count": 3,
   "metadata": {},
   "outputs": [],
   "source": [
    "import random\n",
    "random.seed(1337)\n",
    "\n",
    "\n",
    "def convert_to_float(value):\n",
    "    try:\n",
    "        return float(value)\n",
    "    except ValueError:\n",
    "        return value\n",
    "\n",
    "with open(\"../../data/richardson_actions.txt\", \"r\") as d_in:\n",
    "    lines = [line.split() for line in d_in.readlines()]\n",
    "\n",
    "output = []\n",
    "for entry in lines:\n",
    "    new_entry = [convert_to_float(item) for item in entry]\n",
    "    \n",
    "    if isinstance(new_entry[1],str):\n",
    "        new_entry[0] = \" \".join(new_entry[:2])\n",
    "        del new_entry[1]\n",
    "    output.append(new_entry)\n",
    "\n",
    "richardson_data = dict()\n",
    "for elem in output:\n",
    "    richardson_data[elem[0]] = [i for i in elem[1:]]\n",
    "\n",
    "richardson_data[0] = [\"C:◯↑▢\", \"D:◯↓▢\",\"B:◯←▢ \",\"A:◯→▢\"]\n",
    "\n",
    "# Randomizing Richardson's data\n",
    "action_words = list(richardson_data.keys())\n",
    "random.shuffle(action_words)\n",
    "\n",
    "#count=1\n",
    "#for line in action_words:\n",
    "#    if line != 0:\n",
    "#        print(str(count)+\". ◯ \"+line+\" ▢ \\\\\")\n",
    "#        count+=1"
   ]
  },
  {
   "cell_type": "code",
   "execution_count": 2,
   "metadata": {},
   "outputs": [],
   "source": [
    "paper_prompt = \"You are asked to select one of the four images that best depicts the event described by the following sentences. \\\n",
    "Image A: \\\n",
    "◯→▢ \\\n",
    "\\\n",
    "Image B: \\\n",
    "◯←▢ \\\n",
    " \\\n",
    "Image C: \\\n",
    "◯ \\\n",
    "↑ \\\n",
    "▢ \\\n",
    "\\\n",
    "Image D: \\\n",
    "◯ \\\n",
    "↓ \\\n",
    "▢ \\\n",
    "\\\n",
    "Sentences: \\\n",
    "1. ◯ hunted ▢ \\\n",
    "2. ◯ showed ▢ \\\n",
    "3. ◯ succeeded ▢ \\\n",
    "4. ◯ pointed at ▢ \\\n",
    "5. ◯ pushed ▢ \\\n",
    "6. ◯ hoped ▢ \\\n",
    "7. ◯ walked ▢ \\\n",
    "8. ◯ gave to ▢ \\\n",
    "9. ◯ respected ▢ \\\n",
    "10. ◯ smashed ▢ \\\n",
    "11. ◯ argued with ▢ \\\n",
    "12. ◯ sank ▢ \\\n",
    "13. ◯ rested ▢ \\\n",
    "14. ◯ offended ▢ \\\n",
    "15. ◯ pulled ▢ \\\n",
    "16. ◯ perched ▢ \\\n",
    "17. ◯ regretted ▢ \\\n",
    "18. ◯ bombed ▢ \\\n",
    "19. ◯ obeyed ▢ \\\n",
    "20. ◯ lifted ▢ \\\n",
    "21. ◯ flew ▢ \\\n",
    "22. ◯ impacted ▢ \\\n",
    "23. ◯ wanted ▢ \\\n",
    "24. ◯ increased ▢ \\\n",
    "25. ◯ warned ▢ \\\n",
    "26. ◯ floated ▢ \\\n",
    "27. ◯ tempted ▢ \\\n",
    "28. ◯ rushed ▢ \\\n",
    "29. ◯ owned ▢ \\\n",
    "\\\n",
    "For sentence 1) choosing from [A,B,C,D] best image is \"\n"
   ]
  },
  {
   "cell_type": "markdown",
   "metadata": {},
   "source": [
    "### Step 02: Test model with this `paper prompt`"
   ]
  },
  {
   "cell_type": "markdown",
   "metadata": {},
   "source": [
    "#### Function to evaluate against Richardson's findings"
   ]
  },
  {
   "cell_type": "code",
   "execution_count": 2,
   "metadata": {},
   "outputs": [
    {
     "name": "stdout",
     "output_type": "stream",
     "text": [
      "Token will not been saved to git credential helper. Pass `add_to_git_credential=True` if you want to set the git credential as well.\n",
      "Token is valid (permission: read).\n",
      "Your token has been saved to /mounts/data/corp/huggingface/token\n",
      "Login successful\n"
     ]
    }
   ],
   "source": [
    "import torch\n",
    "from transformers import GPT2Tokenizer, OPTForCausalLM, AutoTokenizer, AutoModelForCausalLM\n",
    "from transformers import GPTNeoXForCausalLM, GPTNeoXTokenizerFast, GPTNeoForCausalLM, GPT2Tokenizer\n",
    "import torch.nn.functional as F\n",
    "import pandas as pd\n",
    "import numpy as np\n",
    "import seaborn as sns\n",
    "from tqdm import tqdm\n",
    "import json\n",
    "from scipy import stats\n",
    "from collections import Counter\n",
    "import subprocess\n",
    "\n",
    "with open(\"../../hf.key\", \"r\") as f_in:\n",
    "    hf_key = f_in.readline().strip()\n",
    "subprocess.run([\"huggingface-cli\", \"login\", \"--token\", hf_key])\n",
    "\n",
    "server_model_path = \"/mounts/data/corp/huggingface/\"\n",
    "model_type = \"meta-llama\"\n",
    "model_name = \"Llama-2-70b-hf\""
   ]
  },
  {
   "cell_type": "code",
   "execution_count": 7,
   "metadata": {},
   "outputs": [
    {
     "name": "stderr",
     "output_type": "stream",
     "text": [
      "/mounts/work/pwicke/miniconda3/envs/schemas/lib/python3.8/site-packages/transformers/tokenization_utils_base.py:1714: FutureWarning: The `use_auth_token` argument is deprecated and will be removed in v5 of Transformers.\n",
      "  warnings.warn(\n",
      "/mounts/work/pwicke/miniconda3/envs/schemas/lib/python3.8/site-packages/transformers/modeling_utils.py:2193: FutureWarning: The `use_auth_token` argument is deprecated and will be removed in v5 of Transformers.\n",
      "  warnings.warn(\n",
      "The model weights are not tied. Please use the `tie_weights` method before using the `infer_auto_device` function.\n"
     ]
    },
    {
     "data": {
      "application/vnd.jupyter.widget-view+json": {
       "model_id": "39f594532f5c4d7caa8d7ab54c2573f8",
       "version_major": 2,
       "version_minor": 0
      },
      "text/plain": [
       "Loading checkpoint shards:   0%|          | 0/15 [00:00<?, ?it/s]"
      ]
     },
     "metadata": {},
     "output_type": "display_data"
    }
   ],
   "source": [
    "#tokenizer = GPTNeoXTokenizerFast.from_pretrained(model_prefix+\"-\"+model_size, device_map=\"auto\")\n",
    "#model = GPTNeoXForCausalLM.from_pretrained(model_prefix+\"-\"+model_size, device_map=\"auto\")\n",
    "\n",
    "#tokenizer = GPT2Tokenizer.from_pretrained(model_prefix+\"-\"+model_size, device_map=\"auto\")\n",
    "#model = OPTForCausalLM.from_pretrained(model_prefix+\"-\"+model_size, device_map=\"auto\")\n",
    "\n",
    "#tokenizer = AutoTokenizer.from_pretrained(\"meta-llama/Llama-2-13b-hf\", use_auth_token=True, device_map=\"auto\")\n",
    "#model = AutoModelForCausalLM.from_pretrained(server_model_path+\"llama/llama-13b\", use_auth_token=True, device_map=\"auto\")\n",
    "\n",
    "tokenizer = AutoTokenizer.from_pretrained(model_type+\"/\"+model_name, use_auth_token=True, device_map=\"auto\")\n",
    "model = AutoModelForCausalLM.from_pretrained(server_model_path+model_type+\"/\"+model_name, use_auth_token=True, device_map=\"auto\")"
   ]
  },
  {
   "cell_type": "code",
   "execution_count": 8,
   "metadata": {},
   "outputs": [
    {
     "name": "stderr",
     "output_type": "stream",
     "text": [
      "/mounts/work/pwicke/miniconda3/envs/schemas/lib/python3.8/site-packages/transformers/generation/utils.py:1468: UserWarning: You are calling .generate() with the `input_ids` being on a device type different than your model's device. `input_ids` is on cpu, whereas the model is on cuda. You may experience unexpected behaviors or slower generation. Please make sure that you have put `input_ids` to the correct device by calling for example input_ids = input_ids.to('cuda') before running `.generate()`.\n",
      "  warnings.warn(\n"
     ]
    }
   ],
   "source": [
    "# Step 1: Tokenize the prompt\n",
    "input_ids = tokenizer.encode(paper_prompt, return_tensors=\"pt\")\n",
    "\n",
    "# Step 2: Generate the model input\n",
    "max_length = input_ids.size(1)  + 20 # Adjust '20' as needed to control the maximum length of the generated answer.\n",
    "output = model.generate(input_ids, max_length=max_length, num_return_sequences=1)\n",
    "\n",
    "# Step 3: Decode the generated output to get the answer\n",
    "generated_answer = tokenizer.decode(output[0], skip_special_tokens=True)\n"
   ]
  },
  {
   "cell_type": "code",
   "execution_count": 9,
   "metadata": {},
   "outputs": [
    {
     "name": "stdout",
     "output_type": "stream",
     "text": [
      "Generated answer:\n",
      "\n",
      " ◯→▢. For sentence 2) choosing from [A,B,\n"
     ]
    }
   ],
   "source": [
    "print(\"Generated answer:\\n\\n\", generated_answer[len(paper_prompt):])"
   ]
  },
  {
   "cell_type": "markdown",
   "metadata": {},
   "source": [
    "### Step 03: Prompting that is maximally friendly for the LLM"
   ]
  },
  {
   "cell_type": "code",
   "execution_count": 10,
   "metadata": {},
   "outputs": [
    {
     "name": "stdout",
     "output_type": "stream",
     "text": [
      "ACTION: walked\n",
      "Generated answer:\n",
      "\n",
      " →▢].\n",
      "\n",
      "### \n",
      "ACTION: perched\n",
      "Generated answer:\n",
      "\n",
      " \n",
      "↓\n",
      "▢].\n",
      "\n",
      "Select\n",
      "ACTION: respected\n",
      "Generated answer:\n",
      "\n",
      " \n",
      "↓\n",
      "▢].\n",
      "\n",
      "Select\n",
      "ACTION: fled\n",
      "Generated answer:\n",
      "\n",
      " ←▢].\n",
      "\n",
      "### \n",
      "ACTION: pulled\n",
      "Generated answer:\n",
      "\n",
      " ←▢].\n",
      "\n",
      "### \n",
      "ACTION: wanted\n",
      "Generated answer:\n",
      "\n",
      " →▢].\n",
      "\n",
      "Select the image\n",
      "ACTION: pushed\n",
      "Generated answer:\n",
      "\n",
      " ←▢].\n",
      "\n",
      "Select the image\n",
      "ACTION: argued with\n",
      "Generated answer:\n",
      "\n",
      " ←▢].\n",
      "\n",
      "### \n",
      "ACTION: obeyed\n",
      "Generated answer:\n",
      "\n",
      " ←▢].\n",
      "\n",
      "### \n",
      "ACTION: showed\n"
     ]
    },
    {
     "ename": "KeyboardInterrupt",
     "evalue": "",
     "output_type": "error",
     "traceback": [
      "\u001b[0;31m---------------------------------------------------------------------------\u001b[0m",
      "\u001b[0;31mKeyboardInterrupt\u001b[0m                         Traceback (most recent call last)",
      "Cell \u001b[0;32mIn[10], line 9\u001b[0m\n\u001b[1;32m      7\u001b[0m input_ids \u001b[39m=\u001b[39m tokenizer\u001b[39m.\u001b[39mencode(friendly_prompt, return_tensors\u001b[39m=\u001b[39m\u001b[39m\"\u001b[39m\u001b[39mpt\u001b[39m\u001b[39m\"\u001b[39m)\n\u001b[1;32m      8\u001b[0m max_length \u001b[39m=\u001b[39m input_ids\u001b[39m.\u001b[39msize(\u001b[39m1\u001b[39m)  \u001b[39m+\u001b[39m \u001b[39m10\u001b[39m\n\u001b[0;32m----> 9\u001b[0m output \u001b[39m=\u001b[39m model\u001b[39m.\u001b[39;49mgenerate(input_ids, max_length\u001b[39m=\u001b[39;49mmax_length, num_return_sequences\u001b[39m=\u001b[39;49m\u001b[39m1\u001b[39;49m)\n\u001b[1;32m     10\u001b[0m generated_answer \u001b[39m=\u001b[39m tokenizer\u001b[39m.\u001b[39mdecode(output[\u001b[39m0\u001b[39m], skip_special_tokens\u001b[39m=\u001b[39m\u001b[39mTrue\u001b[39;00m)  \n\u001b[1;32m     11\u001b[0m \u001b[39mprint\u001b[39m(\u001b[39m\"\u001b[39m\u001b[39mGenerated answer:\u001b[39m\u001b[39m\\n\u001b[39;00m\u001b[39m\\n\u001b[39;00m\u001b[39m\"\u001b[39m, generated_answer[\u001b[39mlen\u001b[39m(friendly_prompt):])\n",
      "File \u001b[0;32m/mounts/work/pwicke/miniconda3/envs/schemas/lib/python3.8/site-packages/torch/utils/_contextlib.py:115\u001b[0m, in \u001b[0;36mcontext_decorator.<locals>.decorate_context\u001b[0;34m(*args, **kwargs)\u001b[0m\n\u001b[1;32m    112\u001b[0m \u001b[39m@functools\u001b[39m\u001b[39m.\u001b[39mwraps(func)\n\u001b[1;32m    113\u001b[0m \u001b[39mdef\u001b[39;00m \u001b[39mdecorate_context\u001b[39m(\u001b[39m*\u001b[39margs, \u001b[39m*\u001b[39m\u001b[39m*\u001b[39mkwargs):\n\u001b[1;32m    114\u001b[0m     \u001b[39mwith\u001b[39;00m ctx_factory():\n\u001b[0;32m--> 115\u001b[0m         \u001b[39mreturn\u001b[39;00m func(\u001b[39m*\u001b[39;49margs, \u001b[39m*\u001b[39;49m\u001b[39m*\u001b[39;49mkwargs)\n",
      "File \u001b[0;32m/mounts/work/pwicke/miniconda3/envs/schemas/lib/python3.8/site-packages/transformers/generation/utils.py:1538\u001b[0m, in \u001b[0;36mGenerationMixin.generate\u001b[0;34m(self, inputs, generation_config, logits_processor, stopping_criteria, prefix_allowed_tokens_fn, synced_gpus, assistant_model, streamer, **kwargs)\u001b[0m\n\u001b[1;32m   1532\u001b[0m         \u001b[39mraise\u001b[39;00m \u001b[39mValueError\u001b[39;00m(\n\u001b[1;32m   1533\u001b[0m             \u001b[39m\"\u001b[39m\u001b[39mnum_return_sequences has to be 1 when doing greedy search, \u001b[39m\u001b[39m\"\u001b[39m\n\u001b[1;32m   1534\u001b[0m             \u001b[39mf\u001b[39m\u001b[39m\"\u001b[39m\u001b[39mbut is \u001b[39m\u001b[39m{\u001b[39;00mgeneration_config\u001b[39m.\u001b[39mnum_return_sequences\u001b[39m}\u001b[39;00m\u001b[39m.\u001b[39m\u001b[39m\"\u001b[39m\n\u001b[1;32m   1535\u001b[0m         )\n\u001b[1;32m   1537\u001b[0m     \u001b[39m# 11. run greedy search\u001b[39;00m\n\u001b[0;32m-> 1538\u001b[0m     \u001b[39mreturn\u001b[39;00m \u001b[39mself\u001b[39;49m\u001b[39m.\u001b[39;49mgreedy_search(\n\u001b[1;32m   1539\u001b[0m         input_ids,\n\u001b[1;32m   1540\u001b[0m         logits_processor\u001b[39m=\u001b[39;49mlogits_processor,\n\u001b[1;32m   1541\u001b[0m         stopping_criteria\u001b[39m=\u001b[39;49mstopping_criteria,\n\u001b[1;32m   1542\u001b[0m         pad_token_id\u001b[39m=\u001b[39;49mgeneration_config\u001b[39m.\u001b[39;49mpad_token_id,\n\u001b[1;32m   1543\u001b[0m         eos_token_id\u001b[39m=\u001b[39;49mgeneration_config\u001b[39m.\u001b[39;49meos_token_id,\n\u001b[1;32m   1544\u001b[0m         output_scores\u001b[39m=\u001b[39;49mgeneration_config\u001b[39m.\u001b[39;49moutput_scores,\n\u001b[1;32m   1545\u001b[0m         return_dict_in_generate\u001b[39m=\u001b[39;49mgeneration_config\u001b[39m.\u001b[39;49mreturn_dict_in_generate,\n\u001b[1;32m   1546\u001b[0m         synced_gpus\u001b[39m=\u001b[39;49msynced_gpus,\n\u001b[1;32m   1547\u001b[0m         streamer\u001b[39m=\u001b[39;49mstreamer,\n\u001b[1;32m   1548\u001b[0m         \u001b[39m*\u001b[39;49m\u001b[39m*\u001b[39;49mmodel_kwargs,\n\u001b[1;32m   1549\u001b[0m     )\n\u001b[1;32m   1551\u001b[0m \u001b[39melif\u001b[39;00m is_contrastive_search_gen_mode:\n\u001b[1;32m   1552\u001b[0m     \u001b[39mif\u001b[39;00m generation_config\u001b[39m.\u001b[39mnum_return_sequences \u001b[39m>\u001b[39m \u001b[39m1\u001b[39m:\n",
      "File \u001b[0;32m/mounts/work/pwicke/miniconda3/envs/schemas/lib/python3.8/site-packages/transformers/generation/utils.py:2362\u001b[0m, in \u001b[0;36mGenerationMixin.greedy_search\u001b[0;34m(self, input_ids, logits_processor, stopping_criteria, max_length, pad_token_id, eos_token_id, output_attentions, output_hidden_states, output_scores, return_dict_in_generate, synced_gpus, streamer, **model_kwargs)\u001b[0m\n\u001b[1;32m   2359\u001b[0m model_inputs \u001b[39m=\u001b[39m \u001b[39mself\u001b[39m\u001b[39m.\u001b[39mprepare_inputs_for_generation(input_ids, \u001b[39m*\u001b[39m\u001b[39m*\u001b[39mmodel_kwargs)\n\u001b[1;32m   2361\u001b[0m \u001b[39m# forward pass to get next token\u001b[39;00m\n\u001b[0;32m-> 2362\u001b[0m outputs \u001b[39m=\u001b[39m \u001b[39mself\u001b[39;49m(\n\u001b[1;32m   2363\u001b[0m     \u001b[39m*\u001b[39;49m\u001b[39m*\u001b[39;49mmodel_inputs,\n\u001b[1;32m   2364\u001b[0m     return_dict\u001b[39m=\u001b[39;49m\u001b[39mTrue\u001b[39;49;00m,\n\u001b[1;32m   2365\u001b[0m     output_attentions\u001b[39m=\u001b[39;49moutput_attentions,\n\u001b[1;32m   2366\u001b[0m     output_hidden_states\u001b[39m=\u001b[39;49moutput_hidden_states,\n\u001b[1;32m   2367\u001b[0m )\n\u001b[1;32m   2369\u001b[0m \u001b[39mif\u001b[39;00m synced_gpus \u001b[39mand\u001b[39;00m this_peer_finished:\n\u001b[1;32m   2370\u001b[0m     \u001b[39mcontinue\u001b[39;00m  \u001b[39m# don't waste resources running the code we don't need\u001b[39;00m\n",
      "File \u001b[0;32m/mounts/work/pwicke/miniconda3/envs/schemas/lib/python3.8/site-packages/torch/nn/modules/module.py:1501\u001b[0m, in \u001b[0;36mModule._call_impl\u001b[0;34m(self, *args, **kwargs)\u001b[0m\n\u001b[1;32m   1496\u001b[0m \u001b[39m# If we don't have any hooks, we want to skip the rest of the logic in\u001b[39;00m\n\u001b[1;32m   1497\u001b[0m \u001b[39m# this function, and just call forward.\u001b[39;00m\n\u001b[1;32m   1498\u001b[0m \u001b[39mif\u001b[39;00m \u001b[39mnot\u001b[39;00m (\u001b[39mself\u001b[39m\u001b[39m.\u001b[39m_backward_hooks \u001b[39mor\u001b[39;00m \u001b[39mself\u001b[39m\u001b[39m.\u001b[39m_backward_pre_hooks \u001b[39mor\u001b[39;00m \u001b[39mself\u001b[39m\u001b[39m.\u001b[39m_forward_hooks \u001b[39mor\u001b[39;00m \u001b[39mself\u001b[39m\u001b[39m.\u001b[39m_forward_pre_hooks\n\u001b[1;32m   1499\u001b[0m         \u001b[39mor\u001b[39;00m _global_backward_pre_hooks \u001b[39mor\u001b[39;00m _global_backward_hooks\n\u001b[1;32m   1500\u001b[0m         \u001b[39mor\u001b[39;00m _global_forward_hooks \u001b[39mor\u001b[39;00m _global_forward_pre_hooks):\n\u001b[0;32m-> 1501\u001b[0m     \u001b[39mreturn\u001b[39;00m forward_call(\u001b[39m*\u001b[39;49margs, \u001b[39m*\u001b[39;49m\u001b[39m*\u001b[39;49mkwargs)\n\u001b[1;32m   1502\u001b[0m \u001b[39m# Do not call functions when jit is used\u001b[39;00m\n\u001b[1;32m   1503\u001b[0m full_backward_hooks, non_full_backward_hooks \u001b[39m=\u001b[39m [], []\n",
      "File \u001b[0;32m/mounts/work/pwicke/miniconda3/envs/schemas/lib/python3.8/site-packages/accelerate/hooks.py:165\u001b[0m, in \u001b[0;36madd_hook_to_module.<locals>.new_forward\u001b[0;34m(*args, **kwargs)\u001b[0m\n\u001b[1;32m    163\u001b[0m         output \u001b[39m=\u001b[39m old_forward(\u001b[39m*\u001b[39margs, \u001b[39m*\u001b[39m\u001b[39m*\u001b[39mkwargs)\n\u001b[1;32m    164\u001b[0m \u001b[39melse\u001b[39;00m:\n\u001b[0;32m--> 165\u001b[0m     output \u001b[39m=\u001b[39m old_forward(\u001b[39m*\u001b[39;49margs, \u001b[39m*\u001b[39;49m\u001b[39m*\u001b[39;49mkwargs)\n\u001b[1;32m    166\u001b[0m \u001b[39mreturn\u001b[39;00m module\u001b[39m.\u001b[39m_hf_hook\u001b[39m.\u001b[39mpost_forward(module, output)\n",
      "File \u001b[0;32m/mounts/work/pwicke/miniconda3/envs/schemas/lib/python3.8/site-packages/transformers/models/llama/modeling_llama.py:806\u001b[0m, in \u001b[0;36mLlamaForCausalLM.forward\u001b[0;34m(self, input_ids, attention_mask, position_ids, past_key_values, inputs_embeds, labels, use_cache, output_attentions, output_hidden_states, return_dict)\u001b[0m\n\u001b[1;32m    803\u001b[0m return_dict \u001b[39m=\u001b[39m return_dict \u001b[39mif\u001b[39;00m return_dict \u001b[39mis\u001b[39;00m \u001b[39mnot\u001b[39;00m \u001b[39mNone\u001b[39;00m \u001b[39melse\u001b[39;00m \u001b[39mself\u001b[39m\u001b[39m.\u001b[39mconfig\u001b[39m.\u001b[39muse_return_dict\n\u001b[1;32m    805\u001b[0m \u001b[39m# decoder outputs consists of (dec_features, layer_state, dec_hidden, dec_attn)\u001b[39;00m\n\u001b[0;32m--> 806\u001b[0m outputs \u001b[39m=\u001b[39m \u001b[39mself\u001b[39;49m\u001b[39m.\u001b[39;49mmodel(\n\u001b[1;32m    807\u001b[0m     input_ids\u001b[39m=\u001b[39;49minput_ids,\n\u001b[1;32m    808\u001b[0m     attention_mask\u001b[39m=\u001b[39;49mattention_mask,\n\u001b[1;32m    809\u001b[0m     position_ids\u001b[39m=\u001b[39;49mposition_ids,\n\u001b[1;32m    810\u001b[0m     past_key_values\u001b[39m=\u001b[39;49mpast_key_values,\n\u001b[1;32m    811\u001b[0m     inputs_embeds\u001b[39m=\u001b[39;49minputs_embeds,\n\u001b[1;32m    812\u001b[0m     use_cache\u001b[39m=\u001b[39;49muse_cache,\n\u001b[1;32m    813\u001b[0m     output_attentions\u001b[39m=\u001b[39;49moutput_attentions,\n\u001b[1;32m    814\u001b[0m     output_hidden_states\u001b[39m=\u001b[39;49moutput_hidden_states,\n\u001b[1;32m    815\u001b[0m     return_dict\u001b[39m=\u001b[39;49mreturn_dict,\n\u001b[1;32m    816\u001b[0m )\n\u001b[1;32m    818\u001b[0m hidden_states \u001b[39m=\u001b[39m outputs[\u001b[39m0\u001b[39m]\n\u001b[1;32m    819\u001b[0m \u001b[39mif\u001b[39;00m \u001b[39mself\u001b[39m\u001b[39m.\u001b[39mpretraining_tp \u001b[39m>\u001b[39m \u001b[39m1\u001b[39m:\n",
      "File \u001b[0;32m/mounts/work/pwicke/miniconda3/envs/schemas/lib/python3.8/site-packages/torch/nn/modules/module.py:1501\u001b[0m, in \u001b[0;36mModule._call_impl\u001b[0;34m(self, *args, **kwargs)\u001b[0m\n\u001b[1;32m   1496\u001b[0m \u001b[39m# If we don't have any hooks, we want to skip the rest of the logic in\u001b[39;00m\n\u001b[1;32m   1497\u001b[0m \u001b[39m# this function, and just call forward.\u001b[39;00m\n\u001b[1;32m   1498\u001b[0m \u001b[39mif\u001b[39;00m \u001b[39mnot\u001b[39;00m (\u001b[39mself\u001b[39m\u001b[39m.\u001b[39m_backward_hooks \u001b[39mor\u001b[39;00m \u001b[39mself\u001b[39m\u001b[39m.\u001b[39m_backward_pre_hooks \u001b[39mor\u001b[39;00m \u001b[39mself\u001b[39m\u001b[39m.\u001b[39m_forward_hooks \u001b[39mor\u001b[39;00m \u001b[39mself\u001b[39m\u001b[39m.\u001b[39m_forward_pre_hooks\n\u001b[1;32m   1499\u001b[0m         \u001b[39mor\u001b[39;00m _global_backward_pre_hooks \u001b[39mor\u001b[39;00m _global_backward_hooks\n\u001b[1;32m   1500\u001b[0m         \u001b[39mor\u001b[39;00m _global_forward_hooks \u001b[39mor\u001b[39;00m _global_forward_pre_hooks):\n\u001b[0;32m-> 1501\u001b[0m     \u001b[39mreturn\u001b[39;00m forward_call(\u001b[39m*\u001b[39;49margs, \u001b[39m*\u001b[39;49m\u001b[39m*\u001b[39;49mkwargs)\n\u001b[1;32m   1502\u001b[0m \u001b[39m# Do not call functions when jit is used\u001b[39;00m\n\u001b[1;32m   1503\u001b[0m full_backward_hooks, non_full_backward_hooks \u001b[39m=\u001b[39m [], []\n",
      "File \u001b[0;32m/mounts/work/pwicke/miniconda3/envs/schemas/lib/python3.8/site-packages/transformers/models/llama/modeling_llama.py:693\u001b[0m, in \u001b[0;36mLlamaModel.forward\u001b[0;34m(self, input_ids, attention_mask, position_ids, past_key_values, inputs_embeds, use_cache, output_attentions, output_hidden_states, return_dict)\u001b[0m\n\u001b[1;32m    685\u001b[0m     layer_outputs \u001b[39m=\u001b[39m torch\u001b[39m.\u001b[39mutils\u001b[39m.\u001b[39mcheckpoint\u001b[39m.\u001b[39mcheckpoint(\n\u001b[1;32m    686\u001b[0m         create_custom_forward(decoder_layer),\n\u001b[1;32m    687\u001b[0m         hidden_states,\n\u001b[0;32m   (...)\u001b[0m\n\u001b[1;32m    690\u001b[0m         \u001b[39mNone\u001b[39;00m,\n\u001b[1;32m    691\u001b[0m     )\n\u001b[1;32m    692\u001b[0m \u001b[39melse\u001b[39;00m:\n\u001b[0;32m--> 693\u001b[0m     layer_outputs \u001b[39m=\u001b[39m decoder_layer(\n\u001b[1;32m    694\u001b[0m         hidden_states,\n\u001b[1;32m    695\u001b[0m         attention_mask\u001b[39m=\u001b[39;49mattention_mask,\n\u001b[1;32m    696\u001b[0m         position_ids\u001b[39m=\u001b[39;49mposition_ids,\n\u001b[1;32m    697\u001b[0m         past_key_value\u001b[39m=\u001b[39;49mpast_key_value,\n\u001b[1;32m    698\u001b[0m         output_attentions\u001b[39m=\u001b[39;49moutput_attentions,\n\u001b[1;32m    699\u001b[0m         use_cache\u001b[39m=\u001b[39;49muse_cache,\n\u001b[1;32m    700\u001b[0m     )\n\u001b[1;32m    702\u001b[0m hidden_states \u001b[39m=\u001b[39m layer_outputs[\u001b[39m0\u001b[39m]\n\u001b[1;32m    704\u001b[0m \u001b[39mif\u001b[39;00m use_cache:\n",
      "File \u001b[0;32m/mounts/work/pwicke/miniconda3/envs/schemas/lib/python3.8/site-packages/torch/nn/modules/module.py:1501\u001b[0m, in \u001b[0;36mModule._call_impl\u001b[0;34m(self, *args, **kwargs)\u001b[0m\n\u001b[1;32m   1496\u001b[0m \u001b[39m# If we don't have any hooks, we want to skip the rest of the logic in\u001b[39;00m\n\u001b[1;32m   1497\u001b[0m \u001b[39m# this function, and just call forward.\u001b[39;00m\n\u001b[1;32m   1498\u001b[0m \u001b[39mif\u001b[39;00m \u001b[39mnot\u001b[39;00m (\u001b[39mself\u001b[39m\u001b[39m.\u001b[39m_backward_hooks \u001b[39mor\u001b[39;00m \u001b[39mself\u001b[39m\u001b[39m.\u001b[39m_backward_pre_hooks \u001b[39mor\u001b[39;00m \u001b[39mself\u001b[39m\u001b[39m.\u001b[39m_forward_hooks \u001b[39mor\u001b[39;00m \u001b[39mself\u001b[39m\u001b[39m.\u001b[39m_forward_pre_hooks\n\u001b[1;32m   1499\u001b[0m         \u001b[39mor\u001b[39;00m _global_backward_pre_hooks \u001b[39mor\u001b[39;00m _global_backward_hooks\n\u001b[1;32m   1500\u001b[0m         \u001b[39mor\u001b[39;00m _global_forward_hooks \u001b[39mor\u001b[39;00m _global_forward_pre_hooks):\n\u001b[0;32m-> 1501\u001b[0m     \u001b[39mreturn\u001b[39;00m forward_call(\u001b[39m*\u001b[39;49margs, \u001b[39m*\u001b[39;49m\u001b[39m*\u001b[39;49mkwargs)\n\u001b[1;32m   1502\u001b[0m \u001b[39m# Do not call functions when jit is used\u001b[39;00m\n\u001b[1;32m   1503\u001b[0m full_backward_hooks, non_full_backward_hooks \u001b[39m=\u001b[39m [], []\n",
      "File \u001b[0;32m/mounts/work/pwicke/miniconda3/envs/schemas/lib/python3.8/site-packages/accelerate/hooks.py:165\u001b[0m, in \u001b[0;36madd_hook_to_module.<locals>.new_forward\u001b[0;34m(*args, **kwargs)\u001b[0m\n\u001b[1;32m    163\u001b[0m         output \u001b[39m=\u001b[39m old_forward(\u001b[39m*\u001b[39margs, \u001b[39m*\u001b[39m\u001b[39m*\u001b[39mkwargs)\n\u001b[1;32m    164\u001b[0m \u001b[39melse\u001b[39;00m:\n\u001b[0;32m--> 165\u001b[0m     output \u001b[39m=\u001b[39m old_forward(\u001b[39m*\u001b[39;49margs, \u001b[39m*\u001b[39;49m\u001b[39m*\u001b[39;49mkwargs)\n\u001b[1;32m    166\u001b[0m \u001b[39mreturn\u001b[39;00m module\u001b[39m.\u001b[39m_hf_hook\u001b[39m.\u001b[39mpost_forward(module, output)\n",
      "File \u001b[0;32m/mounts/work/pwicke/miniconda3/envs/schemas/lib/python3.8/site-packages/transformers/models/llama/modeling_llama.py:421\u001b[0m, in \u001b[0;36mLlamaDecoderLayer.forward\u001b[0;34m(self, hidden_states, attention_mask, position_ids, past_key_value, output_attentions, use_cache)\u001b[0m\n\u001b[1;32m    419\u001b[0m residual \u001b[39m=\u001b[39m hidden_states\n\u001b[1;32m    420\u001b[0m hidden_states \u001b[39m=\u001b[39m \u001b[39mself\u001b[39m\u001b[39m.\u001b[39mpost_attention_layernorm(hidden_states)\n\u001b[0;32m--> 421\u001b[0m hidden_states \u001b[39m=\u001b[39m \u001b[39mself\u001b[39;49m\u001b[39m.\u001b[39;49mmlp(hidden_states)\n\u001b[1;32m    422\u001b[0m hidden_states \u001b[39m=\u001b[39m residual \u001b[39m+\u001b[39m hidden_states\n\u001b[1;32m    424\u001b[0m outputs \u001b[39m=\u001b[39m (hidden_states,)\n",
      "File \u001b[0;32m/mounts/work/pwicke/miniconda3/envs/schemas/lib/python3.8/site-packages/torch/nn/modules/module.py:1501\u001b[0m, in \u001b[0;36mModule._call_impl\u001b[0;34m(self, *args, **kwargs)\u001b[0m\n\u001b[1;32m   1496\u001b[0m \u001b[39m# If we don't have any hooks, we want to skip the rest of the logic in\u001b[39;00m\n\u001b[1;32m   1497\u001b[0m \u001b[39m# this function, and just call forward.\u001b[39;00m\n\u001b[1;32m   1498\u001b[0m \u001b[39mif\u001b[39;00m \u001b[39mnot\u001b[39;00m (\u001b[39mself\u001b[39m\u001b[39m.\u001b[39m_backward_hooks \u001b[39mor\u001b[39;00m \u001b[39mself\u001b[39m\u001b[39m.\u001b[39m_backward_pre_hooks \u001b[39mor\u001b[39;00m \u001b[39mself\u001b[39m\u001b[39m.\u001b[39m_forward_hooks \u001b[39mor\u001b[39;00m \u001b[39mself\u001b[39m\u001b[39m.\u001b[39m_forward_pre_hooks\n\u001b[1;32m   1499\u001b[0m         \u001b[39mor\u001b[39;00m _global_backward_pre_hooks \u001b[39mor\u001b[39;00m _global_backward_hooks\n\u001b[1;32m   1500\u001b[0m         \u001b[39mor\u001b[39;00m _global_forward_hooks \u001b[39mor\u001b[39;00m _global_forward_pre_hooks):\n\u001b[0;32m-> 1501\u001b[0m     \u001b[39mreturn\u001b[39;00m forward_call(\u001b[39m*\u001b[39;49margs, \u001b[39m*\u001b[39;49m\u001b[39m*\u001b[39;49mkwargs)\n\u001b[1;32m   1502\u001b[0m \u001b[39m# Do not call functions when jit is used\u001b[39;00m\n\u001b[1;32m   1503\u001b[0m full_backward_hooks, non_full_backward_hooks \u001b[39m=\u001b[39m [], []\n",
      "File \u001b[0;32m/mounts/work/pwicke/miniconda3/envs/schemas/lib/python3.8/site-packages/accelerate/hooks.py:165\u001b[0m, in \u001b[0;36madd_hook_to_module.<locals>.new_forward\u001b[0;34m(*args, **kwargs)\u001b[0m\n\u001b[1;32m    163\u001b[0m         output \u001b[39m=\u001b[39m old_forward(\u001b[39m*\u001b[39margs, \u001b[39m*\u001b[39m\u001b[39m*\u001b[39mkwargs)\n\u001b[1;32m    164\u001b[0m \u001b[39melse\u001b[39;00m:\n\u001b[0;32m--> 165\u001b[0m     output \u001b[39m=\u001b[39m old_forward(\u001b[39m*\u001b[39;49margs, \u001b[39m*\u001b[39;49m\u001b[39m*\u001b[39;49mkwargs)\n\u001b[1;32m    166\u001b[0m \u001b[39mreturn\u001b[39;00m module\u001b[39m.\u001b[39m_hf_hook\u001b[39m.\u001b[39mpost_forward(module, output)\n",
      "File \u001b[0;32m/mounts/work/pwicke/miniconda3/envs/schemas/lib/python3.8/site-packages/transformers/models/llama/modeling_llama.py:216\u001b[0m, in \u001b[0;36mLlamaMLP.forward\u001b[0;34m(self, x)\u001b[0m\n\u001b[1;32m    214\u001b[0m     down_proj \u001b[39m=\u001b[39m \u001b[39msum\u001b[39m(down_proj)\n\u001b[1;32m    215\u001b[0m \u001b[39melse\u001b[39;00m:\n\u001b[0;32m--> 216\u001b[0m     down_proj \u001b[39m=\u001b[39m \u001b[39mself\u001b[39m\u001b[39m.\u001b[39mdown_proj(\u001b[39mself\u001b[39m\u001b[39m.\u001b[39mact_fn(\u001b[39mself\u001b[39;49m\u001b[39m.\u001b[39;49mgate_proj(x)) \u001b[39m*\u001b[39m \u001b[39mself\u001b[39m\u001b[39m.\u001b[39mup_proj(x))\n\u001b[1;32m    218\u001b[0m \u001b[39mreturn\u001b[39;00m down_proj\n",
      "File \u001b[0;32m/mounts/work/pwicke/miniconda3/envs/schemas/lib/python3.8/site-packages/torch/nn/modules/module.py:1501\u001b[0m, in \u001b[0;36mModule._call_impl\u001b[0;34m(self, *args, **kwargs)\u001b[0m\n\u001b[1;32m   1496\u001b[0m \u001b[39m# If we don't have any hooks, we want to skip the rest of the logic in\u001b[39;00m\n\u001b[1;32m   1497\u001b[0m \u001b[39m# this function, and just call forward.\u001b[39;00m\n\u001b[1;32m   1498\u001b[0m \u001b[39mif\u001b[39;00m \u001b[39mnot\u001b[39;00m (\u001b[39mself\u001b[39m\u001b[39m.\u001b[39m_backward_hooks \u001b[39mor\u001b[39;00m \u001b[39mself\u001b[39m\u001b[39m.\u001b[39m_backward_pre_hooks \u001b[39mor\u001b[39;00m \u001b[39mself\u001b[39m\u001b[39m.\u001b[39m_forward_hooks \u001b[39mor\u001b[39;00m \u001b[39mself\u001b[39m\u001b[39m.\u001b[39m_forward_pre_hooks\n\u001b[1;32m   1499\u001b[0m         \u001b[39mor\u001b[39;00m _global_backward_pre_hooks \u001b[39mor\u001b[39;00m _global_backward_hooks\n\u001b[1;32m   1500\u001b[0m         \u001b[39mor\u001b[39;00m _global_forward_hooks \u001b[39mor\u001b[39;00m _global_forward_pre_hooks):\n\u001b[0;32m-> 1501\u001b[0m     \u001b[39mreturn\u001b[39;00m forward_call(\u001b[39m*\u001b[39;49margs, \u001b[39m*\u001b[39;49m\u001b[39m*\u001b[39;49mkwargs)\n\u001b[1;32m   1502\u001b[0m \u001b[39m# Do not call functions when jit is used\u001b[39;00m\n\u001b[1;32m   1503\u001b[0m full_backward_hooks, non_full_backward_hooks \u001b[39m=\u001b[39m [], []\n",
      "File \u001b[0;32m/mounts/work/pwicke/miniconda3/envs/schemas/lib/python3.8/site-packages/accelerate/hooks.py:165\u001b[0m, in \u001b[0;36madd_hook_to_module.<locals>.new_forward\u001b[0;34m(*args, **kwargs)\u001b[0m\n\u001b[1;32m    163\u001b[0m         output \u001b[39m=\u001b[39m old_forward(\u001b[39m*\u001b[39margs, \u001b[39m*\u001b[39m\u001b[39m*\u001b[39mkwargs)\n\u001b[1;32m    164\u001b[0m \u001b[39melse\u001b[39;00m:\n\u001b[0;32m--> 165\u001b[0m     output \u001b[39m=\u001b[39m old_forward(\u001b[39m*\u001b[39;49margs, \u001b[39m*\u001b[39;49m\u001b[39m*\u001b[39;49mkwargs)\n\u001b[1;32m    166\u001b[0m \u001b[39mreturn\u001b[39;00m module\u001b[39m.\u001b[39m_hf_hook\u001b[39m.\u001b[39mpost_forward(module, output)\n",
      "File \u001b[0;32m/mounts/work/pwicke/miniconda3/envs/schemas/lib/python3.8/site-packages/torch/nn/modules/linear.py:114\u001b[0m, in \u001b[0;36mLinear.forward\u001b[0;34m(self, input)\u001b[0m\n\u001b[1;32m    113\u001b[0m \u001b[39mdef\u001b[39;00m \u001b[39mforward\u001b[39m(\u001b[39mself\u001b[39m, \u001b[39minput\u001b[39m: Tensor) \u001b[39m-\u001b[39m\u001b[39m>\u001b[39m Tensor:\n\u001b[0;32m--> 114\u001b[0m     \u001b[39mreturn\u001b[39;00m F\u001b[39m.\u001b[39;49mlinear(\u001b[39minput\u001b[39;49m, \u001b[39mself\u001b[39;49m\u001b[39m.\u001b[39;49mweight, \u001b[39mself\u001b[39;49m\u001b[39m.\u001b[39;49mbias)\n",
      "\u001b[0;31mKeyboardInterrupt\u001b[0m: "
     ]
    }
   ],
   "source": [
    "for action_word in action_words[:10]:\n",
    "    \n",
    "    print(\"ACTION: \"+action_word)\n",
    "\n",
    "    friendly_prompt = \"Select the image that best represents the event described by the sentence: \"+action_word+\"\\n[◯→▢]\\n\\n[◯←▢]\\n\\n[◯\\n↑\\n▢]\\n\\n[◯\\n↓\\n▢]\\n\\nThe best representation is [◯\"\n",
    "    \n",
    "    input_ids = tokenizer.encode(friendly_prompt, return_tensors=\"pt\")\n",
    "    max_length = input_ids.size(1)  + 10\n",
    "    output = model.generate(input_ids, max_length=max_length, num_return_sequences=1)\n",
    "    generated_answer = tokenizer.decode(output[0], skip_special_tokens=True)  \n",
    "    print(\"Generated answer:\\n\\n\", generated_answer[len(friendly_prompt):])\n",
    "\n",
    "prompt_B = \"Select the image that best represents the event described by the sentence: \"+action_word+\"\\n[◯→▢]\\n\\n[◯←▢]\\n\\n[◯\\n↑\\n▢]\\n\\n[◯\\n↓\\n▢]\\n\\nThe best representation is [◯\"\n",
    "#prompt_C = \"Choose the best image for the word:\\nUP: ↑ \\nDOWN: ↓ \\nLEFT: → \\nRIGHT: ← \\n\"+action_word.upper()+\": \"\n",
    "#prompt_D = \"Choosing from UP, DOWN, LEFT and RIGHT, the word \\'\"+action_word.upper()+\"\\' is best respresented by the word \"\n",
    "#prompt_B = \"Of these four: A: ◯→▢ B: ◯←▢ C: ◯ ↑ ▢ D: ◯ ↓ ▢ Which one best describes \\\"◯ \"+action_word+\" ▢\\\" ?\""
   ]
  },
  {
   "cell_type": "markdown",
   "metadata": {},
   "source": [
    "### Step 03: Test pipline with logprobs and `friendly prompt`"
   ]
  },
  {
   "cell_type": "code",
   "execution_count": 11,
   "metadata": {},
   "outputs": [],
   "source": [
    "from sidemethods import logprobs_from_prompt, proc, proc_lower, prob_of_ending, calculate_accuracy, calculate_accuracies, store_accuracies"
   ]
  },
  {
   "cell_type": "code",
   "execution_count": 12,
   "metadata": {},
   "outputs": [],
   "source": [
    "def get_action_prompt(action):\n",
    "    return \"Select the image that best represents the event described by the sentence: \"+action+\"\\n[◯→▢]\\n\\n[◯←▢]\\n\\n[◯\\n↑\\n▢]\\n\\n[◯\\n↓\\n▢]\\n\\nThe best representation is [◯\"\n",
    "    \n",
    "def get_test_action(country):\n",
    "    return country+\"'s captitol is \""
   ]
  },
  {
   "cell_type": "code",
   "execution_count": 13,
   "metadata": {},
   "outputs": [
    {
     "data": {
      "text/plain": [
       "{'fled': [7.2, 4.2, 80.8, 7.8],\n",
       " 'pointed at': [7.2, 3.6, 0.0, 89.2],\n",
       " 'pulled': [6.0, 5.4, 75.4, 13.2],\n",
       " 'pushed': [7.2, 3.6, 1.2, 88.0],\n",
       " 'walked': [9.0, 3.6, 24.0, 62.9],\n",
       " 'hunted': [9.6, 20.4, 1.8, 68.3],\n",
       " 'impacted': [7.2, 37.1, 3.0, 52.7],\n",
       " 'perched': [12.0, 76.0, 6.6, 5.4],\n",
       " 'showed': [15.0, 9.0, 10.2, 65.9],\n",
       " 'smashed': [3.6, 66.5, 1.2, 28.7],\n",
       " 'bombed': [4.8, 86.8, 1.8, 6.6],\n",
       " 'flew': [37.7, 44.3, 15.0, 3.0],\n",
       " 'floated': [32.9, 56.3, 7.8, 3.0],\n",
       " 'lifted': [87.4, 9.6, 2.4, 0.6],\n",
       " 'sank': [22.2, 71.9, 4.2, 1.8],\n",
       " 'argued with': [11.4, 13.8, 12.6, 62.3],\n",
       " 'gave to': [8.4, 9.6, 1.2, 80.8],\n",
       " 'offended': [9.0, 31.7, 24.6, 34.7],\n",
       " 'rushed': [10.2, 10.8, 23.4, 55.1],\n",
       " 'warned': [10.8, 22.2, 6.0, 61.1],\n",
       " 'owned': [5.4, 55.7, 18.6, 20.4],\n",
       " 'regretted': [19.8, 24.0, 41.3, 15.0],\n",
       " 'rested': [14.4, 36.5, 40.1, 9.0],\n",
       " 'tempted': [16.8, 11.4, 45.5, 26.3],\n",
       " 'wanted': [15.6, 7.8, 15.6, 61.1],\n",
       " 'hoped': [45.5, 15.6, 7.2, 31.7],\n",
       " 'increased': [73.7, 7.2, 9.6, 9.0],\n",
       " 'obeyed': [22.8, 4.2, 64.7, 8.4],\n",
       " 'respected': [53.9, 3.0, 14.4, 28.7],\n",
       " 'succeeded': [40.1, 35.9, 10.8, 13.2],\n",
       " 0: ['C:◯↑▢', 'D:◯↓▢', 'B:◯←▢ ', 'A:◯→▢']}"
      ]
     },
     "execution_count": 13,
     "metadata": {},
     "output_type": "execute_result"
    }
   ],
   "source": [
    "richardson_data"
   ]
  },
  {
   "cell_type": "code",
   "execution_count": 14,
   "metadata": {},
   "outputs": [
    {
     "name": "stderr",
     "output_type": "stream",
     "text": [
      "100%|██████████| 31/31 [01:50<00:00,  3.56s/it]\n"
     ]
    }
   ],
   "source": [
    "friendly_prompt_choices = dict()\n",
    "\n",
    "#action_words= [\"Germany\", \"Australia\", \"Japan\", \"Israel\", \"France\"]\n",
    "\n",
    "for action_word in tqdm(action_words):\n",
    "    #print(action_word)\n",
    "    if action_word == 0:\n",
    "        continue\n",
    "    \n",
    "    start = get_action_prompt(action_word)\n",
    "    #start = get_test_action(action_word)\n",
    "    \n",
    "    \n",
    "    answers = {0:\"→\", 1:\"←\", 2:\"↑\", 3:\"↓\"}\n",
    "    #answers = {0: \"Berlin\", 1:\"Paris\", 2:\"Canberra\", 3:\"Tokyo\"}\n",
    "\n",
    "    #start = \"nazis are known to be on the political \"\n",
    "    #answers = {0:\"UP\", 1:\"DOWN\", 2:\"LEFT\", 3:\"RIGHT\"}\n",
    "\n",
    "    res_ends = []\n",
    "    for j, end in answers.items():\n",
    "        input_prompt = proc(start) + ' ' + proc(end)\n",
    "        logprobs = logprobs_from_prompt(input_prompt, tokenizer, model)\n",
    "        res = {\"tokens\": [x for x,y in logprobs],\"token_logprobs\": [y for x,y in logprobs]}\n",
    "        res_ends.append(res)\n",
    "\n",
    "    choosen_answer = (-9999, \"\")\n",
    "    \n",
    "    choice_distribution = []\n",
    "    for i, answer in answers.items():\n",
    "        choice_val = prob_of_ending(res_ends[i]['token_logprobs'], res_ends[i]['tokens'])\n",
    "        if choice_val > choosen_answer[0]:\n",
    "            choosen_answer = choice_val, answer\n",
    "        choice_distribution.append(choice_val)\n",
    "    \n",
    "    # Richardson has table columns and image sequences mixed up, we align it here\n",
    "    friendly_prompt_choices[action_word] = []\n",
    "    friendly_prompt_choices[action_word].append(choice_distribution[2])\n",
    "    friendly_prompt_choices[action_word].append(choice_distribution[3])\n",
    "    friendly_prompt_choices[action_word].append(choice_distribution[1])\n",
    "    friendly_prompt_choices[action_word].append(choice_distribution[0])\n",
    "\n",
    "    #print(\"Choice: \", choosen_answer[1])\n",
    "    #print()\n",
    "\n",
    "\n"
   ]
  },
  {
   "cell_type": "code",
   "execution_count": 15,
   "metadata": {},
   "outputs": [
    {
     "name": "stdout",
     "output_type": "stream",
     "text": [
      "walked [-0.78, -1.41, -1.64, -2.11]\n",
      "perched [-0.72, -1.38, -1.78, -2.32]\n",
      "respected [-0.78, -1.41, -1.71, -2.28]\n",
      "fled [-0.8, -1.36, -1.6, -2.13]\n",
      "pulled [-0.8, -1.4, -1.65, -2.17]\n",
      "wanted [-0.81, -1.41, -1.67, -2.15]\n",
      "pushed [-0.83, -1.42, -1.63, -2.07]\n",
      "argued with [-0.78, -1.31, -1.64, -2.33]\n",
      "obeyed [-0.79, -1.31, -1.69, -2.21]\n",
      "showed [-0.79, -1.39, -1.67, -2.22]\n",
      "sank [-0.81, -1.23, -1.76, -2.28]\n",
      "lifted [-0.76, -1.42, -1.79, -2.21]\n",
      "regretted [-0.76, -1.35, -1.71, -2.33]\n",
      "gave to [-0.83, -1.43, -1.66, -2.17]\n",
      "pointed at [-0.79, -1.42, -1.71, -2.19]\n",
      "impacted [-0.79, -1.32, -1.66, -2.03]\n",
      "owned [-0.82, -1.38, -1.68, -2.22]\n",
      "smashed [-0.81, -1.4, -1.7, -2.18]\n",
      "increased [-0.83, -1.46, -1.93, -2.16]\n",
      "floated [-0.76, -1.41, -1.8, -2.2]\n",
      "bombed [-0.73, -1.35, -1.63, -2.18]\n",
      "hunted [-0.78, -1.3, -1.65, -2.21]\n",
      "tempted [-0.78, -1.37, -1.75, -2.24]\n",
      "hoped [-0.8, -1.38, -1.75, -2.29]\n",
      "rushed [-0.79, -1.43, -1.79, -2.17]\n",
      "flew [-0.74, -1.54, -1.81, -2.14]\n",
      "rested [-0.77, -1.37, -1.8, -2.25]\n",
      "offended [-0.79, -1.33, -1.75, -2.38]\n",
      "succeeded [-0.82, -1.43, -1.72, -2.19]\n",
      "warned [-0.79, -1.43, -1.67, -2.24]\n"
     ]
    }
   ],
   "source": [
    "for k, v in friendly_prompt_choices.items():\n",
    "    print(k, [round(x,2) for x in v])"
   ]
  },
  {
   "cell_type": "markdown",
   "metadata": {},
   "source": [
    "No matter how the friendly prompt is adjusted, the weight of the symbols  → is so strong that it will always heavily favor one symbol over all other symbols. It is not feasible to ask for the logprobs in this experiment. "
   ]
  },
  {
   "cell_type": "markdown",
   "metadata": {},
   "source": [
    "### Step 04: Suitable `friendly prompt` for zero-shot evaluation\n"
   ]
  },
  {
   "cell_type": "code",
   "execution_count": 16,
   "metadata": {},
   "outputs": [
    {
     "name": "stderr",
     "output_type": "stream",
     "text": [
      "100%|██████████| 31/31 [04:15<00:00,  8.24s/it]\n"
     ]
    }
   ],
   "source": [
    "model_choices = dict()\n",
    "arrows = ['↑', '↓', '←', '→']\n",
    "\n",
    "for action_word in tqdm(action_words):\n",
    "\n",
    "    if action_word == 0:\n",
    "        continue\n",
    "\n",
    "    friendly_prompt = \"Select the image that best represents the event described by the sentence: \"+action_word+\"\\n[◯→▢]\\n\\n[◯←▢]\\n\\n[◯\\n↑\\n▢]\\n\\n[◯\\n↓\\n▢]\\n\\nThe best representation is [◯\"\n",
    "    \n",
    "    input_ids = tokenizer.encode(friendly_prompt, return_tensors=\"pt\")\n",
    "    max_length = input_ids.size(1)  + 20\n",
    "    output = model.generate(input_ids, max_length=max_length, num_return_sequences=1)\n",
    "    generated_answer = tokenizer.decode(output[0], skip_special_tokens=True)  \n",
    "    \n",
    "    model_choices[action_word] = []\n",
    "    for idx, arrow in enumerate(arrows):\n",
    "        if arrow in generated_answer[len(friendly_prompt):]:\n",
    "            model_choices[action_word].append(1)\n",
    "        else:\n",
    "            model_choices[action_word].append(0)\n",
    "\n",
    "# Llama70-b: 4m:15s\n",
    "# Llama13-b: 1m:50s"
   ]
  },
  {
   "cell_type": "code",
   "execution_count": 23,
   "metadata": {},
   "outputs": [
    {
     "name": "stdout",
     "output_type": "stream",
     "text": [
      "Action C:◯↑▢ D:◯↓▢ B:◯←▢  A:◯→▢\n",
      "walked [0, 0, 0, 1]\n",
      "perched [0, 1, 0, 0]\n",
      "respected [0, 1, 0, 0]\n",
      "fled [0, 0, 1, 0]\n",
      "pulled [0, 0, 1, 0]\n",
      "wanted [0, 0, 0, 1]\n",
      "pushed [0, 0, 1, 0]\n",
      "argued with [0, 0, 1, 0]\n",
      "obeyed [0, 0, 1, 0]\n",
      "showed [0, 0, 1, 0]\n",
      "sank [0, 1, 0, 0]\n",
      "lifted [0, 0, 1, 0]\n",
      "regretted [0, 0, 1, 0]\n",
      "gave to [0, 0, 1, 0]\n",
      "pointed at [0, 0, 1, 0]\n",
      "impacted [0, 0, 1, 0]\n",
      "owned [0, 0, 1, 0]\n",
      "smashed [0, 0, 0, 1]\n",
      "increased [0, 0, 1, 0]\n",
      "floated [0, 0, 0, 1]\n",
      "bombed [0, 0, 0, 1]\n",
      "hunted [0, 0, 0, 1]\n",
      "tempted [0, 0, 0, 1]\n",
      "hoped [0, 1, 0, 0]\n",
      "rushed [0, 0, 0, 1]\n",
      "flew [0, 0, 0, 1]\n",
      "rested [0, 0, 1, 0]\n",
      "offended [0, 0, 1, 0]\n",
      "succeeded [0, 0, 0, 1]\n",
      "warned [0, 0, 1, 0]\n"
     ]
    }
   ],
   "source": [
    "print(\"Action\", \"C:◯↑▢\", 'D:◯↓▢', 'B:◯←▢ ', 'A:◯→▢')\n",
    "for k,v in model_choices.items():\n",
    "    print(k,v)\n",
    "\n",
    "\n",
    "with open(\"results/exp01a_\"+model_name+\".txt\", \"w\") as f_out:\n",
    "    f_out.write(\"Action\\tC:◯↑▢\\tD:◯↓▢\\tB:◯←▢\\tA:◯→▢\\n\")\n",
    "    for k,v in model_choices.items():\n",
    "        f_out.write(k+\"\\t\"+\"\\t\".join([str(x) for x in v])+\"\\n\")\n",
    "\n",
    "\n",
    "    "
   ]
  },
  {
   "cell_type": "markdown",
   "metadata": {},
   "source": [
    "### Step 05: Compare with Richardson's data"
   ]
  },
  {
   "cell_type": "code",
   "execution_count": 24,
   "metadata": {},
   "outputs": [],
   "source": [
    "richardson_categorial = dict()\n",
    "\n",
    "# binarize richardson's data\n",
    "with open(\"results/exp01_richardson_categorial.txt\", \"w\") as f_out:\n",
    "    f_out.write(\"Action\\tC:◯↑▢\\tD:◯↓▢\\tB:◯←▢\\tA:◯→▢\\n\")\n",
    "    for k, v in richardson_data.items():\n",
    "        if k == 0:\n",
    "            continue\n",
    "        vals = [0,0,0,0]\n",
    "        vals[v.index(max(v))] = 1\n",
    "        f_out.write(k+\"\\t\"+\"\\t\".join([str(x) for x in vals])+\"\\n\")\n",
    "\n",
    "        richardson_categorial[k] = vals"
   ]
  },
  {
   "cell_type": "code",
   "execution_count": 12,
   "metadata": {},
   "outputs": [
    {
     "name": "stdout",
     "output_type": "stream",
     "text": [
      "{'fled': [0.0, 0.0, 0.808, 0.0], 'pointed at': [0.0, 0.0, 0.0, 0.892], 'pulled': [0.0, 0.0, 0.754, 0.0], 'pushed': [0.0, 0.0, 0.0, 0.88], 'walked': [0.0, 0.0, 0.0, 0.632], 'hunted': [0.0, 0.0, 0.0, 0.682], 'impacted': [0.0, 0.0, 0.0, 0.527], 'perched': [0.0, 0.76, 0.0, 0.0], 'showed': [0.0, 0.0, 0.0, 0.658], 'smashed': [0.0, 0.665, 0.0, 0.0], 'bombed': [0.0, 0.868, 0.0, 0.0], 'flew': [0.0, 0.443, 0.0, 0.0], 'floated': [0.0, 0.563, 0.0, 0.0], 'lifted': [0.874, 0.0, 0.0, 0.0], 'sank': [0.0, 0.718, 0.0, 0.0], 'argued with': [0.0, 0.0, 0.0, 0.622], 'gave to': [0.0, 0.0, 0.0, 0.808], 'offended': [0.0, 0.0, 0.0, 0.347], 'rushed': [0.0, 0.0, 0.0, 0.554], 'warned': [0.0, 0.0, 0.0, 0.61], 'owned': [0.0, 0.556, 0.0, 0.0], 'regretted': [0.0, 0.0, 0.413, 0.0], 'rested': [0.0, 0.0, 0.401, 0.0], 'tempted': [0.0, 0.0, 0.455, 0.0], 'wanted': [0.0, 0.0, 0.0, 0.61], 'hoped': [0.455, 0.0, 0.0, 0.0], 'increased': [0.741, 0.0, 0.0, 0.0], 'obeyed': [0.0, 0.0, 0.646, 0.0], 'respected': [0.539, 0.0, 0.0, 0.0], 'succeeded': [0.401, 0.0, 0.0, 0.0]}\n"
     ]
    }
   ],
   "source": [
    "richardson_normed = dict()\n",
    "for action, values in richardson_data.items():\n",
    "    if action == 0:\n",
    "        continue\n",
    "    normed_values = np.zeros(4)\n",
    "    normed_values[values.index(max(values))] = round(max(values) / sum(values),3)\n",
    "    richardson_normed[action] =  list(normed_values)\n",
    "\n",
    "print(richardson_normed)"
   ]
  },
  {
   "cell_type": "code",
   "execution_count": 19,
   "metadata": {},
   "outputs": [
    {
     "name": "stdout",
     "output_type": "stream",
     "text": [
      "{'fled': 0.9901663377226431, 'pointed at': 0.0, 'pulled': 0.9795876356616771, 'pushed': 0.01357841432268506, 'walked': 0.924763039831037, 'hunted': 0.9493026472305787, 'impacted': 0.046211084910339865, 'perched': 0.9817515577580416, 'showed': 0.14795277584556701, 'smashed': 0.3957081444379261, 'bombed': 0.07568687895144977, 'flew': 0.04987698326518423, 'floated': 0.04563330124259875, 'lifted': 0.027284991362894712, 'sank': 0.953734413319121, 'argued with': 0.1908116511593712, 'gave to': 0.014668216871254868, 'offended': 0.45719378941948374, 'rushed': 0.8933406045639222, 'warned': 0.09067324337954895, 'owned': 0.29807654031533926, 'regretted': 0.7670897312644317, 'rested': 0.7057256562731608, 'tempted': 0.4668127501188908, 'wanted': 0.9338567516961644, 'hoped': 0.26871242051024596, 'increased': 0.12764095459848068, 'obeyed': 0.9344356036419196, 'respected': 0.047762102914633286, 'succeeded': 0.2337949951526904}\n",
      "{'Horizontal': 0.3967, 'Neutral': 0.425, 'Vertical': 0.0397, 'Horizon.': 0.3112, 'Neutr.': 0.4475, 'Vertic.': 0.2757}\n"
     ]
    }
   ],
   "source": [
    "from sklearn.metrics.pairwise import cosine_similarity\n",
    "import matplotlib.pyplot as plt\n",
    "\n",
    "#richardson_data.pop(0)\n",
    "\n",
    "similarity_scores_items = {}\n",
    "similarity_scores_constructs = {'Horizontal':0, 'Neutral':0, 'Vertical':0, 'Horizon.':0, 'Neutr.':0, 'Vertic.':0}\n",
    "\n",
    "for idx, key in enumerate(richardson_data):\n",
    "\n",
    "    # for each item\n",
    "    vec1 = np.array(richardson_data[key])\n",
    "    vec2 = np.array(model_choices[key])\n",
    "    similarity = cosine_similarity([vec1], [vec2])[0][0]\n",
    "    similarity_scores_items[key] = similarity\n",
    "\n",
    "print(similarity_scores_items)\n",
    "\n",
    "count = 0\n",
    "for i in range(0,len(similarity_scores_items),5):\n",
    "    current_constr = list(similarity_scores_constructs.keys())[count]\n",
    "    constr_sum = round((sum(list(similarity_scores_items.values())[i:i+4])/5),4)\n",
    "    similarity_scores_constructs[current_constr] = constr_sum\n",
    "    count+=1\n",
    "\n",
    "print(similarity_scores_constructs)"
   ]
  },
  {
   "cell_type": "code",
   "execution_count": 20,
   "metadata": {},
   "outputs": [
    {
     "data": {
      "image/png": "[encoded data removed]",
      "text/plain": [
       "<Figure size 800x500 with 1 Axes>"
      ]
     },
     "metadata": {},
     "output_type": "display_data"
    }
   ],
   "source": [
    "import matplotlib.pyplot as plt\n",
    "import seaborn as sns\n",
    "\n",
    "data = similarity_scores_constructs\n",
    "\n",
    "# Set a custom color palette\n",
    "custom_palette = ['#457b9d', '#f4a261', '#2a9d8f', '#b0c6d1', '#e5b293', '#8ab6c1']\n",
    "\n",
    "# Create a horizontal bar plot using Seaborn\n",
    "plt.figure(figsize=(8, 5))\n",
    "\n",
    "sns.set_style(\"whitegrid\")\n",
    "sns.barplot(x=list(data.values()), y=list(data.keys()), palette=custom_palette)\n",
    "\n",
    "plt.xlabel('Similarity (Normed Cosine)', fontsize=12)\n",
    "plt.ylabel('Low Abstraction            High Abstraction', fontsize=12)\n",
    "plt.title(model_name+' Comparison', fontsize=14)\n",
    "\n",
    "# Adding data values next to the bars\n",
    "for i, value in enumerate(data.values()):\n",
    "    plt.text(value + 0.005, i, f'{value:.4f}', va='center', fontsize=10, color='black')\n",
    "\n",
    "# Set x-axis limits\n",
    "plt.xlim(0, 1)\n",
    "\n",
    "# Remove spines (borders) from the plot\n",
    "sns.despine()\n",
    "\n",
    "plt.xticks(fontsize=10)\n",
    "plt.yticks(fontsize=10)\n",
    "\n",
    "plt.tight_layout()\n",
    "\n",
    "plt.show()\n"
   ]
  },
  {
   "cell_type": "code",
   "execution_count": 9,
   "metadata": {},
   "outputs": [
    {
     "data": {
      "text/plain": [
       "{'walked': [0, 0, 0, 1],\n",
       " 'perched': [0, 1, 0, 0],\n",
       " 'respected': [0, 1, 0, 0],\n",
       " 'fled': [0, 0, 1, 0],\n",
       " 'pulled': [0, 0, 1, 0],\n",
       " 'wanted': [0, 0, 0, 1],\n",
       " 'pushed': [0, 0, 1, 0],\n",
       " 'argued with': [0, 0, 1, 0],\n",
       " 'obeyed': [0, 0, 1, 0],\n",
       " 'showed': [0, 0, 1, 0],\n",
       " 'sank': [0, 1, 0, 0],\n",
       " 'lifted': [0, 0, 1, 0],\n",
       " 'regretted': [0, 0, 1, 0],\n",
       " 'gave to': [0, 0, 1, 0],\n",
       " 'pointed at': [0, 0, 1, 0],\n",
       " 'impacted': [0, 0, 1, 0],\n",
       " 'owned': [0, 0, 1, 0],\n",
       " 'smashed': [0, 0, 0, 1],\n",
       " 'increased': [0, 0, 1, 0],\n",
       " 'floated': [0, 0, 0, 1],\n",
       " 'bombed': [0, 0, 0, 1],\n",
       " 'hunted': [0, 0, 0, 1],\n",
       " 'tempted': [0, 0, 0, 1],\n",
       " 'hoped': [0, 1, 0, 0],\n",
       " 'rushed': [0, 0, 0, 1],\n",
       " 'flew': [0, 0, 0, 1],\n",
       " 'rested': [0, 0, 1, 0],\n",
       " 'offended': [0, 0, 1, 0],\n",
       " 'succeeded': [0, 0, 0, 1],\n",
       " 'warned': [0, 0, 1, 0]}"
      ]
     },
     "execution_count": 9,
     "metadata": {},
     "output_type": "execute_result"
    }
   ],
   "source": [
    "model_choices = dict()\n",
    "with open(\"results/exp01a_\"+model_name+\".txt\", \"r\") as f_in:\n",
    "    lines = f_in.readlines()\n",
    "\n",
    "for idx,line in enumerate(lines):\n",
    "    if idx == 0:\n",
    "        continue\n",
    "    parts = line.split(\"\\t\")\n",
    "    parts[-1].replace(\"\\n\",\"\")\n",
    "    model_choices[parts[0]] = [int(x) for x in parts[1:]]\n",
    "\n",
    "model_choices"
   ]
  },
  {
   "cell_type": "code",
   "execution_count": 32,
   "metadata": {},
   "outputs": [
    {
     "data": {
      "image/png": "[encoded data removed]",
      "text/plain": [
       "<Figure size 300x800 with 2 Axes>"
      ]
     },
     "metadata": {},
     "output_type": "display_data"
    }
   ],
   "source": [
    "import matplotlib.pyplot as plt\n",
    "\n",
    "# Example data (replace this with your actual dictionaries)\n",
    "dict1 = richardson_categorial\n",
    "\n",
    "dict2 = model_choices\n",
    "\n",
    "# Create an empty matrix to store the sums\n",
    "matrix = np.zeros((30, 4), dtype=int)\n",
    "\n",
    "# Iterate through the keys in both dictionaries and calculate the sums\n",
    "for i, key in enumerate(dict1.keys()):\n",
    "    values1 = dict1[key]\n",
    "    values2 = dict2[key]\n",
    "    sum_values = [x + y for x, y in zip(values1, values2)]\n",
    "    matrix[i] = sum_values\n",
    "\n",
    "\n",
    "# Set up the color map for the plot\n",
    "cmap = plt.cm.colors.ListedColormap(['white', '#D98880', '#82E0AA'])\n",
    "bounds = [0, 1, 2, 3]  # Values correspond to colors: 0 (white), 1 (red), 2 (green)\n",
    "norm = plt.cm.colors.BoundaryNorm(bounds, cmap.N)\n",
    "\n",
    "# Create the plot and set the size\n",
    "plt.figure(figsize=(3, 8))  # Adjust the size as needed\n",
    "\n",
    "# Create the plot\n",
    "plt.imshow(matrix, interpolation='nearest', cmap=cmap, norm=norm, aspect='auto')\n",
    "\n",
    "# Set the row labels as the keys of the dictionaries\n",
    "plt.yticks(np.arange(len(dict1)), dict1.keys())\n",
    "\n",
    "# Set the column labels (optional)\n",
    "plt.xticks(np.arange(4), [\"◯↑▢\",\"◯↓▢\",\"◯←▢\",\"◯→▢\"])\n",
    "\n",
    "plt.title(model_name)\n",
    "\n",
    "# Add horizontal and vertical lines to create the grid between colored boxes\n",
    "for i in range(matrix.shape[0] - 1):\n",
    "    if i % 5 == 0:\n",
    "        plt.hlines(i-1 + 0.5, -0.5, matrix.shape[1] - 0.5, color='grey', linewidth=2)\n",
    "    plt.hlines(i + 0.5, -0.5, matrix.shape[1] - 0.5, color='grey', linewidth=1)\n",
    "\n",
    "for j in range(matrix.shape[1] - 1):\n",
    "    plt.vlines(j + 0.5, -0.5, matrix.shape[0] - 0.5, color='grey', linewidth=1)\n",
    "\n",
    "\n",
    "# Show the color bar\n",
    "cbar = plt.colorbar(shrink=0.25) \n",
    "cbar.set_ticks([0.5, 1.5, 2.5])\n",
    "cbar.set_ticklabels(['No Choice', 'Max Choice', 'Max Choice Both'])\n",
    "\n",
    "\n",
    "# Add text annotations for custom labels \"Hu\" and \"Ai\"\n",
    "for i in range(matrix.shape[0]):\n",
    "    for j in range(matrix.shape[1]):\n",
    "        value = matrix[i, j]\n",
    "        if value == 1:\n",
    "            if dict1[list(dict1.keys())[i]][j] == 1:\n",
    "                plt.text(j, i, 'Hu', ha='center', va='center', fontsize=10, color='black')\n",
    "            else:\n",
    "                plt.text(j, i, 'Ai', ha='center', va='center', fontsize=10, color='black')\n",
    "        elif value == 2:\n",
    "            plt.text(j, i, 'HuAi', ha='center', va='center', fontsize=10, color='black')\n",
    "\n",
    "\n",
    "# Display the plot\n",
    "plt.show()\n"
   ]
  },
  {
   "cell_type": "code",
   "execution_count": 22,
   "metadata": {},
   "outputs": [],
   "source": [
    "# todo:\n",
    "# - sort them according to table in paper\n",
    "# - include numeric results as sums of columns"
   ]
  }
 ],
 "metadata": {
  "kernelspec": {
   "display_name": "schemas",
   "language": "python",
   "name": "python3"
  },
  "language_info": {
   "codemirror_mode": {
    "name": "ipython",
    "version": 3
   },
   "file_extension": ".py",
   "mimetype": "text/x-python",
   "name": "python",
   "nbconvert_exporter": "python",
   "pygments_lexer": "ipython3",
   "version": "3.8.17"
  },
  "orig_nbformat": 4
 },
 "nbformat": 4,
 "nbformat_minor": 2
}
